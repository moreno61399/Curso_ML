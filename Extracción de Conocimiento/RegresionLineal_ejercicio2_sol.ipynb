{
 "cells": [
  {
   "cell_type": "markdown",
   "metadata": {
    "deletable": false,
    "editable": false,
    "nbgrader": {
     "cell_type": "markdown",
     "checksum": "84735c3fbfe12b07d134b1c5aa1a774f",
     "grade": false,
     "grade_id": "cell-9b07f281a01a01e3",
     "locked": true,
     "schema_version": 3,
     "solution": false
    }
   },
   "source": [
    "## Ejercicio 2 - Regresión lineal\n",
    "\n",
    "- [Regresión lineal con varias variables](#Regresión-lineal-con-varias-variables)\n",
    "- [Descenso por gradiente](#Descenso-por-gradiente)"
   ]
  },
  {
   "cell_type": "code",
   "execution_count": null,
   "metadata": {
    "deletable": false,
    "editable": false,
    "nbgrader": {
     "cell_type": "code",
     "checksum": "fa4be39b96cba5883c80090b778cd9b5",
     "grade": false,
     "grade_id": "cell-0c82d22d8dbc9b5a",
     "locked": true,
     "schema_version": 3,
     "solution": false
    }
   },
   "outputs": [],
   "source": [
    "# %load ../../standard_import.txt\n",
    "import pandas as pd\n",
    "import numpy as np\n",
    "import matplotlib.pyplot as plt\n",
    "from nose.tools import assert_equal\n",
    "\n",
    "pd.set_option('display.notebook_repr_html', False)\n",
    "pd.set_option('display.max_columns', None)\n",
    "pd.set_option('display.max_rows', 150)\n",
    "pd.set_option('display.max_seq_items', None)\n",
    " \n",
    "#%config InlineBackend.figure_formats = {'pdf',}\n",
    "%matplotlib inline  "
   ]
  },
  {
   "cell_type": "markdown",
   "metadata": {
    "deletable": false,
    "editable": false,
    "nbgrader": {
     "cell_type": "markdown",
     "checksum": "ecea6dd4572327d24a976f968d5e4bc6",
     "grade": false,
     "grade_id": "cell-0291b39123b82943",
     "locked": true,
     "schema_version": 3,
     "solution": false
    }
   },
   "source": [
    "### Regresión lineal con varias variables"
   ]
  },
  {
   "cell_type": "markdown",
   "metadata": {
    "deletable": false,
    "editable": false,
    "nbgrader": {
     "cell_type": "markdown",
     "checksum": "c7171beef1498bf6253ef5319161fbde",
     "grade": false,
     "grade_id": "cell-936d77d1ba87cf99",
     "locked": true,
     "schema_version": 3,
     "solution": false
    }
   },
   "source": [
    "En el segundo ejercicio vamos a tratar un problema de regresión lineal de varias variables de entrada. En este caso van a ser 2 pero podría usarse para cualquier número de variables de entrada.\n",
    "\n",
    "Para ello, en primer lugar se debe leer los datos almacenados en el fichero ex1data2.txt mediante la función loadtxt de NumPy. Los datos contenidos en este fichero corresponden a un problema en el que se debe predecir el valor de una casa en base a su pies cuadrados y su número de habitaciones. En este fichero está almacenado el histórico de las casas valoradas en la actualidad. La primera columna corresponde al número de pies cuadrados, la segunda al número de habitaciones y la tercera a la valoración realizada.\n"
   ]
  },
  {
   "cell_type": "code",
   "execution_count": null,
   "metadata": {
    "deletable": false,
    "editable": false,
    "nbgrader": {
     "cell_type": "code",
     "checksum": "3d497ad558bdabbadeb3f9a2e8b936e8",
     "grade": false,
     "grade_id": "cell-ce8112bb389ec699",
     "locked": true,
     "schema_version": 3,
     "solution": false
    }
   },
   "outputs": [],
   "source": [
    "data = np.loadtxt('ex1data2.txt', delimiter=',')"
   ]
  },
  {
   "cell_type": "markdown",
   "metadata": {
    "deletable": false,
    "editable": false,
    "nbgrader": {
     "cell_type": "markdown",
     "checksum": "233241d59931878aa42ce795cfa0d781",
     "grade": false,
     "grade_id": "cell-9004cd9e646257a8",
     "locked": true,
     "schema_version": 3,
     "solution": false
    }
   },
   "source": [
    "En este caso debemos estandarizar las variables ya que los rangos de las mismas son muy diferentes e introduciríamos un bias en favor del número de pies cuadrados.\n",
    "\n",
    "Para estandarizar los datos tenéis que definir una función llamada estandarizar que para cada variable debéis hacer el siguiente proceso:\n",
    "* Calcular la media de los valores de la variable para todas las instancias\n",
    "* Calcular la desviación estándar de los valores de la variable para todas las instancias\n",
    "* A cada valor se le debe restar la media y el resultado dividirlo por la desviación estándar\n",
    "* Devolver los datos estandarizados así como la media y la desviación estándar calculadas"
   ]
  },
  {
   "cell_type": "code",
   "execution_count": null,
   "metadata": {
    "deletable": false,
    "nbgrader": {
     "cell_type": "code",
     "checksum": "621228fffafa6f3d528658251bbeb7c6",
     "grade": false,
     "grade_id": "cell-6be6ad7333dabbd4",
     "locked": false,
     "schema_version": 3,
     "solution": true
    }
   },
   "outputs": [],
   "source": [
    "def estandarizar(datos):\n",
    "    # Debemos crear una copia de los datos para que no se pierdan sus valores originales\n",
    "    datosEstandarizados = np.copy(datos)\n",
    "    # Calculamos la media y desviación por columnas y estandarizamos los datos\n",
    "    # YOUR CODE HERE\n",
    "    raise NotImplementedError()\n",
    "    return datosEstandarizados, media, desv"
   ]
  },
  {
   "cell_type": "markdown",
   "metadata": {
    "deletable": false,
    "editable": false,
    "nbgrader": {
     "cell_type": "markdown",
     "checksum": "0ae9d84b98f24bcbbc4b9ffef60e9635",
     "grade": false,
     "grade_id": "cell-710bf1870a11c3e9",
     "locked": true,
     "schema_version": 3,
     "solution": false
    }
   },
   "source": [
    "Para estandarizar nuevos datos de test se debe realizar el mismo proceso que en el caso anterior pero, como son datos nuevos (datos de test), tenemos que utilizar la media y la desviación estándar obtenidas con los datos de entrenamiento. De esta forma la estandarización se realizará para todos los datos en las mismas condiciones. \n",
    "\n",
    "Definir una función que estandarice nuevos datos de test. Para ello se aplica la misma ecuación que para la función anterior pero utilizando la media y la desviación estándar pasadas como parámetros de entrada (serán las obtenidas con el conjunto de entrenamiento). La función devuelve los nuevos datos estandarizados."
   ]
  },
  {
   "cell_type": "code",
   "execution_count": null,
   "metadata": {
    "deletable": false,
    "nbgrader": {
     "cell_type": "code",
     "checksum": "b23ba62ae27f9d776fecf241bb70cb2d",
     "grade": false,
     "grade_id": "cell-52ec3992ccb6347f",
     "locked": false,
     "schema_version": 3,
     "solution": true
    }
   },
   "outputs": [],
   "source": [
    "def estandarizarTest(datos, media, desv):\n",
    "    # Debemos crear una copia de los datos para que no se pierdan sus valores originales\n",
    "    datosEstandarizados = np.copy(datos)\n",
    "    # Estandarizamos los datos\n",
    "    # YOUR CODE HERE\n",
    "    raise NotImplementedError()\n",
    "    return datosEstandarizados"
   ]
  },
  {
   "cell_type": "markdown",
   "metadata": {
    "deletable": false,
    "editable": false,
    "nbgrader": {
     "cell_type": "markdown",
     "checksum": "8c8581d72e6730a5e453afd1c894f313",
     "grade": false,
     "grade_id": "cell-8016b7233d1b7414",
     "locked": true,
     "schema_version": 3,
     "solution": false
    }
   },
   "source": [
    "Ahora debéis utilizar la función estandarizar para realizar la estandarización de los datos de entrada almacenados en la variable data y almacenar los datos estandarizados en una variable llamada entrada así como la media y la desviación estándar calculadas con estos datos de entrenamiento."
   ]
  },
  {
   "cell_type": "code",
   "execution_count": null,
   "metadata": {
    "deletable": false,
    "nbgrader": {
     "cell_type": "code",
     "checksum": "6309a0f1c150dc5124126d89f6af15e2",
     "grade": false,
     "grade_id": "cell-753d91c4814fb4e2",
     "locked": false,
     "schema_version": 3,
     "solution": true
    }
   },
   "outputs": [],
   "source": [
    "# entrada, media, desv = #<RELLENAR>\n",
    "# YOUR CODE HERE\n",
    "raise NotImplementedError()"
   ]
  },
  {
   "cell_type": "markdown",
   "metadata": {
    "deletable": false,
    "editable": false,
    "nbgrader": {
     "cell_type": "markdown",
     "checksum": "cf4bf3fe8b717870c5a4b616808a879b",
     "grade": false,
     "grade_id": "cell-b74a2df2f3da0d7a",
     "locked": true,
     "schema_version": 3,
     "solution": false
    }
   },
   "source": [
    "A continuación debéis crear los datos de entrada (X) y de salida (y) para poder realizar el aprendizaje de los parámetros de la regresión lineal ($\\theta$). Recordar que la primera columna de los datos de entrada debe estar compuesta por unos para multiplicar al término independiente de la regresión lineal. Por tanto, la variable X estará compuesta por tantas columnas como variables de entrada más una (la de unos). En este caso serán 3 columnas."
   ]
  },
  {
   "cell_type": "code",
   "execution_count": null,
   "metadata": {
    "deletable": false,
    "nbgrader": {
     "cell_type": "code",
     "checksum": "f996dcd7fd3a850dcf4344f85e52b090",
     "grade": false,
     "grade_id": "cell-cee384353caa5374",
     "locked": false,
     "schema_version": 3,
     "solution": true
    }
   },
   "outputs": [],
   "source": [
    "# # X = #<RELLENAR>\n",
    "# y = #<RELLENAR> \n",
    "# YOUR CODE HERE\n",
    "raise NotImplementedError()\n",
    "print(X[:5,:])\n",
    "print(y[:5])"
   ]
  },
  {
   "cell_type": "markdown",
   "metadata": {
    "deletable": false,
    "editable": false,
    "nbgrader": {
     "cell_type": "markdown",
     "checksum": "b040865c0673a4a410f7acc8c3051dfd",
     "grade": false,
     "grade_id": "cell-c07e8f54cc7409ae",
     "locked": true,
     "schema_version": 3,
     "solution": false
    }
   },
   "source": [
    "#### Descenso por gradiente\n",
    "\n",
    "A continuación debéis pensar si es necesario cambiar la función de coste programada en el primer ejercicio.\n",
    "\n",
    "Recordar que la función de coste es: $J(\\theta) = \\frac{1}{2m}\\sum_{i=1}^m \\left(h_{\\theta}\\left(x^{(i)}\\right)-y^{(i)}\\right)^2$\n"
   ]
  },
  {
   "cell_type": "code",
   "execution_count": null,
   "metadata": {
    "deletable": false,
    "nbgrader": {
     "cell_type": "code",
     "checksum": "9647d67d9ca8f735833b935eae121ec4",
     "grade": false,
     "grade_id": "cell-43a2f202b69805e6",
     "locked": false,
     "schema_version": 3,
     "solution": true
    }
   },
   "outputs": [],
   "source": [
    "def computeCost(X, y, theta):\n",
    "    m = y.size\n",
    "    J = 0\n",
    "    \n",
    "    h = X.dot(theta)\n",
    "    \n",
    "#     J = #<RELLENAR>\n",
    "    # YOUR CODE HERE\n",
    "    raise NotImplementedError()\n",
    "    \n",
    "    return(J)"
   ]
  },
  {
   "cell_type": "markdown",
   "metadata": {
    "deletable": false,
    "editable": false,
    "nbgrader": {
     "cell_type": "markdown",
     "checksum": "8f186c314158ea88c7d3e062717fc4ee",
     "grade": false,
     "grade_id": "cell-814751481429b2f2",
     "locked": true,
     "schema_version": 3,
     "solution": false
    }
   },
   "source": [
    "Vamos a comprobar si la función de coste está bien hecha. \n",
    "\n",
    "Recordar que debéis crear los valores iniciales de los parámetros de la regresión lineal como un array columna de ceros (lista de listas de un elemento). Luego, debéis llamar a la función computeCost con los datos de entrada (X), de salida (y) y los parámetros del modelo ($\\theta$). Almacenar el resultado en la variable resultado.\n",
    "\n",
    "Imprimir en pantalla el resultado y comprobar si es correcto."
   ]
  },
  {
   "cell_type": "code",
   "execution_count": null,
   "metadata": {
    "deletable": false,
    "nbgrader": {
     "cell_type": "code",
     "checksum": "a8fcc4ef6ac1bbeeac69a0fe1dbd5bb6",
     "grade": false,
     "grade_id": "cell-8cd2de40948e63bc",
     "locked": false,
     "schema_version": 3,
     "solution": true
    }
   },
   "outputs": [],
   "source": [
    "# theta = #<RELLENAR>\n",
    "# resultado = #<RELLENAR>\n",
    "# YOUR CODE HERE\n",
    "raise NotImplementedError()\n",
    "print(resultado)"
   ]
  },
  {
   "cell_type": "code",
   "execution_count": null,
   "metadata": {
    "deletable": false,
    "editable": false,
    "nbgrader": {
     "cell_type": "code",
     "checksum": "d5ffefa14e4bf0add520b673f4fabbb1",
     "grade": true,
     "grade_id": "cell-c7b67ed5de618d18",
     "locked": true,
     "points": 3,
     "schema_version": 3,
     "solution": false
    }
   },
   "outputs": [],
   "source": [
    "# ESTA CELDA DARÁ ERROR SI EL RESULTADO NO ES CORRECTO\n",
    "    # EN CASO CONTRARIO NO TENDRÁ SALIDA\n",
    "assert_equal(round(resultado, 1), 65591548106.5)"
   ]
  },
  {
   "cell_type": "markdown",
   "metadata": {
    "deletable": false,
    "editable": false,
    "nbgrader": {
     "cell_type": "markdown",
     "checksum": "5f4de51fc73579bee70fcc38360a2dd7",
     "grade": false,
     "grade_id": "cell-5c95d8cb0ae8eb1a",
     "locked": true,
     "schema_version": 3,
     "solution": false
    }
   },
   "source": [
    "Ahora debéis pensar si es necesario modificar la función que realiza el descenso por gradiente para realizar el aprendizaje de los parámetros de la regresión lineal en base a los datos."
   ]
  },
  {
   "cell_type": "code",
   "execution_count": null,
   "metadata": {
    "deletable": false,
    "editable": false,
    "nbgrader": {
     "cell_type": "code",
     "checksum": "3b908ca008ffd8ef4d3837ef93467252",
     "grade": false,
     "grade_id": "cell-c8edf0d8540102c4",
     "locked": true,
     "schema_version": 3,
     "solution": false
    }
   },
   "outputs": [],
   "source": [
    "def gradientDescent(X, y, theta, alpha=0.01, num_iters=1500):\n",
    "    m = y.size\n",
    "    J_history = np.zeros(num_iters)\n",
    "    \n",
    "    for iter in np.arange(num_iters):\n",
    "        h = X.dot(theta)\n",
    "        theta = theta - alpha*(1.0/m)*(X.T.dot(h-y))\n",
    "        J_history[iter] = computeCost(X, y, theta)\n",
    "    return(theta, J_history)"
   ]
  },
  {
   "cell_type": "markdown",
   "metadata": {
    "deletable": false,
    "editable": false,
    "nbgrader": {
     "cell_type": "markdown",
     "checksum": "37794f240ae2fb925c60f4222d5ae838",
     "grade": false,
     "grade_id": "cell-3c3ae7832cced5c2",
     "locked": true,
     "schema_version": 3,
     "solution": false
    }
   },
   "source": [
    "Realizar el aprendizaje llamando a la función gradientDescent con los valores de entrada (X), los de salida (y) y los valores iniciales de los parámetros del modelo ($\\theta$), inicializados a cero anteriormente.\n",
    "\n",
    "A continuación se muestran por pantalla y se comprueba si son correctos.\n",
    "\n",
    "Finalmente, se muestra la gráfica de la evolución del error con respecto a las iteraciones del descenso por gradiente."
   ]
  },
  {
   "cell_type": "code",
   "execution_count": null,
   "metadata": {
    "deletable": false,
    "nbgrader": {
     "cell_type": "code",
     "checksum": "b2937407a1b96cfd91296daed29e077e",
     "grade": false,
     "grade_id": "cell-d931b676f264556d",
     "locked": false,
     "schema_version": 3,
     "solution": true
    }
   },
   "outputs": [],
   "source": [
    "# theta for minimized cost J\n",
    "# theta, Cost_J = #<RELLENAR>\n",
    "# YOUR CODE HERE\n",
    "raise NotImplementedError()\n",
    "print('theta: ',theta.ravel())\n",
    "\n",
    "plt.plot(Cost_J)\n",
    "plt.ylabel('Cost J')\n",
    "plt.xlabel('Iterations');"
   ]
  },
  {
   "cell_type": "code",
   "execution_count": null,
   "metadata": {
    "deletable": false,
    "editable": false,
    "nbgrader": {
     "cell_type": "code",
     "checksum": "f865734d7e9007da06b6ee6d2adfbfcb",
     "grade": true,
     "grade_id": "cell-92efc96ef80b48a3",
     "locked": true,
     "points": 6,
     "schema_version": 3,
     "solution": false
    }
   },
   "outputs": [],
   "source": [
    "# ESTA CELDA DARÁ ERROR SI EL RESULTADO NO ES CORRECTO\n",
    "    # EN CASO CONTRARIO NO TENDRÁ SALIDA\n",
    "assert_equal(list(map(lambda ind: round(ind, 5), list(theta.ravel()))), [340412.56301,  109370.05670,   -6500.61510])"
   ]
  },
  {
   "cell_type": "markdown",
   "metadata": {
    "deletable": false,
    "editable": false,
    "nbgrader": {
     "cell_type": "markdown",
     "checksum": "50adc86941c45ff3759f1789a2b6aae0",
     "grade": false,
     "grade_id": "cell-e1e74aa15d833b0a",
     "locked": true,
     "schema_version": 3,
     "solution": false
    }
   },
   "source": [
    "Realizar el aprendizaje utilizando el paquete de regresión lineal contenido en la librería scikit-learn de Python."
   ]
  },
  {
   "cell_type": "code",
   "execution_count": null,
   "metadata": {
    "deletable": false,
    "nbgrader": {
     "cell_type": "code",
     "checksum": "73c3857bb1d23e94183f213589fb0804",
     "grade": false,
     "grade_id": "cell-1746eb9c846022c3",
     "locked": false,
     "schema_version": 3,
     "solution": true
    }
   },
   "outputs": [],
   "source": [
    "#se importa de la libreria scikit-learn de python (sklearn) el paquete correspondiente a la regresión lineal\n",
    "from sklearn.linear_model import LinearRegression\n",
    "\n",
    "# Se incializa el modelo llamando al constructor de la regresión lineal: todos los parámetros se asignan a sus valores por defecto\n",
    "regr = LinearRegression()\n",
    "# Se entrena el modelo (aprendizaje) utilizando la variable de entrada sin los unos X[:,1] y la variable de salida (y)\n",
    "# regr.fit(#<RELLENAR>)\n",
    "# YOUR CODE HERE\n",
    "raise NotImplementedError()"
   ]
  },
  {
   "cell_type": "markdown",
   "metadata": {
    "deletable": false,
    "editable": false,
    "nbgrader": {
     "cell_type": "markdown",
     "checksum": "bd29323aa6fd1921b84ed07095fbbe3d",
     "grade": false,
     "grade_id": "cell-55f3c9f466c02a80",
     "locked": true,
     "schema_version": 3,
     "solution": false
    }
   },
   "source": [
    "Predecir el valor de una casa de 1500 pies cuadrados cuadrados y 4 habitaciones. Como es un nuevo dato (test) se debe estandarizar con la función de estandarización de nuevos datos y utilizando la media y la desviación estándar de los datos de entrenamiento calculados previamente.\n",
    "\n",
    "Predecir el valor de la casa utilizando el modelo aprendido con scikit-learn (función predict).\n"
   ]
  },
  {
   "cell_type": "code",
   "execution_count": null,
   "metadata": {
    "deletable": false,
    "nbgrader": {
     "cell_type": "code",
     "checksum": "ff7dde80ddc7f4904febbab106bd4bd9",
     "grade": false,
     "grade_id": "cell-237c00519e6f591c",
     "locked": false,
     "schema_version": 3,
     "solution": true
    }
   },
   "outputs": [],
   "source": [
    "# Obtén la predicción para una casa de 1500 pies cuadrados y 4 habitaciones\n",
    "# valorCasa = #<RELLENAR>\n",
    "# YOUR CODE HERE\n",
    "raise NotImplementedError()\n",
    "\n",
    "print(valorCasa)"
   ]
  },
  {
   "cell_type": "code",
   "execution_count": null,
   "metadata": {
    "deletable": false,
    "editable": false,
    "nbgrader": {
     "cell_type": "code",
     "checksum": "5d112748a5f10db4f0e072eaa6fa8319",
     "grade": true,
     "grade_id": "cell-e40f1d3184f44787",
     "locked": true,
     "points": 4,
     "schema_version": 3,
     "solution": false
    }
   },
   "outputs": [],
   "source": [
    "# ESTA CELDA DARÁ ERROR SI EL RESULTADO NO ES CORRECTO\n",
    "    # EN CASO CONTRARIO NO TENDRÁ SALIDA\n",
    "assert_equal(round(valorCasa[0], 4), 263461.8441)"
   ]
  },
  {
   "cell_type": "code",
   "execution_count": null,
   "metadata": {},
   "outputs": [],
   "source": []
  }
 ],
 "metadata": {
  "kernelspec": {
   "display_name": "Python [conda env:py37machlearn] *",
   "language": "python",
   "name": "conda-env-py37machlearn-py"
  },
  "language_info": {
   "codemirror_mode": {
    "name": "ipython",
    "version": 3
   },
   "file_extension": ".py",
   "mimetype": "text/x-python",
   "name": "python",
   "nbconvert_exporter": "python",
   "pygments_lexer": "ipython3",
   "version": "3.7.4"
  }
 },
 "nbformat": 4,
 "nbformat_minor": 1
}
