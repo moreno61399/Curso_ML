{
 "cells": [
  {
   "cell_type": "markdown",
   "metadata": {},
   "source": [
    "# Practica algoritmo k-means "
   ]
  },
  {
   "cell_type": "code",
   "execution_count": 4,
   "metadata": {},
   "outputs": [],
   "source": [
    "import numpy as np\n",
    "import matplotlib.pyplot as plt"
   ]
  },
  {
   "cell_type": "code",
   "execution_count": 5,
   "metadata": {},
   "outputs": [
    {
     "name": "stdout",
     "output_type": "stream",
     "text": [
      "El numero de ejemplos y su dimension es 198x2\n"
     ]
    }
   ],
   "source": [
    "#Cargar la matriz de datos X\n",
    "X = np.loadtxt('ex3K.txt',delimiter=',')\n",
    "#Mostrar las dimensiones (n) y el numero de ejemplos (m)\n",
    "m = X.shape[0]\n",
    "n = X.shape[1]\n",
    "print \"El numero de ejemplos y su dimension es {}x{}\".format(m,n)"
   ]
  },
  {
   "cell_type": "code",
   "execution_count": 6,
   "metadata": {},
   "outputs": [
    {
     "data": {
      "image/png": "[encoded data removed]",
      "text/plain": [
       "<Figure size 432x288 with 1 Axes>"
      ]
     },
     "metadata": {
      "needs_background": "light"
     },
     "output_type": "display_data"
    }
   ],
   "source": [
    "plt.scatter(X[:,0], X[:,1])\n",
    "plt.grid(True)\n",
    "plt.show()"
   ]
  },
  {
   "cell_type": "markdown",
   "metadata": {},
   "source": [
    "Implementación del algoritmo K-means. Primero vamos a inicializar todas las variables que necesitamos.\n",
    "- k va a ser el número de clústeres\n",
    "- centroids va a ser un vector en el que estarán los centroides iniciales, por lo tanto tiene que ser de dimensión Kxn. Vamos a crear centroides aleatorios. Para que estén dentro del rango de los datos puedes partir del centro de los datos y añadir o restar valores aleatorios.\n",
    "- c es un vector en el que aparecerá el número del cluster al que está asignado cada elemento\n",
    "- J es un vector en el que vamos a ir guardando los valores de la función objetivo"
   ]
  },
  {
   "cell_type": "code",
   "execution_count": null,
   "metadata": {},
   "outputs": [],
   "source": [
    "k = \n",
    "centroids = \n",
    "c = \n",
    "\n",
    "plt.scatter(X[:,0], X[:,1])\n",
    "plt.scatter(centroids[:,0], centroids[:,1])\n",
    "plt.grid(True)\n",
    "plt.show()"
   ]
  },
  {
   "cell_type": "markdown",
   "metadata": {},
   "source": [
    "Una vez que hemos inicializado las variables necesarias, vamos a crear dos funciones, una que llamaremos asigna, que se encarga de asignar, es decir de poner en el vector c, a cada elemento el cluster más cercano (los clústeres los llamaremos 1, 2, 3, etc.). La otra función que llamaremos actualiza, será la encargada de calcular la posición de los nuevos centroides, si nos dan un nuevo vector c."
   ]
  },
  {
   "cell_type": "markdown",
   "metadata": {},
   "source": [
    "Crea una función \"asigna\" a la se le pasen como parámetros los ejemplos y los centroides y devuelva un vector c en el que aparezca el cluster más cercano, es decir el cluster cuyo centroide este a una distancia euclidea mínima."
   ]
  },
  {
   "cell_type": "code",
   "execution_count": null,
   "metadata": {},
   "outputs": [],
   "source": [
    "def asigna(datos, centroides):\n",
    "\n",
    "    return c\n",
    "                 "
   ]
  },
  {
   "cell_type": "markdown",
   "metadata": {},
   "source": [
    "Comprobamos la función asigna:"
   ]
  },
  {
   "cell_type": "code",
   "execution_count": null,
   "metadata": {},
   "outputs": [],
   "source": [
    "c = asigna(X,centroids)\n",
    "plt.scatter(X[:,0], X[:,1], c = c)\n",
    "plt.grid(True)\n",
    "plt.show() "
   ]
  },
  {
   "cell_type": "markdown",
   "metadata": {},
   "source": [
    "Crea una función \"actualiza\" a la que se le pasen como parámetros los ejemplos, el vector c (el vector que muestra el cluster al que está asignado cada ejemplo) y el número de clústeres que estamos buscando y devuelva un vector con los valores de los centroides."
   ]
  },
  {
   "cell_type": "code",
   "execution_count": null,
   "metadata": {},
   "outputs": [],
   "source": [
    "def actualiza(datos, centroides, c, k):\n",
    "\n",
    "    return centroides\n",
    "\n",
    "  "
   ]
  },
  {
   "cell_type": "markdown",
   "metadata": {},
   "source": [
    "Comprobamos la función actualiza:"
   ]
  },
  {
   "cell_type": "code",
   "execution_count": null,
   "metadata": {
    "collapsed": true
   },
   "outputs": [],
   "source": [
    "print centroids\n",
    "centroids = actualiza(X,centroids, c,k)\n",
    "print centroids \n",
    "\n",
    "plt.scatter(centroids[:,0], centroids[:,1])\n",
    "plt.grid(True)\n",
    "plt.show() "
   ]
  },
  {
   "cell_type": "markdown",
   "metadata": {},
   "source": [
    "Ahora vamos a crear una función que calcule el valor de la función objetivo, dados unos ejemplos, unos centroides y un vector de asignaciones."
   ]
  },
  {
   "cell_type": "code",
   "execution_count": null,
   "metadata": {
    "collapsed": true
   },
   "outputs": [],
   "source": [
    "def coste(datos, centroides, c):\n",
    "\n",
    "    return coste\n",
    "        "
   ]
  },
  {
   "cell_type": "markdown",
   "metadata": {},
   "source": [
    "Finalmente creamos el algoritmo. Primero vamos a ejecutarlo con un número de iteraciones fijo (iter = 10). Imprime en una gráfica el valor la función objetivo para ver que ésta decrece y por lo tanto el algoritmo está convergiendo."
   ]
  },
  {
   "cell_type": "code",
   "execution_count": null,
   "metadata": {},
   "outputs": [],
   "source": [
    "# Algoritmo k-means\n",
    "\n",
    "plt.scatter(X[:,0], X[:,1],c=c)\n",
    "plt.show()\n",
    "\n",
    "print(centroids)\n",
    "\n",
    "plt.plot(J)\n",
    "plt.show()\n"
   ]
  },
  {
   "cell_type": "markdown",
   "metadata": {},
   "source": [
    "Ya hemos conseguido que el algoritmo k-means funcione. Ahora debes crear una función que ejecute el algoritmo k-means con cien inicializaciones aleatorias diferentes y devuelva los centroides y el vector c de la solución con menor valor de la función objetivo."
   ]
  },
  {
   "cell_type": "code",
   "execution_count": null,
   "metadata": {
    "collapsed": true
   },
   "outputs": [],
   "source": [
    "def ejecutaKmeans(X,k):\n",
    "    \n",
    "    return Jfin, centroids, c  "
   ]
  },
  {
   "cell_type": "markdown",
   "metadata": {},
   "source": [
    "El último paso es comprobar mediante medidas de cluster validity, cuantos clusteres forman realmente los datos. Para encontrar la partición correcta  vamos a utilizar el índice Davies–Bouldin y el de silueta que están implementados en la libreria scikit-learn. Las dos funciones tienen los mismos argumentos, X un conjunto de datos y cluster_labels un vector con el cluster al que pertenece cada ejemplo (vector c de la función asigna).\n",
    "val = silhouette_score(X, cluster_labels)\n",
    "cal = davies_bouldin_score(X, cluster_labels)"
   ]
  },
  {
   "cell_type": "markdown",
   "metadata": {},
   "source": [
    "Comprueba para cada conjunto de datos (ex3K.txt, ex4K.txt, ex5K.txt, ex6K.txt, ..), si el valor de mínimo de índice Davies–Bouldin (para k=2, 3, 4, .., 8)  y el máximo de silueta coincide con el número de clústeres que hay realmente en el conjunto de datos."
   ]
  },
  {
   "cell_type": "code",
   "execution_count": null,
   "metadata": {},
   "outputs": [],
   "source": [
    "from sklearn.metrics import davies_bouldin_score\n",
    "from sklearn.metrics import silhouette_samples, silhouette_score\n",
    "\n",
    "n_clusters = [2, 3, 4, 5, 6, 7, 8]\n"
   ]
  }
 ],
 "metadata": {
  "kernelspec": {
   "display_name": "Python 3",
   "language": "python",
   "name": "python3"
  },
  "language_info": {
   "codemirror_mode": {
    "name": "ipython",
    "version": 3
   },
   "file_extension": ".py",
   "mimetype": "text/x-python",
   "name": "python",
   "nbconvert_exporter": "python",
   "pygments_lexer": "ipython3",
   "version": "3.7.4"
  }
 },
 "nbformat": 4,
 "nbformat_minor": 2
}
