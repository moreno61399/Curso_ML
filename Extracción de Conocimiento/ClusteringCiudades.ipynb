{
 "cells": [
  {
   "cell_type": "markdown",
   "metadata": {},
   "source": [
    "# Clustering de datos no numéricos"
   ]
  },
  {
   "cell_type": "markdown",
   "metadata": {},
   "source": [
    "Vamos a suponer que trabajamos en una agencia de viajes y queremos agrupar la publicidad según grupos de ciudades que consideramos parecidas. El criterio para agrupar no tiene que ser territorial, sino de tipo de actividades que ofrece, tipología de turistas que van a ellas, etc.\n",
    "\n",
    "Las ciudades son: Atenas, Londres, París, Nueva York, Roma, Melbourne y Dubai.\n",
    "\n",
    "En el vector Ydist debes completar lo parecidas que crees que son dos ciudades (por ejemplo 1 si son muy parecidas o 0 si crees que no tienen nada que ver una con otra).\n",
    "\n",
    "El orden de completar el vector es Atenas vs Londres, Atenas vs París, Atenas vs Nueva York, Atenas vs Roma, Atenas vs Melbourne, Atenas vs Dubai, Londres vs París, Londres vs Nueva York, .... , Melbourne vs Dubai."
   ]
  },
  {
   "cell_type": "code",
   "execution_count": 1,
   "metadata": {},
   "outputs": [],
   "source": [
    "from scipy.cluster import hierarchy\n",
    "import matplotlib.pyplot as plt\n",
    "import numpy as np"
   ]
  },
  {
   "cell_type": "code",
   "execution_count": 2,
   "metadata": {},
   "outputs": [],
   "source": [
    "ciudades = np.array(['Atenas', 'Londres', 'Paris', 'Nueva York', 'Roma', 'Melbourne', 'Dubai'])   "
   ]
  },
  {
   "cell_type": "code",
   "execution_count": 32,
   "metadata": {},
   "outputs": [],
   "source": [
    "Ydist = np.zeros(int(ciudades.size**2-ciudades.size)//2)"
   ]
  },
  {
   "cell_type": "code",
   "execution_count": 33,
   "metadata": {},
   "outputs": [
    {
     "name": "stdout",
     "output_type": "stream",
     "text": [
      "(21,)\n"
     ]
    }
   ],
   "source": [
    "print(Ydist.shape)"
   ]
  },
  {
   "cell_type": "code",
   "execution_count": 34,
   "metadata": {},
   "outputs": [],
   "source": [
    "# Atenas vs Londres \n",
    "Ydist[0] = "
   ]
  },
  {
   "cell_type": "code",
   "execution_count": 35,
   "metadata": {},
   "outputs": [],
   "source": [
    "# Atenas vs París\n",
    "Ydist[1] = "
   ]
  },
  {
   "cell_type": "code",
   "execution_count": 36,
   "metadata": {},
   "outputs": [],
   "source": [
    "# Atenas vs Nueva York\n",
    "Ydist[2] = "
   ]
  },
  {
   "cell_type": "code",
   "execution_count": 37,
   "metadata": {},
   "outputs": [],
   "source": [
    "#Atenas vs Roma\n",
    "Ydist[3] = "
   ]
  },
  {
   "cell_type": "code",
   "execution_count": 38,
   "metadata": {},
   "outputs": [],
   "source": [
    "#Atenas vs Melbourne\n",
    "Ydist[4] = "
   ]
  },
  {
   "cell_type": "code",
   "execution_count": 39,
   "metadata": {},
   "outputs": [],
   "source": [
    "#Atenas vs Dubai\n",
    "Ydist[5] = "
   ]
  },
  {
   "cell_type": "code",
   "execution_count": 40,
   "metadata": {},
   "outputs": [],
   "source": [
    "#Londres vs París\n",
    "Ydist[6] = "
   ]
  },
  {
   "cell_type": "code",
   "execution_count": 41,
   "metadata": {},
   "outputs": [],
   "source": [
    "#Londres vs Nueva York\n",
    "Ydist[7] = "
   ]
  },
  {
   "cell_type": "code",
   "execution_count": 42,
   "metadata": {},
   "outputs": [],
   "source": [
    "#Londres vs Roma\n",
    "Ydist[8] = "
   ]
  },
  {
   "cell_type": "code",
   "execution_count": 43,
   "metadata": {},
   "outputs": [],
   "source": [
    "#Londres vs Melbourne\n",
    "Ydist[9] = "
   ]
  },
  {
   "cell_type": "code",
   "execution_count": 44,
   "metadata": {},
   "outputs": [],
   "source": [
    "#Londres vs Dubai\n",
    "Ydist[10] = "
   ]
  },
  {
   "cell_type": "code",
   "execution_count": 45,
   "metadata": {},
   "outputs": [],
   "source": [
    "#Paris vs Nueva York\n",
    "Ydist[11] = "
   ]
  },
  {
   "cell_type": "code",
   "execution_count": 46,
   "metadata": {},
   "outputs": [],
   "source": [
    "#Paris vs Roma\n",
    "Ydist[12] = "
   ]
  },
  {
   "cell_type": "code",
   "execution_count": 47,
   "metadata": {},
   "outputs": [],
   "source": [
    "#Paris vs Melbourne\n",
    "Ydist[13] = "
   ]
  },
  {
   "cell_type": "code",
   "execution_count": 48,
   "metadata": {},
   "outputs": [],
   "source": [
    "#Paris vs Dubai\n",
    "Ydist[14] = "
   ]
  },
  {
   "cell_type": "code",
   "execution_count": 49,
   "metadata": {},
   "outputs": [],
   "source": [
    "#Nueva York vs Roma\n",
    "Ydist[15] = "
   ]
  },
  {
   "cell_type": "code",
   "execution_count": 50,
   "metadata": {},
   "outputs": [],
   "source": [
    "#Nueva York vs Melbourne\n",
    "Ydist[16] = "
   ]
  },
  {
   "cell_type": "code",
   "execution_count": 51,
   "metadata": {},
   "outputs": [],
   "source": [
    "#Nueva York vs Dubai\n",
    "Ydist[17] = "
   ]
  },
  {
   "cell_type": "code",
   "execution_count": 52,
   "metadata": {},
   "outputs": [],
   "source": [
    "#Roma vs Melbourne\n",
    "Ydist[18] = "
   ]
  },
  {
   "cell_type": "code",
   "execution_count": 53,
   "metadata": {},
   "outputs": [],
   "source": [
    "#Roma vs Dubai\n",
    "Ydist[19] = "
   ]
  },
  {
   "cell_type": "code",
   "execution_count": 54,
   "metadata": {},
   "outputs": [],
   "source": [
    "#Melbourne vs Dubai\n",
    "Ydist[20] = "
   ]
  },
  {
   "cell_type": "code",
   "execution_count": 55,
   "metadata": {},
   "outputs": [
    {
     "data": {
      "image/png": "[encoded data removed]",
      "text/plain": [
       "<Figure size 432x288 with 1 Axes>"
      ]
     },
     "metadata": {
      "needs_background": "light"
     },
     "output_type": "display_data"
    }
   ],
   "source": [
    "Ydist = 1- Ydist\n",
    "Z = hierarchy.linkage(Ydist, method='single')\n",
    "#ciudades = np.array(['Atenas', 'Londres', 'Paris', 'Nueva York', 'Roma', 'Melbourne', 'Dubai'])                                                       \n",
    "plt.figure()\n",
    "dn = hierarchy.dendrogram(Z, orientation = 'right', labels =  ciudades)\n",
    "plt.show() "
   ]
  },
  {
   "cell_type": "code",
   "execution_count": null,
   "metadata": {},
   "outputs": [],
   "source": []
  }
 ],
 "metadata": {
  "kernelspec": {
   "display_name": "Python [conda env:.conda-py37machlearn] *",
   "language": "python",
   "name": "conda-env-.conda-py37machlearn-py"
  },
  "language_info": {
   "codemirror_mode": {
    "name": "ipython",
    "version": 3
   },
   "file_extension": ".py",
   "mimetype": "text/x-python",
   "name": "python",
   "nbconvert_exporter": "python",
   "pygments_lexer": "ipython3",
   "version": "3.7.4"
  }
 },
 "nbformat": 4,
 "nbformat_minor": 2
}
