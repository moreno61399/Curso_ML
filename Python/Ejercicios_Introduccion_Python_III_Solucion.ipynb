{
 "cells": [
  {
   "cell_type": "markdown",
   "metadata": {},
   "source": [
    "### Ejercicio 1\n",
    "Leer desde el teclado un string (utiliza raw_input) que contenga una serie de números separados por espacios en blanco hasta apretar la tecla Enter (números positivos y negativos). Obtener una lista de enteros a partir de dicha entrada (puedes utilizar la función map para obtener enteros a partir de strings)."
   ]
  },
  {
   "cell_type": "code",
   "execution_count": null,
   "metadata": {},
   "outputs": [],
   "source": [
    "numero = input('Introduce números: ')\n",
    "lista = numero.split(' ')\n",
    "print (lista)\n",
    "lista = list(map(lambda x: int(x), lista))\n",
    "print (lista)"
   ]
  },
  {
   "cell_type": "markdown",
   "metadata": {},
   "source": [
    "### Ejercicio 2\n",
    "A partir de la lista anterior obtener la suma de los números positivos y por otro lado la suma de los negativos. Utilizar las funciones filter y reduce."
   ]
  },
  {
   "cell_type": "code",
   "execution_count": null,
   "metadata": {},
   "outputs": [],
   "source": [
    "from functools import reduce\n",
    "lista_positivos = filter(lambda x: x>=0, lista)\n",
    "lista_negativos = filter(lambda x: x<0, lista)\n",
    "suma_positivos = reduce(lambda x,y: x+y, lista_positivos)\n",
    "suma_negativos = reduce(lambda x,y: x+y, lista_negativos)\n",
    "print (suma_positivos)\n",
    "print (suma_negativos)"
   ]
  },
  {
   "cell_type": "markdown",
   "metadata": {},
   "source": [
    "### Ejercicio 3\n",
    "Dada una lista de strings, obtener una lista de los mismos strings pero ordenada de forma que se ordene por el número de caracteres que contiene (utilizando sorted)"
   ]
  },
  {
   "cell_type": "code",
   "execution_count": null,
   "metadata": {},
   "outputs": [],
   "source": [
    "lista_strings = ['Hola que tal estas', 'me llamo Daniel', 'esto es un string bastante largo', 'adios']\n",
    "sorted( lista_strings, key=lambda l: len(l))"
   ]
  },
  {
   "cell_type": "markdown",
   "metadata": {},
   "source": [
    "### Ejercicio 4\n",
    "Dada una lista de strings, ordenarlas de forma que el mayor string sea aquel con mayor número de vocales"
   ]
  },
  {
   "cell_type": "code",
   "execution_count": null,
   "metadata": {},
   "outputs": [],
   "source": [
    "lista_strings = ['Hola que tal estas', 'me llamo Daniel', 'esto es un string bastante largo', 'adios']\n",
    "def num_vocales(s):\n",
    "    nv = 0\n",
    "    for i in s:\n",
    "        if i in 'aeiouAEIOU':\n",
    "            nv += 1\n",
    "    return nv\n",
    "sorted( lista_strings, key=num_vocales)"
   ]
  },
  {
   "cell_type": "markdown",
   "metadata": {},
   "source": [
    "### Ejercicio 5\n",
    "leer el archivo matriz.txt. Transformar dicho archivo en una lista doble (lista dentro de otra lista) en forma de matriz de números enteros."
   ]
  },
  {
   "cell_type": "code",
   "execution_count": null,
   "metadata": {},
   "outputs": [],
   "source": [
    "import os\n",
    "matriz = []\n",
    "f = open('files/matriz.txt')\n",
    "for linea in f:\n",
    "    linea = linea.split(\",\")\n",
    "    linea = list(map(int, linea))\n",
    "    matriz.append(linea)\n",
    "print (matriz)"
   ]
  },
  {
   "cell_type": "markdown",
   "metadata": {},
   "source": [
    "### Ejercicio 6\n",
    "A partir de la matriz anterior, mantener únicamente aquellos elementos que contengan 3 cifras y que sean capicúas. Por ejemplo: se deberá eliminar 123 pero no 121. La estructura final será una doble lista de enteros (aunque sin ser una matriz, ya que todas las filas no tienen por qué tener el mismo número de elementos). "
   ]
  },
  {
   "cell_type": "code",
   "execution_count": null,
   "metadata": {},
   "outputs": [],
   "source": [
    "matriz2 =[]\n",
    "for fila in matriz:\n",
    "    fila = list(map(str, fila))\n",
    "    fila = list(filter(lambda x:len(x)==3, fila))\n",
    "    fila = list(filter(lambda x:x[0]==x[2], fila))\n",
    "    matriz2.append(fila)\n",
    "len(matriz2)\n"
   ]
  },
  {
   "cell_type": "code",
   "execution_count": null,
   "metadata": {},
   "outputs": [],
   "source": [
    "matriz2"
   ]
  },
  {
   "cell_type": "markdown",
   "metadata": {},
   "source": [
    "### Ejercicio 7\n",
    "Dado el diccionario {1:’1’, …, 7: ‘7’, 8: ‘J’, 9: ‘Q’,  0:’K’}, obtener a partir del archivo matriz.txt una matriz de strings en los que, por ejemplo, el número 148 es transformado en ‘14J’. "
   ]
  },
  {
   "cell_type": "code",
   "execution_count": null,
   "metadata": {},
   "outputs": [],
   "source": [
    "d = {1:'1', 2:'2', 3:'3', 4:'4', 5:'5', 6:'6', 7:'7', 8:'J', 9:'Q', 0:'K'}\n",
    "for i in range(len(matriz2)):\n",
    "    fila = matriz2[i]\n",
    "    for j in range(len(fila)):\n",
    "        fila = list(map(str, fila))\n",
    "        s = ''\n",
    "        for c in fila[j]:\n",
    "            s = s + d[int(c)]\n",
    "        fila[j] = s\n",
    "    print (fila)\n",
    "print (matriz2)"
   ]
  },
  {
   "cell_type": "markdown",
   "metadata": {},
   "source": [
    "### Ejercicio 8\n",
    "Abrir el archivo de texto quijote.txt y copiar un archivo quijote2.txt aquellas líneas que sean pares. "
   ]
  },
  {
   "cell_type": "code",
   "execution_count": null,
   "metadata": {},
   "outputs": [],
   "source": [
    "f = open('files/quijote.txt','r')\n",
    "f2 = open('files/quijote2.txt', 'w')\n",
    "i = 1\n",
    "for linea in f:\n",
    "    if i%2 == 0:\n",
    "        f2.write(linea)\n",
    "    i = i+1\n",
    "f.close()\n",
    "f2.close()"
   ]
  },
  {
   "cell_type": "markdown",
   "metadata": {},
   "source": [
    "### Ejercicio 9\n",
    ": Leer el archivo quijote.txt y generar una lista con todas las palabras  que contenga"
   ]
  },
  {
   "cell_type": "code",
   "execution_count": null,
   "metadata": {},
   "outputs": [],
   "source": [
    "f = open('files/quijote.txt', 'r')\n",
    "lista_palabras = []\n",
    "for linea in f:\n",
    "    linea = linea.split(\" \")\n",
    "    lista_palabras = lista_palabras + linea\n",
    "f.close()\n",
    "lista_palabras"
   ]
  },
  {
   "cell_type": "markdown",
   "metadata": {},
   "source": [
    "### Ejercicio 10\n",
    "Realizar el mismo ejercicio pero generando un diccionario. Las claves serán las palabras del archivo y el valor el número de veces que dicha palabra aparece."
   ]
  },
  {
   "cell_type": "code",
   "execution_count": null,
   "metadata": {},
   "outputs": [],
   "source": [
    "f = open('files/quijote.txt', 'r')\n",
    "d = {}\n",
    "for linea in f:\n",
    "    linea = linea.split(\" \")\n",
    "    for palabra in linea:\n",
    "        d[palabra] = d.get(palabra, 0)+1\n",
    "f.close()\n",
    "d"
   ]
  },
  {
   "cell_type": "markdown",
   "metadata": {},
   "source": [
    "### Ejercicio 11\n",
    "Eliminar del diccionario anterior aquellas palabras que contengan menos de 2 caracteres."
   ]
  },
  {
   "cell_type": "code",
   "execution_count": null,
   "metadata": {},
   "outputs": [],
   "source": [
    "for clave in list(d.keys()):\n",
    "    if len(clave)<=7:\n",
    "        del d[clave]\n",
    "print(d)"
   ]
  },
  {
   "cell_type": "markdown",
   "metadata": {},
   "source": [
    "### Ejercicio 12\n",
    "Modificar el diccionario de forma que el valor sea el número de vocales que contiene cada palabra. Calcular la media de vocales de las palabras del quijote."
   ]
  },
  {
   "cell_type": "code",
   "execution_count": null,
   "metadata": {},
   "outputs": [],
   "source": [
    "d2 = {}\n",
    "for clave in list(d.keys()):\n",
    "    num_vocales = 0\n",
    "    for c in clave:\n",
    "        if c in 'aeiou' or c in 'AEIOU':\n",
    "            num_vocales = num_vocales +1\n",
    "    d2[clave] = num_vocales\n",
    "d2"
   ]
  },
  {
   "cell_type": "code",
   "execution_count": null,
   "metadata": {},
   "outputs": [],
   "source": []
  }
 ],
 "metadata": {
  "anaconda-cloud": {},
  "kernelspec": {
   "display_name": "Python 3",
   "language": "python",
   "name": "python3"
  },
  "language_info": {
   "codemirror_mode": {
    "name": "ipython",
    "version": 3
   },
   "file_extension": ".py",
   "mimetype": "text/x-python",
   "name": "python",
   "nbconvert_exporter": "python",
   "pygments_lexer": "ipython3",
   "version": "3.7.3"
  }
 },
 "nbformat": 4,
 "nbformat_minor": 1
}
