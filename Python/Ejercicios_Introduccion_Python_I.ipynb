{
 "cells": [
  {
   "cell_type": "markdown",
   "metadata": {},
   "source": [
    "### Ejercicio 1\n",
    "A partir de 2 variables leídas desde teclado, escribir cuál de las dos es mayor (o si son iguales)"
   ]
  },
  {
   "cell_type": "code",
   "execution_count": null,
   "metadata": {},
   "outputs": [],
   "source": []
  },
  {
   "cell_type": "markdown",
   "metadata": {},
   "source": [
    "### Ejercicio 2\n",
    "A partir de 3 variables leídas desde teclado, escribirlas en orden ascenedente (sin utilizar ninguna función de ordenación)"
   ]
  },
  {
   "cell_type": "code",
   "execution_count": null,
   "metadata": {},
   "outputs": [],
   "source": []
  },
  {
   "cell_type": "markdown",
   "metadata": {},
   "source": [
    "### Ejercicio 3\n",
    "Pedir un número al usuario y mostrar todos sus divisores"
   ]
  },
  {
   "cell_type": "code",
   "execution_count": null,
   "metadata": {},
   "outputs": [],
   "source": []
  },
  {
   "cell_type": "markdown",
   "metadata": {},
   "source": [
    "### Ejercicio 4\n",
    "Pedir tantos números al usuario hasta que introduzca un 0. Calcular la media aritmética de todos ellos"
   ]
  },
  {
   "cell_type": "code",
   "execution_count": null,
   "metadata": {},
   "outputs": [],
   "source": []
  },
  {
   "cell_type": "markdown",
   "metadata": {},
   "source": [
    "### Ejercicio 5\n",
    "Pedir una frase al usuario y determinar si es palíndroma (se lee igual hacia delante o hacia atrás). Para ello, eliminar todos los espacios en blanco de la frase (puedes utilizar la función replace)"
   ]
  },
  {
   "cell_type": "code",
   "execution_count": null,
   "metadata": {},
   "outputs": [],
   "source": []
  },
  {
   "cell_type": "markdown",
   "metadata": {},
   "source": [
    "### Ejercicio 6\n",
    "Escribir un programa que muestre los números divisibles por 7 y que no sean múltiplos de 5 entre 2000 y 3000"
   ]
  },
  {
   "cell_type": "code",
   "execution_count": null,
   "metadata": {},
   "outputs": [],
   "source": []
  },
  {
   "cell_type": "markdown",
   "metadata": {},
   "source": [
    "### Ejercicio 7\n",
    "Mostrar todos los números primos menores de 1000. Recuerda que un número es primo si únicamente es divisible por sí mismo y por 1"
   ]
  },
  {
   "cell_type": "code",
   "execution_count": null,
   "metadata": {},
   "outputs": [],
   "source": []
  },
  {
   "cell_type": "markdown",
   "metadata": {},
   "source": [
    "### Ejercicio 8\n",
    "Pedir al usuario una palabra o frase y un carácter adicional. El programa devuelve el número de veces que el carácter aparece en la plabra o frase"
   ]
  },
  {
   "cell_type": "code",
   "execution_count": null,
   "metadata": {
    "collapsed": true
   },
   "outputs": [],
   "source": []
  },
  {
   "cell_type": "markdown",
   "metadata": {},
   "source": [
    "### Ejercicio 9\n",
    "Pedir al usuario el términos de la sucesión de Fibonacci que se desea mostrar. Recuerda que el término 0 $a_0=0$, el término 1 es $a_1 = 1$ y, en general, el término n-ésimo es $a_n = a_{n-1} + a_{n-2}$ para $n\\ge 2$"
   ]
  },
  {
   "cell_type": "code",
   "execution_count": null,
   "metadata": {
    "collapsed": true
   },
   "outputs": [],
   "source": []
  },
  {
   "cell_type": "markdown",
   "metadata": {},
   "source": [
    "### Ejercicio 10\n",
    "Realizar un programa que pida un número y muestre la secuencia\n",
    "\n",
    "11111\n",
    "\n",
    "12222 \n",
    "\n",
    "12333\n",
    "\n",
    "12344\n",
    "\n",
    "12345"
   ]
  },
  {
   "cell_type": "code",
   "execution_count": null,
   "metadata": {
    "collapsed": true
   },
   "outputs": [],
   "source": []
  },
  {
   "cell_type": "markdown",
   "metadata": {},
   "source": [
    "### Ejercicio 11\n",
    "La siguiente función (no hace falta entender qué está haciendo) devuelve un string de 4 números aleatorios no repetidos. Realizar un programa que pida una cadena de 4 números al usuario hasta que adivine la secuencia devuelta por genera_aleatorio(). Cada vez que el usuario escribe una cadena, el programa devuelve otra cadena de 4 dígitos formada por 'X', 'O' y '-'. Si aparece 'X', significa que ese dígito ha sido acertado. Si aparece 'O' significa que ese dígito está pero no en la misma posición. Si aparece '-' es que dicho dígito no está en la secuencia."
   ]
  },
  {
   "cell_type": "code",
   "execution_count": null,
   "metadata": {
    "collapsed": true
   },
   "outputs": [],
   "source": [
    "import random\n",
    "def genera_aleatorio():\n",
    "    numeros = ('0' '1' '2' '3' '4' '5' '6' '7' '8' '9')\n",
    "    numero_adivinar = ''\n",
    "    i = 0\n",
    "    while i < 4:\n",
    "        aleatorio = random.randint(0,9)\n",
    "        if str(aleatorio) not in numero_adivinar:\n",
    "            numero_adivinar += numeros[aleatorio]\n",
    "            i = i+1\n",
    "    return numero_adivinar"
   ]
  },
  {
   "cell_type": "code",
   "execution_count": null,
   "metadata": {},
   "outputs": [],
   "source": [
    "cadena_adivinar = genera_aleatorio()"
   ]
  }
 ],
 "metadata": {
  "anaconda-cloud": {},
  "kernelspec": {
   "display_name": "Python 3",
   "language": "python",
   "name": "python3"
  },
  "language_info": {
   "codemirror_mode": {
    "name": "ipython",
    "version": 3
   },
   "file_extension": ".py",
   "mimetype": "text/x-python",
   "name": "python",
   "nbconvert_exporter": "python",
   "pygments_lexer": "ipython3",
   "version": "3.7.3"
  }
 },
 "nbformat": 4,
 "nbformat_minor": 1
}
