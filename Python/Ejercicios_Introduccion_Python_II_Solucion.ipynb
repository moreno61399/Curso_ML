{
 "cells": [
  {
   "cell_type": "markdown",
   "metadata": {},
   "source": [
    "### Ejercicio 1\n",
    "Escriba un programa que pida una serie de número al usuario hasta que introduzca un 0. El programa construirá dos listas, una con los números introducidos  y otra lista con la suma acumulada de los números. Por ejemplo, si la lista es [1,2,3], la lista de acumulados es [1,3,6]."
   ]
  },
  {
   "cell_type": "code",
   "execution_count": null,
   "metadata": {},
   "outputs": [],
   "source": [
    "l1 = []\n",
    "l2 = []\n",
    "numero = int(input('Introduce un número'))\n",
    "acumulado = 0\n",
    "while numero!=0:\n",
    "    l1.append(numero)\n",
    "    acumulado += numero\n",
    "    l2.append(acumulado)\n",
    "    numero = int(input('Introduce un número'))\n",
    "print (l1)\n",
    "print (l2)"
   ]
  },
  {
   "cell_type": "markdown",
   "metadata": {},
   "source": [
    "### Ejercicio 2\n",
    "Crear un diccionario cuyos índices sean tuplas con las combinaciones que puedes obtener al tirar dos dados (asumimos por simplicidad que (1,2) es diferente de (2,1)). El valor asociado a cada clave será sea la suma de ellos. Realizar este ejercicio con bucles y con bucles por comprensión."
   ]
  },
  {
   "cell_type": "code",
   "execution_count": null,
   "metadata": {},
   "outputs": [],
   "source": [
    "# Con bucles normales\n",
    "d = dict()\n",
    "for i in range(1,7):\n",
    "    for j in range(1,7):\n",
    "        d[(i,j)] = i + j\n",
    "print (d)"
   ]
  },
  {
   "cell_type": "code",
   "execution_count": null,
   "metadata": {},
   "outputs": [],
   "source": [
    "# Con bucles por compresión\n",
    "d = {(i,j):i+j for i in range(1,7) for j in range(1,7)}\n",
    "print (d)"
   ]
  },
  {
   "cell_type": "markdown",
   "metadata": {},
   "source": [
    "### Ejercicio 3\n",
    "A partir del diccionario anterior, crear un nuevo diccionario cuyas claves sean la suma de los valores de los dados y como valor el número de veces que puedes obtener dicha suma (con una tirada de dos dados)."
   ]
  },
  {
   "cell_type": "code",
   "execution_count": null,
   "metadata": {},
   "outputs": [],
   "source": [
    "d2 = dict()\n",
    "for i in d.values():\n",
    "    d2[i] = d2.get(i,0) + 1\n",
    "print (d2)"
   ]
  },
  {
   "cell_type": "markdown",
   "metadata": {},
   "source": [
    "### Ejercicio 4\n",
    "Escribe un programa que lea del usuario  una frase cualquiera  y devuelva un diccionario cuyas claves sean los caracteres y los valores sean el número de veces que dicho carácter aparece en el texto. En el diccionario no deben aparecer espacios en blanco"
   ]
  },
  {
   "cell_type": "code",
   "execution_count": null,
   "metadata": {},
   "outputs": [],
   "source": [
    "d = dict()\n",
    "frase = input('Introduce una frase: ')\n",
    "for i in frase:\n",
    "    if i != ' ':\n",
    "        d[i] = d.get(i,0) + 1\n",
    "print(d)"
   ]
  },
  {
   "cell_type": "markdown",
   "metadata": {},
   "source": [
    "### Ejercicio 5\n",
    "Pedir al usuario una frase y construir el diccionario indicado en el ejercicio anterior. Repetir la operación y construir un segundo diccionario. Fusionar los dos diccionarios en un tercer diccionario de forma que el número de veces que aparece cada carácter aparezca sumado en el nuevo diccionario."
   ]
  },
  {
   "cell_type": "code",
   "execution_count": null,
   "metadata": {},
   "outputs": [],
   "source": [
    "d1 = dict()\n",
    "frase = input('Introduce una frase: ')\n",
    "for i in frase:\n",
    "    if i != ' ':\n",
    "        d1[i] = d1.get(i,0) + 1\n",
    "d2 = dict()\n",
    "frase = input('Introduce una frase: ')\n",
    "for i in frase:\n",
    "    if i != ' ':\n",
    "        d2[i] = d2.get(i,0) + 1\n",
    "d3 = dict()\n",
    "for i in set(list(d1.keys()) + list(d2.keys())):\n",
    "    d3[i] = d1.get(i,0) + d2.get(i,0)\n",
    "print (d3)"
   ]
  },
  {
   "cell_type": "markdown",
   "metadata": {},
   "source": [
    "### Ejercicio 6\n",
    "realizar la criba de Eratóstenes para encontrar los números primos menores de  100. Para ello, empieza creando una lista con 100 booleanos inicializadas a True. Cada elemento de la lista representa si dicho número (+1) es primo o no. Así, si l[0] = True, significa que el número 1 es primo. El proceso que vamos a seguir es el siguiente: para t=2, vamos a marcar a False las posiciones asociadas a los números 4, 6, 8, 10,…, 100; a continuación para t=3 marcamos a False las posiciones asociadas a los números  6, 9, 12,... Realizamos esta misma operación con todos los números hasta 50. Todos aquellos valores que permanezcan en True después de dicho marcado serán números primos. Muéstralos por pantalla."
   ]
  },
  {
   "cell_type": "code",
   "execution_count": null,
   "metadata": {},
   "outputs": [],
   "source": [
    "l = [True for i in range(100)]\n",
    "for t in range(2,51):\n",
    "    for j in range(2*t, 101, t):\n",
    "        l[j-1] = False\n",
    "for i in range(len(l)):\n",
    "    if l[i]:\n",
    "        print (\"El número {} es primo\".format(i+1))"
   ]
  },
  {
   "cell_type": "markdown",
   "metadata": {},
   "source": [
    "### Ejercicio 7\n",
    "Resolver el problema anterior utilizando el mínimo número de instrucciones posibles. Utiliza listas por comprensión para crear, en primer lugar, una lista de los números no primos (2, 4, 6, …, 100, 3, 6, 9,…..). A continuación crea de nuevo por comprensión una lista de todos los números del 1 al 100 que no aparezcan en la lista anterior."
   ]
  },
  {
   "cell_type": "code",
   "execution_count": null,
   "metadata": {},
   "outputs": [],
   "source": [
    "l = [j for t in range(2,51) for j in range(2*t, 101, t) ]\n",
    "l2 = [i for i in range(1,101) if i not in l]\n",
    "print (l2)"
   ]
  },
  {
   "cell_type": "markdown",
   "metadata": {},
   "source": [
    "### Ejercicio 8\n",
    "Llamamos matriz dispersa (sparse matrix) a una en la que la mayoría de los elementos son ceros. En lugar de guardar los elementos de una matriz dispersa en forma de matriz (filasxcolumnas), podemos generar un diccionario que contenga como claves las posiciones de los elementos no nulos en formato tupla (x,y) y cuyo valor sea el valor de la matriz en dicha posición. Pedir al usuario un conjunto de n^2 números y almacenarlos en una lista doble (matriz). A continuación calcular el diccionario asociado."
   ]
  },
  {
   "cell_type": "code",
   "execution_count": null,
   "metadata": {},
   "outputs": [],
   "source": [
    "n = int(input('Introduce el número de filas/columnas: '))\n",
    "matriz = []\n",
    "matriz_dispersa = dict()\n",
    "for i in range(n):\n",
    "    fila = []\n",
    "    for j in range(n):\n",
    "        numero = int(input('Introduce el número de la posición {},{}'.format(i,j)))\n",
    "        fila.append(numero)\n",
    "        if numero != 0:\n",
    "            matriz_dispersa[(i,j)] = numero\n",
    "    matriz.append(fila)\n",
    "print (matriz)\n",
    "print (matriz_dispersa)"
   ]
  },
  {
   "cell_type": "markdown",
   "metadata": {},
   "source": [
    "### Ejercicio 9\n",
    "A partir del ejercicio anterior, generar dos diccionarios asociados a dos matrices dispersas y calcular el diccionario asociado a la suma de ellas. "
   ]
  },
  {
   "cell_type": "code",
   "execution_count": null,
   "metadata": {},
   "outputs": [],
   "source": [
    "n = int(input('Introduce el número de filas/columnas: '))\n",
    "matriz1 = []\n",
    "matriz_dispersa1 = dict()\n",
    "for i in range(n):\n",
    "    fila = []\n",
    "    for j in range(n):\n",
    "        numero = int(input('Introduce el número de la posición {},{}'.format(i,j)))\n",
    "        fila.append(numero)\n",
    "        if numero != 0:\n",
    "            matriz_dispersa1[(i,j)] = numero\n",
    "    matriz1.append(fila)\n",
    "matriz2 = []\n",
    "matriz_dispersa2 = dict()\n",
    "for i in range(n):\n",
    "    fila = []\n",
    "    for j in range(n):\n",
    "        numero = int(input('Introduce el número de la posición {},{}'.format(i,j)))\n",
    "        fila.append(numero)\n",
    "        if numero != 0:\n",
    "            matriz_dispersa2[(i,j)] = numero\n",
    "    matriz2.append(fila)\n",
    "matriz_dispersa3 = dict()\n",
    "for i in set(list(matriz_dispersa1.keys()) + list(matriz_dispersa2.keys())):\n",
    "    matriz_dispersa3[i] = matriz_dispersa1.get(i,0) + matriz_dispersa2.get(i,0)\n",
    "print (matriz_dispersa3)"
   ]
  },
  {
   "cell_type": "markdown",
   "metadata": {},
   "source": [
    "### Ejercicio 10\n",
    "Dados barco2=((0,1),(0,2)), barco3 =((3,2), (3,3), (3,4)) y barco4=((1,0), (2,0), (3, 0), (4,0), esto representa las posiciones de 3 barcos en un tablero 5x5 de “hundir la flota”. El programa irá pidiendo posiciones de dicha cuadrícula e informará “tocado” o “hundido” (tocado cuando en dicha posición hay un barco pero queda alguna posición del barco sin adivinar y hundido cuando hay un barco en dicha posición y todas las posiciones del barco han sido “tocadas”."
   ]
  },
  {
   "cell_type": "code",
   "execution_count": null,
   "metadata": {},
   "outputs": [],
   "source": [
    "barco2 = [(0,1),(0,2)]\n",
    "barco3 = [(3,2),(3,3),(3,4)]\n",
    "barco4 = [(1,0),(2,0),(3,0),(4,0)]\n",
    "barcos = [barco2, barco3, barco4]\n",
    "while len(barco2)>0 or len(barco3)>0 or len(barco4)>0:\n",
    "    posicion = tuple(input('Introduce una posición: '))\n",
    "    posicion = tuple([int(posicion[0]), int(posicion[2])])\n",
    "    print(posicion)\n",
    "    if posicion in barco2:\n",
    "        barco2.remove(posicion)\n",
    "        if barco2:\n",
    "            print (\"Tocado\")\n",
    "        else:\n",
    "            print (\"Hundido\")\n",
    "    elif posicion in barco3:\n",
    "        barco3.remove(posicion)\n",
    "        if barco3:\n",
    "            print (\"Tocado\")\n",
    "        else:\n",
    "            print (\"Hundido\")\n",
    "    elif posicion in barco4:\n",
    "        barco4.remove(posicion)\n",
    "        if barco4:\n",
    "            print( \"Tocado\")\n",
    "        else:\n",
    "            print (\"Hundido\")\n",
    "    else:\n",
    "        print (\"Agua\")\n",
    "    print (barcos)\n",
    "    "
   ]
  },
  {
   "cell_type": "code",
   "execution_count": null,
   "metadata": {},
   "outputs": [],
   "source": []
  }
 ],
 "metadata": {
  "anaconda-cloud": {},
  "kernelspec": {
   "display_name": "Python 3",
   "language": "python",
   "name": "python3"
  },
  "language_info": {
   "codemirror_mode": {
    "name": "ipython",
    "version": 3
   },
   "file_extension": ".py",
   "mimetype": "text/x-python",
   "name": "python",
   "nbconvert_exporter": "python",
   "pygments_lexer": "ipython3",
   "version": "3.7.3"
  }
 },
 "nbformat": 4,
 "nbformat_minor": 1
}
