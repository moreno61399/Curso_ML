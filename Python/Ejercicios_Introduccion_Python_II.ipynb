{
 "cells": [
  {
   "cell_type": "markdown",
   "metadata": {},
   "source": [
    "### Ejercicio 1\n",
    "Escriba un programa que pida una serie de número al usuario hasta que introduzca un 0. El programa construirá dos listas, una con los números introducidos  y otra lista con la suma acumulada de los números. Por ejemplo, si la lista es [1,2,3], la lista de acumulados es [1,3,6]."
   ]
  },
  {
   "cell_type": "code",
   "execution_count": null,
   "metadata": {},
   "outputs": [],
   "source": []
  },
  {
   "cell_type": "markdown",
   "metadata": {},
   "source": [
    "### Ejercicio 2\n",
    "Crear un diccionario cuyos índices sean tuplas con las combinaciones que puedes obtener al tirar dos dados (asumimos por simplicidad que (1,2) es diferente de (2,1)). El valor asociado a cada clave será sea la suma de ellos. Realizar este ejercicio con bucles y con bucles por comprensión."
   ]
  },
  {
   "cell_type": "code",
   "execution_count": null,
   "metadata": {},
   "outputs": [],
   "source": [
    "# Con bucles normales\n"
   ]
  },
  {
   "cell_type": "code",
   "execution_count": null,
   "metadata": {},
   "outputs": [],
   "source": [
    "# Con bucles por compresión\n"
   ]
  },
  {
   "cell_type": "markdown",
   "metadata": {},
   "source": [
    "### Ejercicio 3\n",
    "A partir del diccionario anterior, crear un nuevo diccionario cuyas claves sean la suma de los valores de los dados y como valor el número de veces que puedes obtener dicha suma (con una tirada de dos dados)."
   ]
  },
  {
   "cell_type": "code",
   "execution_count": null,
   "metadata": {},
   "outputs": [],
   "source": []
  },
  {
   "cell_type": "markdown",
   "metadata": {},
   "source": [
    "### Ejercicio 4\n",
    "Escribe un programa que lea del usuario  una frase cualquiera  y devuelva un diccionario cuyas claves sean los caracteres y los valores sean el número de veces que dicho carácter aparece en el texto. En el diccionario no deben aparecer espacios en blanco"
   ]
  },
  {
   "cell_type": "code",
   "execution_count": null,
   "metadata": {},
   "outputs": [],
   "source": []
  },
  {
   "cell_type": "markdown",
   "metadata": {},
   "source": [
    "### Ejercicio 5\n",
    "Pedir al usuario una frase y construir el diccionario indicado en el ejercicio anterior. Repetir la operación y construir un segundo diccionario. Fusionar los dos diccionarios en un tercer diccionario de forma que el número de veces que aparece cada carácter aparezca sumado en el nuevo diccionario."
   ]
  },
  {
   "cell_type": "code",
   "execution_count": null,
   "metadata": {},
   "outputs": [],
   "source": []
  },
  {
   "cell_type": "markdown",
   "metadata": {},
   "source": [
    "### Ejercicio 6\n",
    "realizar la criba de Eratóstenes para encontrar los números primos menores de  100. Para ello, empieza creando una lista con 100 booleanos inicializadas a True. Cada elemento de la lista representa si dicho número (+1) es primo o no. Así, si l[0] = True, significa que el número 1 es primo. El proceso que vamos a seguir es el siguiente: para t=2, vamos a marcar a False las posiciones asociadas a los números 4, 6, 8, 10,…, 100; a continuación para t=3 marcamos a False las posiciones asociadas a los números  6, 9, 12,... Realizamos esta misma operación con todos los números hasta 50. Todos aquellos valores que permanezcan en True después de dicho marcado serán números primos. Muéstralos por pantalla."
   ]
  },
  {
   "cell_type": "code",
   "execution_count": null,
   "metadata": {},
   "outputs": [],
   "source": []
  },
  {
   "cell_type": "markdown",
   "metadata": {},
   "source": [
    "### Ejercicio 7\n",
    "Resolver el problema anterior utilizando el mínimo número de instrucciones posibles. Utiliza listas por comprensión para crear, en primer lugar, una lista de los números no primos (2, 4, 6, …, 100, 3, 6, 9,…..). A continuación crea de nuevo por comprensión una lista de todos los números del 1 al 100 que no aparezcan en la lista anterior."
   ]
  },
  {
   "cell_type": "code",
   "execution_count": null,
   "metadata": {},
   "outputs": [],
   "source": []
  },
  {
   "cell_type": "markdown",
   "metadata": {},
   "source": [
    "### Ejercicio 8\n",
    "Llamamos matriz dispersa (sparse matrix) a una en la que la mayoría de los elementos son ceros. En lugar de guardar los elementos de una matriz dispersa en forma de matriz (filasxcolumnas), podemos generar un diccionario que contenga como claves las posiciones de los elementos no nulos en formato tupla (x,y) y cuyo valor sea el valor de la matriz en dicha posición. Pedir al usuario un conjunto de n^2 números y almacenarlos en una lista doble (matriz). A continuación calcular el diccionario asociado."
   ]
  },
  {
   "cell_type": "code",
   "execution_count": null,
   "metadata": {},
   "outputs": [],
   "source": []
  },
  {
   "cell_type": "markdown",
   "metadata": {},
   "source": [
    "### Ejercicio 9\n",
    "A partir del ejercicio anterior, generar dos diccionarios asociados a dos matrices dispersas y calcular el diccionario asociado a la suma de ellas. "
   ]
  },
  {
   "cell_type": "code",
   "execution_count": null,
   "metadata": {},
   "outputs": [],
   "source": []
  },
  {
   "cell_type": "markdown",
   "metadata": {},
   "source": [
    "### Ejercicio 10\n",
    "Dados barco2=((0,1),(0,2)), barco3 =((3,2), (3,3), (3,4)) y barco4=((1,0), (2,0), (3, 0), (4,0), esto representa las posiciones de 3 barcos en un tablero 5x5 de “hundir la flota”. El programa irá pidiendo posiciones de dicha cuadrícula e informará “tocado” o “hundido” (tocado cuando en dicha posición hay un barco pero queda alguna posición del barco sin adivinar y hundido cuando hay un barco en dicha posición y todas las posiciones del barco han sido “tocadas”."
   ]
  },
  {
   "cell_type": "code",
   "execution_count": null,
   "metadata": {},
   "outputs": [],
   "source": [
    "barco2 = [(0,1),(0,2)]\n",
    "barco3 = [(3,2),(3,3),(3,4)]\n",
    "barco4 = [(1,0),(2,0),(3,0),(4,0)]\n",
    "barcos = [barco2, barco3, barco4]\n"
   ]
  }
 ],
 "metadata": {
  "anaconda-cloud": {},
  "kernelspec": {
   "display_name": "Python 3",
   "language": "python",
   "name": "python3"
  },
  "language_info": {
   "codemirror_mode": {
    "name": "ipython",
    "version": 3
   },
   "file_extension": ".py",
   "mimetype": "text/x-python",
   "name": "python",
   "nbconvert_exporter": "python",
   "pygments_lexer": "ipython3",
   "version": "3.7.3"
  }
 },
 "nbformat": 4,
 "nbformat_minor": 1
}
