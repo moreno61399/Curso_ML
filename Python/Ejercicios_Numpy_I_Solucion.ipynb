{
 "cells": [
  {
   "cell_type": "markdown",
   "metadata": {},
   "source": [
    "## Ejercicios Básicos Numpy"
   ]
  },
  {
   "cell_type": "code",
   "execution_count": 14,
   "metadata": {},
   "outputs": [],
   "source": [
    "import numpy as np"
   ]
  },
  {
   "cell_type": "markdown",
   "metadata": {},
   "source": [
    "### Ejercicio 1\n",
    "Una vez importado numpy, crea un array numpy a partir de la siguiente lista. Muestra por pantalla el tipo de dicha lista, el número de dimensiones que tiene y cuántos elementos hay por dimensión"
   ]
  },
  {
   "cell_type": "code",
   "execution_count": 15,
   "metadata": {},
   "outputs": [],
   "source": [
    "lista = [100, 80, 180, 140, 25, 170, 200]"
   ]
  },
  {
   "cell_type": "code",
   "execution_count": 16,
   "metadata": {},
   "outputs": [
    {
     "name": "stdout",
     "output_type": "stream",
     "text": [
      "int32\n",
      "1\n",
      "(7L,)\n"
     ]
    }
   ],
   "source": [
    "lista_np = np.array(lista)\n",
    "print lista_np.dtype\n",
    "print lista_np.ndim\n",
    "print lista_np.shape\n"
   ]
  },
  {
   "cell_type": "markdown",
   "metadata": {},
   "source": [
    "### Ejercicio 2\n",
    "Realiza la misma operación pero ahora sobre esta matriz. Imprime el número de dimensiones y cuántos elementos hay"
   ]
  },
  {
   "cell_type": "code",
   "execution_count": 17,
   "metadata": {},
   "outputs": [],
   "source": [
    "matriz = [[1, 2, 3], [4, 5, 6], [7, 8, 9]]"
   ]
  },
  {
   "cell_type": "code",
   "execution_count": 18,
   "metadata": {},
   "outputs": [
    {
     "name": "stdout",
     "output_type": "stream",
     "text": [
      "2\n",
      "(3L, 3L)\n"
     ]
    }
   ],
   "source": [
    "matriz_np = np.array(matriz)\n",
    "print matriz_np.ndim\n",
    "print matriz_np.shape"
   ]
  },
  {
   "cell_type": "markdown",
   "metadata": {},
   "source": [
    "### Ejercicio 3\n",
    "\n",
    "Dada la siguiente matriz, transformarla en una matriz numpy y hacer un recorrido para que muestre:\n",
    "\n",
    "el valor de la posición (0,0) es 1\n",
    "\n",
    "el valor de la posición (0,1) es 2\n",
    "\n",
    "..."
   ]
  },
  {
   "cell_type": "code",
   "execution_count": 19,
   "metadata": {},
   "outputs": [],
   "source": [
    "matriz2 = [[1, 2, 3], [4, 5, 6], [7, 8, 9], [10, 11, 12], [13, 14, 15]]"
   ]
  },
  {
   "cell_type": "code",
   "execution_count": 20,
   "metadata": {},
   "outputs": [
    {
     "name": "stdout",
     "output_type": "stream",
     "text": [
      "El valor de la posicion(0,0) es 1\n",
      "El valor de la posicion(0,1) es 2\n",
      "El valor de la posicion(0,2) es 3\n",
      "El valor de la posicion(1,0) es 4\n",
      "El valor de la posicion(1,1) es 5\n",
      "El valor de la posicion(1,2) es 6\n",
      "El valor de la posicion(2,0) es 7\n",
      "El valor de la posicion(2,1) es 8\n",
      "El valor de la posicion(2,2) es 9\n",
      "El valor de la posicion(3,0) es 10\n",
      "El valor de la posicion(3,1) es 11\n",
      "El valor de la posicion(3,2) es 12\n",
      "El valor de la posicion(4,0) es 13\n",
      "El valor de la posicion(4,1) es 14\n",
      "El valor de la posicion(4,2) es 15\n"
     ]
    }
   ],
   "source": [
    "matriz2_np = np.array(matriz2)\n",
    "f,c = matriz2_np.shape\n",
    "for i in range(f):\n",
    "    for j in range(c):\n",
    "        print \"El valor de la posicion({},{}) es {}\".format(i,j,matriz2_np[i,j])"
   ]
  },
  {
   "cell_type": "markdown",
   "metadata": {},
   "source": [
    "### Ejercicio 4\n",
    "\n",
    "Crear una matriz numpy de ceros de 5 filas y 4 columns\n",
    "\n",
    "Crear una matriz numpy de unos de 10 filas y 10 columnas\n",
    "\n",
    "Crear un vector numpy con los numeros del 0 al 1000"
   ]
  },
  {
   "cell_type": "code",
   "execution_count": 21,
   "metadata": {},
   "outputs": [
    {
     "data": {
      "text/plain": [
       "array([  0,   1,   2,   3,   4,   5,   6,   7,   8,   9,  10,  11,  12,\n",
       "        13,  14,  15,  16,  17,  18,  19,  20,  21,  22,  23,  24,  25,\n",
       "        26,  27,  28,  29,  30,  31,  32,  33,  34,  35,  36,  37,  38,\n",
       "        39,  40,  41,  42,  43,  44,  45,  46,  47,  48,  49,  50,  51,\n",
       "        52,  53,  54,  55,  56,  57,  58,  59,  60,  61,  62,  63,  64,\n",
       "        65,  66,  67,  68,  69,  70,  71,  72,  73,  74,  75,  76,  77,\n",
       "        78,  79,  80,  81,  82,  83,  84,  85,  86,  87,  88,  89,  90,\n",
       "        91,  92,  93,  94,  95,  96,  97,  98,  99, 100, 101, 102, 103,\n",
       "       104, 105, 106, 107, 108, 109, 110, 111, 112, 113, 114, 115, 116,\n",
       "       117, 118, 119, 120, 121, 122, 123, 124, 125, 126, 127, 128, 129,\n",
       "       130, 131, 132, 133, 134, 135, 136, 137, 138, 139, 140, 141, 142,\n",
       "       143, 144, 145, 146, 147, 148, 149, 150, 151, 152, 153, 154, 155,\n",
       "       156, 157, 158, 159, 160, 161, 162, 163, 164, 165, 166, 167, 168,\n",
       "       169, 170, 171, 172, 173, 174, 175, 176, 177, 178, 179, 180, 181,\n",
       "       182, 183, 184, 185, 186, 187, 188, 189, 190, 191, 192, 193, 194,\n",
       "       195, 196, 197, 198, 199, 200, 201, 202, 203, 204, 205, 206, 207,\n",
       "       208, 209, 210, 211, 212, 213, 214, 215, 216, 217, 218, 219, 220,\n",
       "       221, 222, 223, 224, 225, 226, 227, 228, 229, 230, 231, 232, 233,\n",
       "       234, 235, 236, 237, 238, 239, 240, 241, 242, 243, 244, 245, 246,\n",
       "       247, 248, 249, 250, 251, 252, 253, 254, 255, 256, 257, 258, 259,\n",
       "       260, 261, 262, 263, 264, 265, 266, 267, 268, 269, 270, 271, 272,\n",
       "       273, 274, 275, 276, 277, 278, 279, 280, 281, 282, 283, 284, 285,\n",
       "       286, 287, 288, 289, 290, 291, 292, 293, 294, 295, 296, 297, 298,\n",
       "       299, 300, 301, 302, 303, 304, 305, 306, 307, 308, 309, 310, 311,\n",
       "       312, 313, 314, 315, 316, 317, 318, 319, 320, 321, 322, 323, 324,\n",
       "       325, 326, 327, 328, 329, 330, 331, 332, 333, 334, 335, 336, 337,\n",
       "       338, 339, 340, 341, 342, 343, 344, 345, 346, 347, 348, 349, 350,\n",
       "       351, 352, 353, 354, 355, 356, 357, 358, 359, 360, 361, 362, 363,\n",
       "       364, 365, 366, 367, 368, 369, 370, 371, 372, 373, 374, 375, 376,\n",
       "       377, 378, 379, 380, 381, 382, 383, 384, 385, 386, 387, 388, 389,\n",
       "       390, 391, 392, 393, 394, 395, 396, 397, 398, 399, 400, 401, 402,\n",
       "       403, 404, 405, 406, 407, 408, 409, 410, 411, 412, 413, 414, 415,\n",
       "       416, 417, 418, 419, 420, 421, 422, 423, 424, 425, 426, 427, 428,\n",
       "       429, 430, 431, 432, 433, 434, 435, 436, 437, 438, 439, 440, 441,\n",
       "       442, 443, 444, 445, 446, 447, 448, 449, 450, 451, 452, 453, 454,\n",
       "       455, 456, 457, 458, 459, 460, 461, 462, 463, 464, 465, 466, 467,\n",
       "       468, 469, 470, 471, 472, 473, 474, 475, 476, 477, 478, 479, 480,\n",
       "       481, 482, 483, 484, 485, 486, 487, 488, 489, 490, 491, 492, 493,\n",
       "       494, 495, 496, 497, 498, 499, 500, 501, 502, 503, 504, 505, 506,\n",
       "       507, 508, 509, 510, 511, 512, 513, 514, 515, 516, 517, 518, 519,\n",
       "       520, 521, 522, 523, 524, 525, 526, 527, 528, 529, 530, 531, 532,\n",
       "       533, 534, 535, 536, 537, 538, 539, 540, 541, 542, 543, 544, 545,\n",
       "       546, 547, 548, 549, 550, 551, 552, 553, 554, 555, 556, 557, 558,\n",
       "       559, 560, 561, 562, 563, 564, 565, 566, 567, 568, 569, 570, 571,\n",
       "       572, 573, 574, 575, 576, 577, 578, 579, 580, 581, 582, 583, 584,\n",
       "       585, 586, 587, 588, 589, 590, 591, 592, 593, 594, 595, 596, 597,\n",
       "       598, 599, 600, 601, 602, 603, 604, 605, 606, 607, 608, 609, 610,\n",
       "       611, 612, 613, 614, 615, 616, 617, 618, 619, 620, 621, 622, 623,\n",
       "       624, 625, 626, 627, 628, 629, 630, 631, 632, 633, 634, 635, 636,\n",
       "       637, 638, 639, 640, 641, 642, 643, 644, 645, 646, 647, 648, 649,\n",
       "       650, 651, 652, 653, 654, 655, 656, 657, 658, 659, 660, 661, 662,\n",
       "       663, 664, 665, 666, 667, 668, 669, 670, 671, 672, 673, 674, 675,\n",
       "       676, 677, 678, 679, 680, 681, 682, 683, 684, 685, 686, 687, 688,\n",
       "       689, 690, 691, 692, 693, 694, 695, 696, 697, 698, 699, 700, 701,\n",
       "       702, 703, 704, 705, 706, 707, 708, 709, 710, 711, 712, 713, 714,\n",
       "       715, 716, 717, 718, 719, 720, 721, 722, 723, 724, 725, 726, 727,\n",
       "       728, 729, 730, 731, 732, 733, 734, 735, 736, 737, 738, 739, 740,\n",
       "       741, 742, 743, 744, 745, 746, 747, 748, 749, 750, 751, 752, 753,\n",
       "       754, 755, 756, 757, 758, 759, 760, 761, 762, 763, 764, 765, 766,\n",
       "       767, 768, 769, 770, 771, 772, 773, 774, 775, 776, 777, 778, 779,\n",
       "       780, 781, 782, 783, 784, 785, 786, 787, 788, 789, 790, 791, 792,\n",
       "       793, 794, 795, 796, 797, 798, 799, 800, 801, 802, 803, 804, 805,\n",
       "       806, 807, 808, 809, 810, 811, 812, 813, 814, 815, 816, 817, 818,\n",
       "       819, 820, 821, 822, 823, 824, 825, 826, 827, 828, 829, 830, 831,\n",
       "       832, 833, 834, 835, 836, 837, 838, 839, 840, 841, 842, 843, 844,\n",
       "       845, 846, 847, 848, 849, 850, 851, 852, 853, 854, 855, 856, 857,\n",
       "       858, 859, 860, 861, 862, 863, 864, 865, 866, 867, 868, 869, 870,\n",
       "       871, 872, 873, 874, 875, 876, 877, 878, 879, 880, 881, 882, 883,\n",
       "       884, 885, 886, 887, 888, 889, 890, 891, 892, 893, 894, 895, 896,\n",
       "       897, 898, 899, 900, 901, 902, 903, 904, 905, 906, 907, 908, 909,\n",
       "       910, 911, 912, 913, 914, 915, 916, 917, 918, 919, 920, 921, 922,\n",
       "       923, 924, 925, 926, 927, 928, 929, 930, 931, 932, 933, 934, 935,\n",
       "       936, 937, 938, 939, 940, 941, 942, 943, 944, 945, 946, 947, 948,\n",
       "       949, 950, 951, 952, 953, 954, 955, 956, 957, 958, 959, 960, 961,\n",
       "       962, 963, 964, 965, 966, 967, 968, 969, 970, 971, 972, 973, 974,\n",
       "       975, 976, 977, 978, 979, 980, 981, 982, 983, 984, 985, 986, 987,\n",
       "       988, 989, 990, 991, 992, 993, 994, 995, 996, 997, 998, 999])"
      ]
     },
     "execution_count": 21,
     "metadata": {},
     "output_type": "execute_result"
    }
   ],
   "source": [
    "np.zeros((5,4))\n",
    "np.ones((10,10))\n",
    "np.arange(1000)"
   ]
  },
  {
   "cell_type": "markdown",
   "metadata": {},
   "source": [
    "### Ejercicio 5\n",
    "\n",
    "Crear una matriz a de números aleatorios de 4 filas y 3 columnas. Crear una nueva matriz b con los mismos elementos pero en forma de 6 filas y 2 columnas (utilizando reshape). Modificar el elemento (0,0) de b poniéndolo a 0 y mostrar a por pantalla."
   ]
  },
  {
   "cell_type": "code",
   "execution_count": 22,
   "metadata": {},
   "outputs": [
    {
     "name": "stdout",
     "output_type": "stream",
     "text": [
      "[[ 0.          0.31683934  0.94698457]\n",
      " [ 0.42063123  0.50338676  0.90941956]\n",
      " [ 0.80260486  0.37205728  0.68449095]\n",
      " [ 0.54153386  0.02347168  0.38031297]]\n"
     ]
    }
   ],
   "source": [
    "a = np.random.rand(4,3)\n",
    "b = a.reshape(6,2)\n",
    "b[0,0] = 0\n",
    "print a"
   ]
  },
  {
   "cell_type": "markdown",
   "metadata": {},
   "source": [
    "### Ejercicio 5\n",
    "\n",
    "Dada la siguiente lista, transformarla en un array numpy. Muestra el número de dimensiones. A continuación transfórmalo en un vector columna. Muestra el número de dimensiones"
   ]
  },
  {
   "cell_type": "code",
   "execution_count": 23,
   "metadata": {},
   "outputs": [],
   "source": [
    "lista = [100, 80, 180, 140, 25, 170, 200]"
   ]
  },
  {
   "cell_type": "code",
   "execution_count": 24,
   "metadata": {},
   "outputs": [
    {
     "name": "stdout",
     "output_type": "stream",
     "text": [
      "1\n",
      "2\n"
     ]
    }
   ],
   "source": [
    "lista = np.array(lista)\n",
    "print lista.ndim\n",
    "lista = lista.reshape(7, 1)\n",
    "print lista.ndim"
   ]
  },
  {
   "cell_type": "markdown",
   "metadata": {},
   "source": [
    "### Ejercicio 6\n",
    "\n",
    "Intenta repetir el mismo ejercicio que el 4 pero utilizando la función resize. Observa que la función resize modifica las propias dimensiones de a"
   ]
  },
  {
   "cell_type": "code",
   "execution_count": 25,
   "metadata": {},
   "outputs": [
    {
     "name": "stdout",
     "output_type": "stream",
     "text": [
      "[[ 0.1287374   0.09710399]\n",
      " [ 0.57166197  0.44777483]\n",
      " [ 0.55485946  0.116143  ]\n",
      " [ 0.5500305   0.33421587]\n",
      " [ 0.34407589  0.15168296]\n",
      " [ 0.5450903   0.10648726]]\n"
     ]
    }
   ],
   "source": [
    "a = np.random.rand(4,3)\n",
    "a.resize((6,2))\n",
    "print a"
   ]
  },
  {
   "cell_type": "markdown",
   "metadata": {},
   "source": [
    "### Ejercicio 7\n",
    "\n",
    "Crear una matriz a de números aleatorios de 4 filas y 3 columnas. Crear un array b (una sola dimensión) con la concatenación de los elementos de a (utilizando ravel). Cambia el primer elemento poniéndolo a 0 y muestra a"
   ]
  },
  {
   "cell_type": "code",
   "execution_count": 26,
   "metadata": {},
   "outputs": [
    {
     "name": "stdout",
     "output_type": "stream",
     "text": [
      "[[ 0.          0.81855875  0.92683443]\n",
      " [ 0.12464408  0.86630176  0.22399359]\n",
      " [ 0.4122899   0.81052344  0.85792561]\n",
      " [ 0.36659524  0.79286897  0.88263817]]\n"
     ]
    }
   ],
   "source": [
    "a = np.random.rand(4,3)\n",
    "b = a.ravel()\n",
    "b[0] = 0\n",
    "print a"
   ]
  },
  {
   "cell_type": "markdown",
   "metadata": {},
   "source": [
    "### Ejercicio 8\n",
    "\n",
    "Crear una matriz a de números aleatorios de 4 filas y 3 columnas. Crear un array b (una sola dimensión) con la concatenación de los elementos de a. Suma 1 a todos los elementos del array b de tal forma que los valores de a no cambien. "
   ]
  },
  {
   "cell_type": "code",
   "execution_count": 27,
   "metadata": {},
   "outputs": [
    {
     "name": "stdout",
     "output_type": "stream",
     "text": [
      "[[ 0.27964984  0.41007313  0.67372361]\n",
      " [ 0.08681905  0.42644427  0.98036645]\n",
      " [ 0.58219056  0.43970804  0.70246921]\n",
      " [ 0.22906892  0.16497879  0.02463799]]\n",
      "[ 1.27964984  1.41007313  1.67372361  1.08681905  1.42644427  1.98036645\n",
      "  1.58219056  1.43970804  1.70246921  1.22906892  1.16497879  1.02463799]\n"
     ]
    }
   ],
   "source": [
    "a = np.random.rand(4,3)\n",
    "b = a.flatten()\n",
    "b = b +1\n",
    "print a\n",
    "print b"
   ]
  },
  {
   "cell_type": "markdown",
   "metadata": {},
   "source": [
    "### Ejercicio 9\n",
    "\n",
    "Dada una matriz de unos de dimensión 10x10, modificar de una sola vez a 0 todos los elementos que no estén en el borde de la matriz (primera o última fila o columna)."
   ]
  },
  {
   "cell_type": "code",
   "execution_count": 28,
   "metadata": {},
   "outputs": [
    {
     "name": "stdout",
     "output_type": "stream",
     "text": [
      "[[ 1.  1.  1.  1.  1.  1.  1.  1.  1.  1.]\n",
      " [ 1.  0.  0.  0.  0.  0.  0.  0.  0.  1.]\n",
      " [ 1.  0.  0.  0.  0.  0.  0.  0.  0.  1.]\n",
      " [ 1.  0.  0.  0.  0.  0.  0.  0.  0.  1.]\n",
      " [ 1.  0.  0.  0.  0.  0.  0.  0.  0.  1.]\n",
      " [ 1.  0.  0.  0.  0.  0.  0.  0.  0.  1.]\n",
      " [ 1.  0.  0.  0.  0.  0.  0.  0.  0.  1.]\n",
      " [ 1.  0.  0.  0.  0.  0.  0.  0.  0.  1.]\n",
      " [ 1.  0.  0.  0.  0.  0.  0.  0.  0.  1.]\n",
      " [ 1.  1.  1.  1.  1.  1.  1.  1.  1.  1.]]\n"
     ]
    }
   ],
   "source": [
    "a = np.ones((10,10))\n",
    "a[1:9,1:9] = 0\n",
    "print a"
   ]
  },
  {
   "cell_type": "markdown",
   "metadata": {},
   "source": [
    "### Ejercicio 10\n",
    "\n",
    "Dada una matriz de unos de dimensión 8x8, modificar (en dos instrucciones) a 0 los elementos necesarios hasta crear una matriz de unos y ceros salteados (tipo tablero de ajedrez) \n"
   ]
  },
  {
   "cell_type": "code",
   "execution_count": 30,
   "metadata": {},
   "outputs": [
    {
     "name": "stdout",
     "output_type": "stream",
     "text": [
      "[[ 0.  1.  0.  1.  0.  1.  0.  1.]\n",
      " [ 1.  0.  1.  0.  1.  0.  1.  0.]\n",
      " [ 0.  1.  0.  1.  0.  1.  0.  1.]\n",
      " [ 1.  0.  1.  0.  1.  0.  1.  0.]\n",
      " [ 0.  1.  0.  1.  0.  1.  0.  1.]\n",
      " [ 1.  0.  1.  0.  1.  0.  1.  0.]\n",
      " [ 0.  1.  0.  1.  0.  1.  0.  1.]\n",
      " [ 1.  0.  1.  0.  1.  0.  1.  0.]]\n"
     ]
    }
   ],
   "source": [
    "a = np.ones((8,8))\n",
    "a[1::2,1::2] = 0\n",
    "a[0::2, 0::2] = 0\n",
    "print a"
   ]
  },
  {
   "cell_type": "markdown",
   "metadata": {},
   "source": [
    "### Ejercicio 11\n",
    "\n",
    "Dada la siguiente matriz, obtener un array numpy con los elementos mayores de 10"
   ]
  },
  {
   "cell_type": "code",
   "execution_count": 31,
   "metadata": {},
   "outputs": [],
   "source": [
    "matriz = [[ 0, 10, 20], [20, 30, 40]]"
   ]
  },
  {
   "cell_type": "code",
   "execution_count": 32,
   "metadata": {},
   "outputs": [
    {
     "data": {
      "text/plain": [
       "array([20, 20, 30, 40])"
      ]
     },
     "execution_count": 32,
     "metadata": {},
     "output_type": "execute_result"
    }
   ],
   "source": [
    "matriz = np.array(matriz)\n",
    "matriz[matriz>10]"
   ]
  },
  {
   "cell_type": "markdown",
   "metadata": {},
   "source": [
    "### Ejercicio 12\n",
    "Dada la siguiente matriz, obtener una nueva en la que sumamos +1 a todos los elementos positivos y restamos 1 a todos los negativos"
   ]
  },
  {
   "cell_type": "code",
   "execution_count": 33,
   "metadata": {},
   "outputs": [],
   "source": [
    "matriz = np.random.randn(10,10)"
   ]
  },
  {
   "cell_type": "code",
   "execution_count": 34,
   "metadata": {},
   "outputs": [
    {
     "name": "stdout",
     "output_type": "stream",
     "text": [
      "[[ -1.04999986e+00  -1.64145845e+00   9.89813905e-01  -4.26190967e-01\n",
      "    8.17320356e-01  -1.55705523e+00   3.10788858e-01   1.96281676e+00\n",
      "    4.29163296e-01   2.91334657e-01]\n",
      " [  2.16704539e-01  -3.13437309e+00   9.32808525e-01   1.43779947e+00\n",
      "   -1.39267492e+00   1.71416540e-01   1.05150295e+00  -6.49929630e-01\n",
      "    8.92668728e-01   2.77230561e-03]\n",
      " [ -1.41296666e-01  -4.78362658e-01  -1.17627539e-01  -1.37804594e+00\n",
      "   -1.66643885e+00   1.04115483e+00   3.06623968e-01   1.47593399e+00\n",
      "    1.95359144e-01   5.57879808e-02]\n",
      " [  7.23308731e-01   5.13446505e-01   4.28017612e-01   1.29146968e+00\n",
      "   -1.49904201e+00   1.46701237e-01   4.69010112e-01  -4.49806930e-01\n",
      "   -1.38291948e+00  -1.45344499e-01]\n",
      " [  7.61080157e-01   5.30858572e-01  -9.40498057e-01   4.14042165e-01\n",
      "    3.90107110e-01  -1.03875654e-01   1.23551857e+00  -1.76001815e+00\n",
      "    6.30097953e-01  -1.89901241e+00]\n",
      " [  3.54750889e-01  -1.19476812e-01  -5.16046613e-01   7.16327749e-01\n",
      "    1.02808855e+00  -2.39537905e-01   3.56384371e-01  -2.31994958e-01\n",
      "   -9.39736770e-01  -1.00015189e+00]\n",
      " [  1.48343784e+00  -1.98898097e-01   3.11833798e-01   7.88579680e-01\n",
      "    1.10291336e+00   1.36035795e-01  -1.33340976e+00   4.07504494e-01\n",
      "   -4.17260781e-01  -1.74704014e+00]\n",
      " [  1.71477805e+00  -1.70715163e-01   2.39269460e+00  -1.62788109e+00\n",
      "   -2.46692592e+00   4.20578249e-01  -1.33483700e+00   3.12574211e-01\n",
      "    2.97882958e-01   1.64816586e+00]\n",
      " [  2.03667534e-01  -3.68083050e-01   5.33764607e-01   1.83465688e+00\n",
      "    5.79662477e-01   2.03562027e-01   5.71713951e-01   1.55501658e+00\n",
      "   -3.54187074e-01  -2.32069079e+00]\n",
      " [ -1.87121921e+00   8.53687754e-01  -2.90373162e-01   1.48921667e-01\n",
      "   -5.40468292e-01   2.86127064e-01  -5.12006673e-01  -3.76465622e-01\n",
      "    8.79809744e-02  -7.22251938e-01]]\n",
      "[[-2.04999986 -2.64145845  1.9898139  -1.42619097  1.81732036 -2.55705523\n",
      "   1.31078886  2.96281676  1.4291633   1.29133466]\n",
      " [ 1.21670454 -4.13437309  1.93280853  2.43779947 -2.39267492  1.17141654\n",
      "   2.05150295 -1.64992963  1.89266873  1.00277231]\n",
      " [-1.14129667 -1.47836266 -1.11762754 -2.37804594 -2.66643885  2.04115483\n",
      "   1.30662397  2.47593399  1.19535914  1.05578798]\n",
      " [ 1.72330873  1.51344651  1.42801761  2.29146968 -2.49904201  1.14670124\n",
      "   1.46901011 -1.44980693 -2.38291948 -1.1453445 ]\n",
      " [ 1.76108016  1.53085857 -1.94049806  1.41404217  1.39010711 -1.10387565\n",
      "   2.23551857 -2.76001815  1.63009795 -2.89901241]\n",
      " [ 1.35475089 -1.11947681 -1.51604661  1.71632775  2.02808855 -1.23953791\n",
      "   1.35638437 -1.23199496 -1.93973677 -2.00015189]\n",
      " [ 2.48343784 -1.1988981   1.3118338   1.78857968  2.10291336  1.1360358\n",
      "  -2.33340976  1.40750449 -1.41726078 -2.74704014]\n",
      " [ 2.71477805 -1.17071516  3.3926946  -2.62788109 -3.46692592  1.42057825\n",
      "  -2.334837    1.31257421  1.29788296  2.64816586]\n",
      " [ 1.20366753 -1.36808305  1.53376461  2.83465688  1.57966248  1.20356203\n",
      "   1.57171395  2.55501658 -1.35418707 -3.32069079]\n",
      " [-2.87121921  1.85368775 -1.29037316  1.14892167 -1.54046829  1.28612706\n",
      "  -1.51200667 -1.37646562  1.08798097 -1.72225194]]\n"
     ]
    }
   ],
   "source": [
    "print matriz\n",
    "matriz[matriz<0] = matriz[matriz<0] -1\n",
    "matriz[matriz>0] = matriz[matriz>0] +1\n",
    "print matriz"
   ]
  },
  {
   "cell_type": "markdown",
   "metadata": {},
   "source": [
    "### Ejercicio 13\n",
    "\n",
    "Dada una matriz de dimensión 10x10 de números aleatorios siguiendo una distribución normal, sumar todos los elementos positivos, todos los negativos y todos los elementos de dicha matriz"
   ]
  },
  {
   "cell_type": "code",
   "execution_count": null,
   "metadata": {},
   "outputs": [],
   "source": [
    "matriz = np.random.randn(10,10)\n",
    "matriz[matriz>0].sum()\n",
    "matriz[matriz<0].sum()\n",
    "matriz.sum()"
   ]
  },
  {
   "cell_type": "markdown",
   "metadata": {},
   "source": [
    "### Ejercicio 14\n",
    "Dada un array numpy con los números del 0 al 100, obtener la suma de los números que sean multiplos de 3 y de 5"
   ]
  },
  {
   "cell_type": "code",
   "execution_count": null,
   "metadata": {},
   "outputs": [],
   "source": [
    "array = np.arange(100)\n",
    "array[np.logical_and(array%3 ==0 ,array%5==0)].sum()"
   ]
  },
  {
   "cell_type": "markdown",
   "metadata": {},
   "source": [
    "### Ejercicio 15\n",
    "\n",
    "Dada una matriz de dimensión 100x5 de números aleatorios siguiendo (entre 0 y 1), obtener la suma de cada fila, la suma de cada columna y la suma de todos sus elementos "
   ]
  },
  {
   "cell_type": "code",
   "execution_count": null,
   "metadata": {},
   "outputs": [],
   "source": [
    "matriz = np.random.rand(100,5)\n",
    "print matriz.sum(axis=0)\n",
    "print matriz.sum(axis =1)\n",
    "print matriz.sum()"
   ]
  },
  {
   "cell_type": "markdown",
   "metadata": {},
   "source": [
    "### Ejercicio 16\n",
    "\n",
    "Dado un vector de 100 números aleatorio (entre 0 y 1), cambiar el elemento más pequeño por un 0"
   ]
  },
  {
   "cell_type": "code",
   "execution_count": null,
   "metadata": {},
   "outputs": [],
   "source": [
    "array = np.random.rand(100)\n",
    "array[np.argmin(array)]=0\n",
    "print array"
   ]
  },
  {
   "cell_type": "markdown",
   "metadata": {},
   "source": [
    "### Ejercicio 17\n",
    "\n",
    "Crea dos matrices, a y b, de números aleatorioes entre 0 y 1 de dimensión 10x10. Obténuna nueva matriz como resultado de sumar las dos matrices a y b"
   ]
  },
  {
   "cell_type": "code",
   "execution_count": 35,
   "metadata": {},
   "outputs": [
    {
     "name": "stdout",
     "output_type": "stream",
     "text": [
      "[[ 0.51478867  1.08040139  1.21445378  0.99972404  0.69638771  1.46076822\n",
      "   0.16137944  0.85427173  0.96176539  0.79863066]\n",
      " [ 1.33053157  1.73216603  1.42006896  1.52334403  0.48116363  0.51220245\n",
      "   1.1613379   1.45812524  0.8144015   1.23035572]\n",
      " [ 1.26626401  0.86139054  1.25644675  1.08116503  1.61899888  0.70080188\n",
      "   1.28659481  0.9500055   0.97375995  1.3078319 ]\n",
      " [ 0.81381513  0.49525773  0.61547333  0.43195891  0.90346946  0.96224502\n",
      "   1.68854367  0.77965024  0.22170831  0.66428999]\n",
      " [ 0.83689031  1.32678728  0.89278996  1.36516824  0.91920623  1.25794879\n",
      "   0.4536234   1.6053385   1.49027788  0.22584258]\n",
      " [ 0.39454544  0.67129905  1.15202586  0.54405071  0.31438494  0.55384677\n",
      "   0.23285974  1.44431034  0.22833414  0.99453896]\n",
      " [ 0.25018684  1.26750116  0.93384931  1.11491264  1.22533128  1.7113508\n",
      "   0.72353958  1.96106285  0.48467095  0.92659392]\n",
      " [ 0.88617809  0.39746378  1.56087216  0.67075929  0.46924169  0.3018711\n",
      "   1.34586885  0.91001701  1.11010785  1.17978041]\n",
      " [ 0.53001322  0.39942381  1.50665119  0.62344837  1.80159662  0.67367773\n",
      "   1.71673665  0.45274951  1.04887491  1.14546155]\n",
      " [ 1.35731345  1.29493227  0.79417624  1.19916941  1.02274042  1.36703778\n",
      "   0.18900065  0.96728697  1.14978273  0.43240659]]\n"
     ]
    }
   ],
   "source": [
    "a = np.random.rand(10,10)\n",
    "b = np.random.rand(10,10)\n",
    "c = a+ b\n",
    "print c"
   ]
  },
  {
   "cell_type": "markdown",
   "metadata": {},
   "source": [
    "### Ejercicio 18\n",
    "\n",
    "Dado la siguiente matriz y el vector, obtener una nueva matriz cuyos elementos seal el resultado de multiplicar elementos a elemento el vector fila por todas las filas de la matriz.\n",
    "\n",
    "Obtener una cuarta matriz cuyo resultado sea el de multiplicar elemento a elemento el vector por todas las columnas de la matriz"
   ]
  },
  {
   "cell_type": "code",
   "execution_count": 37,
   "metadata": {},
   "outputs": [],
   "source": [
    "a = [[1, 2, 3], [4, 5, 6], [7, 8, 9]]\n",
    "b = [1, 2, 3]"
   ]
  },
  {
   "cell_type": "code",
   "execution_count": 39,
   "metadata": {},
   "outputs": [
    {
     "name": "stdout",
     "output_type": "stream",
     "text": [
      "[[ 1  4  9]\n",
      " [ 4 10 18]\n",
      " [ 7 16 27]]\n",
      "[[ 1  2  3]\n",
      " [ 8 10 12]\n",
      " [21 24 27]]\n"
     ]
    }
   ],
   "source": [
    "a = np.array(a)\n",
    "b = np.array(b)\n",
    "c1 = a*b\n",
    "print c1\n",
    "c2 = a * b.reshape(3, 1)\n",
    "print c2"
   ]
  },
  {
   "cell_type": "markdown",
   "metadata": {},
   "source": [
    "### Ejercicio 19"
   ]
  },
  {
   "cell_type": "markdown",
   "metadata": {},
   "source": [
    "Dadas las siguientes matrices, a y b, obtener el número de dimensiones de cada una de ellas. Obtener una nueva matriz c de forma se sume la matriz b a cada \"capa\" de la matriz a"
   ]
  },
  {
   "cell_type": "code",
   "execution_count": 40,
   "metadata": {},
   "outputs": [],
   "source": [
    "a = np.random.rand(4,3,3)\n",
    "b = np.array([[1, 1, 1], [2, 2, 2], [3, 3, 3]])\n"
   ]
  },
  {
   "cell_type": "code",
   "execution_count": 41,
   "metadata": {},
   "outputs": [
    {
     "name": "stdout",
     "output_type": "stream",
     "text": [
      "[[[ 1.78947504  1.43299902  1.47012372]\n",
      "  [ 2.87671982  2.05172215  2.52375256]\n",
      "  [ 3.35967978  3.83371944  3.33587597]]\n",
      "\n",
      " [[ 1.05780008  1.20681388  1.86854078]\n",
      "  [ 2.19092829  2.87014479  2.99097507]\n",
      "  [ 3.77445103  3.99219605  3.02216009]]\n",
      "\n",
      " [[ 1.08359705  1.49441005  1.7921449 ]\n",
      "  [ 2.95259849  2.84673548  2.04468869]\n",
      "  [ 3.24699202  3.10783192  3.34646848]]\n",
      "\n",
      " [[ 1.18943259  1.42347068  1.63098319]\n",
      "  [ 2.97695637  2.781617    2.79834554]\n",
      "  [ 3.11156058  3.09617969  3.51358922]]]\n"
     ]
    }
   ],
   "source": [
    "c = a+ b\n",
    "print c"
   ]
  },
  {
   "cell_type": "markdown",
   "metadata": {},
   "source": [
    "### Ejercicio 20\n",
    "\n",
    "Dados los siguientes vectores a y b, obtener una matriz c de tal forma que $c_{ij} = a_i \\times b_j$"
   ]
  },
  {
   "cell_type": "code",
   "execution_count": 42,
   "metadata": {},
   "outputs": [],
   "source": [
    "a = [1, 2, 3]\n",
    "b = [1, 2, 3]\n"
   ]
  },
  {
   "cell_type": "code",
   "execution_count": 43,
   "metadata": {},
   "outputs": [
    {
     "name": "stdout",
     "output_type": "stream",
     "text": [
      "[[1 2 3]\n",
      " [2 4 6]\n",
      " [3 6 9]]\n"
     ]
    }
   ],
   "source": [
    "a = np.array(a)\n",
    "b = np.array(b)\n",
    "a =  a.reshape(3,1)\n",
    "b = b.reshape(1,3)\n",
    "c = np.dot(a,b)\n",
    "\n",
    "print c"
   ]
  },
  {
   "cell_type": "code",
   "execution_count": null,
   "metadata": {},
   "outputs": [],
   "source": []
  }
 ],
 "metadata": {
  "anaconda-cloud": {},
  "kernelspec": {
   "display_name": "Python 2",
   "language": "python",
   "name": "python2"
  },
  "language_info": {
   "codemirror_mode": {
    "name": "ipython",
    "version": 2
   },
   "file_extension": ".py",
   "mimetype": "text/x-python",
   "name": "python",
   "nbconvert_exporter": "python",
   "pygments_lexer": "ipython2",
   "version": "2.7.15"
  }
 },
 "nbformat": 4,
 "nbformat_minor": 1
}
