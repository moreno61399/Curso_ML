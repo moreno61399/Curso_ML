{
 "cells": [
  {
   "cell_type": "markdown",
   "metadata": {},
   "source": [
    "# Ejercicios NumPy II"
   ]
  },
  {
   "cell_type": "code",
   "execution_count": 1,
   "metadata": {},
   "outputs": [],
   "source": [
    "import numpy as np"
   ]
  },
  {
   "cell_type": "markdown",
   "metadata": {},
   "source": [
    "### Ejercicio 1\n",
    "\n",
    "Cargar la matriz de números que se encuentra en dimensiones.txt. Cada fila representa a cada uno de los objetos de un problema concreto, siendo cada una de las columnas las características que definen cada objeto. Observa que cada columna tiene un rango muy diferente. Obtener nuevas matrices en las que cada una de las características esté en la misma escala. Para cada matriz, normaliza todas las columnas utilizando uno de los siguientes métodos:\n",
    "- Dividir cada elemento entre la suma de los elementos de cada columna $$\\frac{x_i}{\\sum_{j=1}^{n}x_j}$$\n",
    "- Restar a cada elemento el mínimo de la columna y dividir entre la resta del máximo menos mínimo $$\\frac{x_i-\\min_j x_j}{\\max_j x_j - \\min_j x_j}$$\n",
    "- Restar a cada elemento la media aritmética de la columna y dividir entre la desviación típica de los elementos de la columna $$\\frac{x_i - \\overline{x}}{\\sigma}$$\n",
    "- Dividir cada elemento entre la norma euclídea del vector columna $$\\frac{x_i}{\\sqrt{\\sum_{j=1}^{n}x_j^2}}$$"
   ]
  },
  {
   "cell_type": "code",
   "execution_count": 12,
   "metadata": {},
   "outputs": [
    {
     "data": {
      "text/plain": [
       "array([[ True,  True,  True, ...,  True,  True,  True],\n",
       "       [ True,  True,  True, ...,  True,  True,  True],\n",
       "       [ True,  True,  True, ...,  True,  True,  True],\n",
       "       ..., \n",
       "       [ True,  True,  True, ...,  True,  True,  True],\n",
       "       [ True,  True,  True, ...,  True,  True,  True],\n",
       "       [ True,  True,  True, ...,  True,  True,  True]], dtype=bool)"
      ]
     },
     "execution_count": 12,
     "metadata": {},
     "output_type": "execute_result"
    }
   ],
   "source": [
    "matriz = np.loadtxt('matriz.txt', delimiter = ',')\n",
    "normalizacion1 = matriz / matriz.sum(axis = 0)\n",
    "normalizacion2 = (matriz - matriz.min(axis = 0))/(matriz.max(axis = 0) - matriz.min(axis = 0))\n",
    "normalizacion3 = (matriz - matriz.mean(axis = 0))/matriz.std(axis = 0)\n",
    "normalizacion4 = matriz / np.sqrt((matriz**2).sum(axis = 0))\n",
    "#normalizacion4 = matriz / np.linalg.norm(matriz, axis = 0)"
   ]
  },
  {
   "cell_type": "markdown",
   "metadata": {},
   "source": [
    "### Ejercicio 2\n",
    "\n",
    "En este ejercicio vamos a aproximar la integral definida de una función $\\int_{a}^{b} f(x)dx$ mediante números aleatorios. Para ello, vamos a generar un conjunto de n (suficientemente grande) números aleatorios en el intervalo $[a,b]$. La aproximación de la integral de dicha función vendrá dada por\n",
    "\n",
    "$$\\frac{b-a}{n}\\sum_{i=1}^{n} f(x_i).$$\n",
    "\n",
    "Calculamos la aproximación de la integral $\\int_{0}^{10}f(x)dx$ donde \n",
    "\n",
    "$$f(x)=\\begin{cases}\n",
    "    x^2-\\frac{x}{9} & \\mbox{ si } x\\le 3 \\\\\n",
    "    \\frac{4x}{3}-3 & \\mbox{ si } 3<x\\le 6 \\\\\n",
    "    \\frac{-5x}{24}+\\frac{50}{24} &  \\mbox{ en otro caso}\n",
    "\\end{cases}$$\n",
    "\n",
    "Evidentemente, cuanto mayor sea n (conjunto de números aleatorios), mejor será la aproximación de la integral"
   ]
  },
  {
   "cell_type": "code",
   "execution_count": 26,
   "metadata": {},
   "outputs": [
    {
     "data": {
      "text/plain": [
       "18.698514865268756"
      ]
     },
     "execution_count": 26,
     "metadata": {},
     "output_type": "execute_result"
    }
   ],
   "source": [
    "n = 100000\n",
    "a = 0\n",
    "b = 10\n",
    "x = np.random.uniform(a, b, size = (n))\n",
    "f = np.zeros_like(x)\n",
    "f[x<=3] = x[x<=3]**2 - x[x<=3]/9\n",
    "f[(x>3) & (x<=6)] = 4*x[(x>3) & (x<=6)]/3 - 3\n",
    "f[x>6] = -5*x[x>6]/24 + 50/24\n",
    "integral = float(b-a)/n * f.sum()\n",
    "integral"
   ]
  },
  {
   "cell_type": "markdown",
   "metadata": {},
   "source": [
    "### Ejercicio 3\n",
    "\n",
    "Aproximación del número $\\pi$ mediante números aleatorios. \n",
    "\n",
    "Generar un conjunto de n puntos aleatorios de dos dimensiones en el cuadrado $[-1,1]^2$. Para cada punto aleatorio $(x_1,x_2)$, contaremos cuántos puntos satisfacen que están dentro del círculo de radio 1 centrado en $(0,0)$, es decir, cuántos cumplen la condición $x_1^2+x_2^2\\le 1$. El área de dicho círculo es $\\pi$, puesto que el radio es igual a 1. Por tanto, podemos establecer que \n",
    "\n",
    "$$ \\pi = 4 \\frac{\\mbox{# puntos dentro del círuclo}}{n}$$\n",
    "\n",
    "<img src=\"image.png\">"
   ]
  },
  {
   "cell_type": "code",
   "execution_count": 32,
   "metadata": {},
   "outputs": [
    {
     "data": {
      "text/plain": [
       "3.1407336"
      ]
     },
     "execution_count": 32,
     "metadata": {},
     "output_type": "execute_result"
    }
   ],
   "source": [
    "n = 10000000\n",
    "x = np.random.uniform(low = -1, high = 1, size = (n, 2))\n",
    "puntos_dentro = np.sum((x**2).sum(axis = 1)<=1)\n",
    "pi = 4.0 * puntos_dentro / n\n",
    "pi"
   ]
  },
  {
   "cell_type": "markdown",
   "metadata": {},
   "source": [
    "### Ejercicio 4\n",
    "\n",
    "Comprobación del tiempo de ejecución entre diferentes instrucciones.\n",
    "\n",
    "Importando el módulo time podemos acceder a la funcionalidad %timeit que nos permite medir el tiempo de ejecución de una instrucción, función, etc.\n",
    "\n",
    "Observa el siguiente código"
   ]
  },
  {
   "cell_type": "code",
   "execution_count": 33,
   "metadata": {},
   "outputs": [
    {
     "name": "stdout",
     "output_type": "stream",
     "text": [
      "1 loop, best of 3: 451 ms per loop\n",
      "100 loops, best of 3: 4 ms per loop\n"
     ]
    }
   ],
   "source": [
    "import time\n",
    "def suma1(m1, m2):\n",
    "    dimensiones = m1.shape\n",
    "    m = np.zeros_like(m1)\n",
    "    for i in range(dimensiones[0]):\n",
    "        for j in range(dimensiones[1]):\n",
    "            m[i,j] = m1[i,j] + m2[i,j]\n",
    "\n",
    "def suma2(m1,m2):\n",
    "    m = m1+2\n",
    "\n",
    "m1 = np.random.rand(1000,1000)\n",
    "m2 = np.random.rand(1000,1000)\n",
    "%timeit suma1(m1,m2)\n",
    "%timeit suma2(m1,m2)"
   ]
  },
  {
   "cell_type": "markdown",
   "metadata": {},
   "source": [
    "Comprueba el tiempo de ejecución en estos casos:\n",
    "\n",
    "Ejemplo1: Dado un vector de n números aleatorios entre 0 y 10, realizar una función que aplique la misma función f(x)  (del ejercicio de la integración) recorriendo todos los elementos y utilizando if/elif. Realizar otra función que aplique boolean indexing. Comparar los tiempos\n",
    "\n",
    "\n"
   ]
  },
  {
   "cell_type": "code",
   "execution_count": 37,
   "metadata": {},
   "outputs": [
    {
     "name": "stdout",
     "output_type": "stream",
     "text": [
      "100 loops, best of 3: 15.5 ms per loop\n",
      "1000 loops, best of 3: 506 µs per loop\n"
     ]
    }
   ],
   "source": [
    "def funcion_1(x):\n",
    "    f = np.zeros_like(x)\n",
    "    for i in range(len(x)):\n",
    "        if x[i]<= 3:\n",
    "            f[i] = x[i]**2 - x[i]/9\n",
    "        elif x[i]<=6:\n",
    "            f[i] = 4*x[i]/3 - 3\n",
    "        else:\n",
    "            f[i] = -5*x[i]/24 + 50/24\n",
    "    return f\n",
    "\n",
    "def funcion_2(x):\n",
    "    f = np.zeros_like(x)\n",
    "    f[x<=3] = x[x<=3]**2 - x[x<=3]/9\n",
    "    f[(x>3) & (x<=6)] = 4*x[(x>3) & (x<=6)]/3 - 3\n",
    "    f[x>6] = -5*x[x>6]/24 + 50/24\n",
    "    return f\n",
    "\n",
    "x = np.random.uniform(low = 0, high = 10, size = 10000)\n",
    "%timeit funcion_1(x)\n",
    "%timeit funcion_2(x)"
   ]
  },
  {
   "cell_type": "code",
   "execution_count": null,
   "metadata": {},
   "outputs": [],
   "source": []
  }
 ],
 "metadata": {
  "anaconda-cloud": {},
  "kernelspec": {
   "display_name": "Python [conda env:py37vision] *",
   "language": "python",
   "name": "conda-env-py37vision-py"
  },
  "language_info": {
   "codemirror_mode": {
    "name": "ipython",
    "version": 3
   },
   "file_extension": ".py",
   "mimetype": "text/x-python",
   "name": "python",
   "nbconvert_exporter": "python",
   "pygments_lexer": "ipython3",
   "version": "3.7.4"
  }
 },
 "nbformat": 4,
 "nbformat_minor": 1
}
