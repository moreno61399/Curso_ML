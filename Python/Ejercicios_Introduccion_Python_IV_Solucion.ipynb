{
 "cells": [
  {
   "cell_type": "markdown",
   "metadata": {},
   "source": [
    "### Ejercicio 1\n",
    "Posicionarse en un directorio cualquiera. Establecerlo como directorio de trabajo. Obtén una lista con los nombres de todos los archivos/carpetas que estén dentro del directorio actual. Muéstralo por pantalla. Utilizando la función filter, obtener una segunda lista que contenta únicamente los nombres de los archivos (eliminando las carpetas). "
   ]
  },
  {
   "cell_type": "code",
   "execution_count": null,
   "metadata": {},
   "outputs": [],
   "source": [
    "import os\n",
    "os.chdir('D:\\\\UPNA\\\\DOCENCIA\\\\2019-2020\\\\TP_Python')\n",
    "lista = os.listdir(os.getcwd())\n",
    "print (\"Lista de ficheros y carpetas:\")\n",
    "print (lista)\n",
    "lista_ficheros = list(filter(lambda x: os.path.isfile(x), lista))\n",
    "print (\"Lista de solo ficheros: \")\n",
    "print (lista_ficheros)"
   ]
  },
  {
   "cell_type": "markdown",
   "metadata": {},
   "source": [
    "### Ejercicio 2\n",
    "Basándonos en la lista de ficheros anterior, hacer un programa que acceda a cada uno de los archivos (yob2010.txt, …, yob2014.txt) y que muestre de cada fichero las 5 primeras líneas. Recuerda de clases anteriores que:\n",
    "- La apertura de un fichero en modo lectura es: f = open(nombre_archivo,’r’)\n",
    "- La lectura de una sola lína del fichero es: línea = f.readline()\n"
   ]
  },
  {
   "cell_type": "code",
   "execution_count": null,
   "metadata": {},
   "outputs": [],
   "source": [
    "lista_ficheros = ['yob2010.txt', 'yob2011.txt', 'yob2012.txt', 'yob2013.txt', 'yob2014.txt']\n",
    "for archivo in lista_ficheros:\n",
    "    f = open('files/'+archivo,'r')\n",
    "    print (\"Fichero {}\\n\".format(archivo))\n",
    "    for i in range(5):\n",
    "        linea = f.readline();\n",
    "        print (linea)\n",
    "    f.close()"
   ]
  },
  {
   "cell_type": "markdown",
   "metadata": {},
   "source": [
    "### Ejercicio 3\n",
    "a partir de quijote.txt, localizar aquellas palabras que contentan al menos 3 vocales seguidas. Realizar un diccionario cuya clave sean las palabras encontradas y su valor el número de veces que dicha palabra tiene. Recuerda que\n",
    "- La lectura de todas las líneas de un fichero es: for línea in fichero:\n",
    "- La separación de una frase en palabras individuales es : lista_palabras = línea.split(“ “)\n",
    "- A la hora de insertar una palabra en un diccionario, podemos utilizar la función get: diccionario.get(clave, valor_por_defecto). Si la clave existe, nos devolverá su valor asociado. Si no existe, nos devolverá valor_por_defecto. Así, si queremos hacer un conteo, podemos utilizar diccionario [clave] = diccionaro.get(clave, 0)+1. \n",
    "- Podemos utilizar una expresión regular que sea: un conjunto de 0 o más caracteres seguidos de 3 vocales (aeiou{3}) seguido de un conjunto de 0 o más caracteres.\n"
   ]
  },
  {
   "cell_type": "code",
   "execution_count": null,
   "metadata": {},
   "outputs": [],
   "source": [
    "import re\n",
    "expresion = re.compile(\".*[aeiou]{3}.*\")\n",
    "diccionario = {}\n",
    "quijote = open('files/quijote.txt')\n",
    "for linea in quijote:\n",
    "    lista_palabras = linea.split(\" \")\n",
    "    for palabra in lista_palabras:\n",
    "        if re.match(expresion, palabra)!=None:\n",
    "            diccionario[palabra] = diccionario.get(palabra,0)+1\n",
    "quijote.close()\n",
    "print (diccionario)"
   ]
  },
  {
   "cell_type": "markdown",
   "metadata": {},
   "source": [
    "### Ejercicio 4\n",
    "scopus.txt contiene la información de los 2000 últimos artículos de investigación que contienen ‘data science’ como tema. Queremos obtener mediante un programa Python el listado de todos los correos electrónicos de los autores. Observa que la aparición de los correos dentro de cada línea es: “… email: nombre1@ejemplo.com”. Utiliza una expresión regular y utilizar los paréntesis para definir un grupo que englobe al correo electrónico. Ejemplo: re.compile(“email: (…)\\””). "
   ]
  },
  {
   "cell_type": "code",
   "execution_count": null,
   "metadata": {},
   "outputs": [],
   "source": [
    "expresion = re.compile(\"email: (.+@.+)\\\"\")\n",
    "scopus = open('files/scopus.txt', encoding=\"utf8\")\n",
    "lista_correos = []\n",
    "for linea in scopus:\n",
    "    obj = re.search(expresion, linea)\n",
    "    if obj:\n",
    "        lista_correos.append(obj.groups()[0])\n",
    "scopus.close()\n",
    "print (lista_correos)"
   ]
  },
  {
   "cell_type": "markdown",
   "metadata": {},
   "source": [
    "### Ejercicio 5\n",
    "Abre y observa los archivos yob2010.txt, …, yob2015.txt. Cada archivo contiene los nombres puestos a los recién nacidos de los años 2010 en adelante en Estados Unidos. El formato del archivo es:\n",
    "\t\n",
    "    Nombre,sexo,número\n",
    "    \n",
    "donde Nombre es el nombre del bebé, sexo es F (femenino) o M (masculino) y número es el número de bebés inscritos en la seguridad social con dicho nombre.\n",
    "Construir un úncio diccionario de nombres femeninos y otro de nombres masculinos que contengan todos los nombres como clave y el número de veces que dicho nombre ha sido puesto en los últimos años. Mostrar los 10 nombres femeninos y masculinos más populares (esto último puede hacerse mediante la función sorted(diccionario, key=diccionaro.get, reverse=True)) \n"
   ]
  },
  {
   "cell_type": "code",
   "execution_count": null,
   "metadata": {},
   "outputs": [],
   "source": [
    "diccionarioM={}\n",
    "diccionarioF={}\n",
    "lista_ficheros = ['yob2010.txt', 'yob2011.txt', 'yob2012.txt', 'yob2013.txt', 'yob2014.txt']\n",
    "for x in lista_ficheros:\n",
    "    f = open('files/' + x,'r')\n",
    "    for linea in f:\n",
    "        linea = linea.split(\",\")\n",
    "        if linea[1]=='M':\n",
    "            diccionarioM[linea[0]]=diccionarioM.get(linea[0],0)+int(linea[2])\n",
    "        else:\n",
    "            diccionarioF[linea[0]]=diccionarioF.get(linea[0],0)+int(linea[2])\n",
    "    f.close()\n",
    "ordenadoM = sorted(diccionarioM, key=diccionarioM.get, reverse=True)\n",
    "for i in range(10):\n",
    "    print (\"Nombre: {}. Num: {}\".format(ordenadoM[i],diccionarioM[ordenadoM[i]]))\n",
    "ordenadoF = sorted(diccionarioF, key=diccionarioF.get, reverse=True)\n",
    "for i in range(10):\n",
    "    print (\"Nombre: {}. Num: {}\".format(ordenadoF[i],diccionarioF[ordenadoF[i]]))"
   ]
  },
  {
   "cell_type": "markdown",
   "metadata": {},
   "source": [
    "### Ejercicio 6\n",
    "A partir de los mismos ficheros, construir un diccionario (masculino y otro femenino) que contenga como clave cada uno de los nombres. En este caso, el valor asociado a cada nombre será una lista con las posiciones que dicho nombre ocupa en el ranking cada año. \n",
    "Comprueba que \n",
    "\n",
    "diccionarioM[‘Jacob’] = [1, 1, 1, 3, 4, 4]\n",
    "\n",
    "Una vez obtenido el diccionario, queremos trabajar únicamente con aquellos nombres que aparecen en todos y cada uno de los años. Por ejemplo, Si accedemos a la lista asociada a ‘Ringo’ vemos que únicamente aparece en el listado 4 años, concretamente en las posiciones\n",
    "\n",
    "[11872, 11938, 10496, 6942]\n",
    "\n",
    "Elimina del diccionario aquellas claves cuyas listas asociadas tengan una longitud menor que seis. \n",
    "Por último genera una copia del diccionario manteniendo las claves pero modificando la lista de posiciones por la posición media que dicho nombre ocupa. Muestra por pantalla los 10 con menor media y comprueba\n",
    "\n",
    "Nombre: Jacob. Posicion: 2.33333333333\n",
    "\n",
    "Nombre: Noah. Posicion: 3.16666666667\n",
    "\n",
    "Nombre: Mason. Posicion: 4.33333333333\n",
    "\n",
    "Nombre: William. Posicion: 4.66666666667\n",
    "\n",
    "Nombre: Ethan. Posicion: 5.0\n",
    "\n",
    "Nombre: Michael. Posicion: 6.5\n",
    "\n",
    "Nombre: Alexander. Posicion: 7.83333333333\n",
    "\n",
    "Nombre: Liam. Posicion: 9.5\n",
    "\n",
    "Nombre: Jayden. Posicion: 10.0\n",
    "\n",
    "Nombre: Daniel. Posicion: 10.1666666667\n"
   ]
  },
  {
   "cell_type": "code",
   "execution_count": null,
   "metadata": {},
   "outputs": [],
   "source": [
    "from functools import reduce\n",
    "diccionarioM_puesto = {}\n",
    "diccionarioF_puesto = {}\n",
    "for x in lista_ficheros:\n",
    "    f = open('files/' + x,'r')\n",
    "    posicionM = 1\n",
    "    posicionF = 1\n",
    "    for linea in f:\n",
    "        linea = linea.split(\",\")\n",
    "        if linea[1]=='M':\n",
    "            if linea[0] in diccionarioM_puesto:\n",
    "                diccionarioM_puesto[linea[0]].append(posicionM)\n",
    "            else:\n",
    "                diccionarioM_puesto[linea[0]] = [posicionM]\n",
    "            posicionM +=1\n",
    "        else:\n",
    "            if linea[0] in diccionarioF_puesto:\n",
    "                diccionarioF_puesto[linea[0]].append(posicionM)\n",
    "            else:\n",
    "                diccionarioF_puesto = [posicionM]\n",
    "            posicionF+=1\n",
    "    f.close()\n",
    "\n",
    "diccionarioM_reducido = {clave:diccionarioM_puesto[clave] for clave in list(diccionarioM_puesto.keys()) if len(diccionarioM_puesto[clave])==5}\n",
    "#print (diccionarioM_reducido)\n",
    "for i in list(diccionarioM_reducido.keys()):\n",
    "    diccionarioM_reducido[i]= reduce(lambda x,y: x+y, diccionarioM_reducido[i])\n",
    "diccionarioM_reducido = {clave:diccionarioM_reducido[clave]/6.0 for clave in diccionarioM_reducido.keys()}\n",
    "#print(diccionarioM_reducido)\n",
    "ordenado = sorted(diccionarioM_reducido, key = diccionarioM_reducido.get)\n",
    "for i in range(10):\n",
    "    print (\"Nombre: {}. Posicion: {}\".format(ordenado[i],diccionarioM_reducido[ordenado[i]]))"
   ]
  },
  {
   "cell_type": "code",
   "execution_count": null,
   "metadata": {},
   "outputs": [],
   "source": []
  },
  {
   "cell_type": "code",
   "execution_count": null,
   "metadata": {},
   "outputs": [],
   "source": []
  }
 ],
 "metadata": {
  "anaconda-cloud": {},
  "kernelspec": {
   "display_name": "Python 3",
   "language": "python",
   "name": "python3"
  },
  "language_info": {
   "codemirror_mode": {
    "name": "ipython",
    "version": 3
   },
   "file_extension": ".py",
   "mimetype": "text/x-python",
   "name": "python",
   "nbconvert_exporter": "python",
   "pygments_lexer": "ipython3",
   "version": "3.7.3"
  }
 },
 "nbformat": 4,
 "nbformat_minor": 1
}
