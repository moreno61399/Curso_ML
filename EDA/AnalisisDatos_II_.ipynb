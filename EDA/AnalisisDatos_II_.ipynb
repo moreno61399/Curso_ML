{
 "cells": [
  {
   "cell_type": "markdown",
   "metadata": {},
   "source": [
    "# Análisis de Datos (II): práctica de merge, groupby y pivot_table\n",
    "\n",
    "En este trabajo sobre pandas vamos a poner en práctica todos los conocimientos sobre pandas con el objetivo de ganar experiencia en el análisis de datos. \n",
    "\n",
    "Para ello disponemos de un dataset sobre valoración de películas, extraído de la web en la década de los 90 y 2000. El dataset consta de 943 usuarios, 1682 películas evaluadas y un total de 100.000 valoraciones. Todos los datos pueden encontrarse en 3 ficheros csv\n",
    "- u.user: contiene la información de las usuarios\n",
    "- u.item: contiene la información de las películas\n",
    "- u.data: contiene la información de las valoraciones de los usuarios a las películas\n",
    "\n"
   ]
  },
  {
   "cell_type": "code",
   "execution_count": null,
   "metadata": {},
   "outputs": [],
   "source": [
    "import pandas as pd\n",
    "import matplotlib.pyplot as mpl\n",
    "import numpy as np"
   ]
  },
  {
   "cell_type": "code",
   "execution_count": null,
   "metadata": {},
   "outputs": [],
   "source": [
    "user = pd.read_csv('u.user',sep='|',header=None, names=['user_id','age','sex','occupation','zip_code'])\n",
    "item = pd.read_csv('u.item',sep='|',header=None,usecols=range(5),names=['movie_id','title','release_data','video_release','imdb_url'])\n",
    "data = pd.read_csv('u.data',sep='\\t',names=['user_id','movie_id','rating','unix_timestamp'])"
   ]
  },
  {
   "cell_type": "markdown",
   "metadata": {},
   "source": [
    "Echa un ojo a las primeras filas de cada DataFrame para ver qué tipo de información contiene. Vamos a obtener algunas estadísticas iniciales de los dataframes"
   ]
  },
  {
   "cell_type": "code",
   "execution_count": null,
   "metadata": {},
   "outputs": [],
   "source": [
    "user.head()"
   ]
  },
  {
   "cell_type": "markdown",
   "metadata": {},
   "source": [
    "Muestra por pantalla el número de usuarios masculinos (sex=='M') y femeninos (sex=='F'). ¿Está balanceado?"
   ]
  },
  {
   "cell_type": "code",
   "execution_count": null,
   "metadata": {},
   "outputs": [],
   "source": []
  },
  {
   "cell_type": "code",
   "execution_count": null,
   "metadata": {},
   "outputs": [],
   "source": []
  },
  {
   "cell_type": "code",
   "execution_count": null,
   "metadata": {},
   "outputs": [],
   "source": [
    "item.head()"
   ]
  },
  {
   "cell_type": "code",
   "execution_count": null,
   "metadata": {},
   "outputs": [],
   "source": [
    "data.head()"
   ]
  },
  {
   "cell_type": "markdown",
   "metadata": {},
   "source": [
    "Obtén una descripción completa (función describe) de la columna rating de data. ¿Qué tipo de valoración se puede hacer en imdb? ¿Hay más comentarios positivos o negativos?"
   ]
  },
  {
   "cell_type": "code",
   "execution_count": null,
   "metadata": {},
   "outputs": [],
   "source": []
  },
  {
   "cell_type": "markdown",
   "metadata": {},
   "source": [
    "¿Has observado que podemos establecer una relación entre los 3 dataframes? Vamos a verlo: el primero (user) contiene la información de los usuarios que hacen los reviews. Parece ser que el user_id sirve para identificar a cada usuario unívocamente; El segundo (item) contiene la información de las películas que están siendo valoradas. Parece ser que movie_id sirve para identificar unívocamente cada una de las películas; El tercero (data) contiene, por cada fila, el identificador del usuario, el identificador de la película y la valoración numérica que dicho usuario ha otorgado a la correspondiente película. Está claro que podemos establecer una relación user-data-movie."
   ]
  },
  {
   "cell_type": "markdown",
   "metadata": {},
   "source": [
    "Combina los 3 dataframes en un dataframe llamado total que contenga, por cada fila, toda la información del usuario, toda la inforamción de la película y el rating que dicho usuario proporciona a dicha película"
   ]
  },
  {
   "cell_type": "code",
   "execution_count": null,
   "metadata": {},
   "outputs": [],
   "source": [
    "total = pd.merge(user,pd.merge(item,data))\n",
    "total.head()"
   ]
  },
  {
   "cell_type": "markdown",
   "metadata": {
    "collapsed": true
   },
   "source": [
    "¿Tienen todas las películas el mismo número de valoraciones? Crea una Series llamada numero_valoraciones que obtenga, para cada título de película, el número de valoraciones realizadas. Muestra las 10 películas con mayor número de valoraciones y las 10 con menos número de valoraciones."
   ]
  },
  {
   "cell_type": "code",
   "execution_count": null,
   "metadata": {},
   "outputs": [],
   "source": []
  },
  {
   "cell_type": "code",
   "execution_count": null,
   "metadata": {},
   "outputs": [],
   "source": []
  },
  {
   "cell_type": "markdown",
   "metadata": {
    "collapsed": true
   },
   "source": [
    "¿Cuáles son las películas con mayor valoración? Crea una Series valoracion_media que muestre por cada película la media de los ratings.\n",
    "\n",
    "Muestra las 10 películas más valoradas"
   ]
  },
  {
   "cell_type": "code",
   "execution_count": null,
   "metadata": {},
   "outputs": [],
   "source": []
  },
  {
   "cell_type": "markdown",
   "metadata": {},
   "source": [
    "Observa que muchas de las películas no son muy conocidas. Eso es porque probablemente tengan muy pocas valoraciones. Para corregir esto, obtén la valoración media de aquellas películas que hayan recibido al menos 100 valoraciones. Ahora, ¿cuáles son las 10 películas más valoradas? ¿Y las menos?"
   ]
  },
  {
   "cell_type": "code",
   "execution_count": null,
   "metadata": {},
   "outputs": [],
   "source": []
  },
  {
   "cell_type": "code",
   "execution_count": null,
   "metadata": {},
   "outputs": [],
   "source": []
  },
  {
   "cell_type": "markdown",
   "metadata": {
    "collapsed": true
   },
   "source": [
    "A partir de ahora vamos a dejar en total únicamente aquellas películas con más de 100 valoraciones"
   ]
  },
  {
   "cell_type": "code",
   "execution_count": null,
   "metadata": {},
   "outputs": [],
   "source": [
    "total = total[total['title'].isin(numero_valoraciones[numero_valoraciones>100].index)]"
   ]
  },
  {
   "cell_type": "markdown",
   "metadata": {},
   "source": [
    "Si tuvieses que recomendar 10 películas a un hombre o a una mujer, ¿eligirías las mismas? Vamos a comprobar si existen diferencias entre las películas más valoradas por hombres que por mujeres.\n",
    "\n",
    "Para ello crea una pivot_table que nos muestre, por cada película, la valoración media hecha por mujeres y por hombres. Obtén las 10 más valoradas por mujeres y por hombres."
   ]
  },
  {
   "cell_type": "code",
   "execution_count": null,
   "metadata": {},
   "outputs": [],
   "source": []
  },
  {
   "cell_type": "code",
   "execution_count": null,
   "metadata": {},
   "outputs": [],
   "source": []
  },
  {
   "cell_type": "code",
   "execution_count": null,
   "metadata": {},
   "outputs": [],
   "source": []
  },
  {
   "cell_type": "markdown",
   "metadata": {},
   "source": [
    "¿Y si tuvieses que elegir aquellas películas que más diferencias presentan entre sexos? \n",
    "Para ello, añade una tercera fila a tabla llamada 'diferencia' en la que calcules la diferencia entre la valoración media de mujeres y de hombres. Muestra las 10 películas con mayor diferencia en favor de la valoración de las mujeres y las 10 con mayor diferencia en favor de los hombres."
   ]
  },
  {
   "cell_type": "code",
   "execution_count": null,
   "metadata": {},
   "outputs": [],
   "source": []
  },
  {
   "cell_type": "code",
   "execution_count": null,
   "metadata": {},
   "outputs": [],
   "source": []
  },
  {
   "cell_type": "code",
   "execution_count": null,
   "metadata": {},
   "outputs": [],
   "source": []
  },
  {
   "cell_type": "markdown",
   "metadata": {},
   "source": [
    "Cuando una película es buena...¿Todo el mundo dice que es buena? ¿Y al revés? ¿Qué películas tienen la mayor variabiliad entre sus valoraciones? Obtén las 10 con mayores desviaciones.\n"
   ]
  },
  {
   "cell_type": "code",
   "execution_count": null,
   "metadata": {},
   "outputs": [],
   "source": []
  }
 ],
 "metadata": {
  "anaconda-cloud": {},
  "kernelspec": {
   "display_name": "Python [conda env:py37machlearn]",
   "language": "python",
   "name": "conda-env-py37machlearn-py"
  },
  "language_info": {
   "codemirror_mode": {
    "name": "ipython",
    "version": 3
   },
   "file_extension": ".py",
   "mimetype": "text/x-python",
   "name": "python",
   "nbconvert_exporter": "python",
   "pygments_lexer": "ipython3",
   "version": "3.7.4"
  }
 },
 "nbformat": 4,
 "nbformat_minor": 1
}
