{
 "cells": [
  {
   "cell_type": "markdown",
   "metadata": {},
   "source": [
    "# Análisis de Datos (II): práctica de merge, groupby y pivot_table\n",
    "\n",
    "En este trabajo sobre pandas vamos a poner en práctica todos los conocimientos sobre pandas con el objetivo de ganar experiencia en el análisis de datos. \n",
    "\n",
    "Para ello disponemos de un dataset sobre valoración de películas, extraído de la web en la década de los 90 y 2000. El dataset consta de 943 usuarios, 1682 películas evaluadas y un total de 100.000 valoraciones. Todos los datos pueden encontrarse en 3 ficheros csv\n",
    "- u.user: contiene la información de las usuarios\n",
    "- u.item: contiene la información de las películas\n",
    "- u.data: contiene la información de las valoraciones de los usuarios a las películas\n",
    "\n"
   ]
  },
  {
   "cell_type": "code",
   "execution_count": 1,
   "metadata": {},
   "outputs": [],
   "source": [
    "import pandas as pd\n",
    "import matplotlib.pyplot as mpl\n",
    "import numpy as np"
   ]
  },
  {
   "cell_type": "code",
   "execution_count": 3,
   "metadata": {},
   "outputs": [],
   "source": [
    "user = pd.read_csv('u.user',sep='|',header=None, names=['user_id','age','sex','occupation','zip_code'], encoding='utf-8')\n",
    "item = pd.read_csv('u.item',sep='|',header=None,usecols=range(5),names=['movie_id','title','release_data','video_release','imdb_url'],encoding='utf-8')\n",
    "data = pd.read_csv('u.data',sep='\\t',names=['user_id','movie_id','rating','unix_timestamp'],encoding='utf-8')"
   ]
  },
  {
   "cell_type": "markdown",
   "metadata": {},
   "source": [
    "Echa un ojo a las primeras filas de cada DataFrame para ver qué tipo de información contiene. Vamos a obtener algunas estadísticas iniciales de los dataframes"
   ]
  },
  {
   "cell_type": "code",
   "execution_count": 4,
   "metadata": {},
   "outputs": [
    {
     "data": {
      "text/html": [
       "<div>\n",
       "<style scoped>\n",
       "    .dataframe tbody tr th:only-of-type {\n",
       "        vertical-align: middle;\n",
       "    }\n",
       "\n",
       "    .dataframe tbody tr th {\n",
       "        vertical-align: top;\n",
       "    }\n",
       "\n",
       "    .dataframe thead th {\n",
       "        text-align: right;\n",
       "    }\n",
       "</style>\n",
       "<table border=\"1\" class=\"dataframe\">\n",
       "  <thead>\n",
       "    <tr style=\"text-align: right;\">\n",
       "      <th></th>\n",
       "      <th>user_id</th>\n",
       "      <th>age</th>\n",
       "      <th>sex</th>\n",
       "      <th>occupation</th>\n",
       "      <th>zip_code</th>\n",
       "    </tr>\n",
       "  </thead>\n",
       "  <tbody>\n",
       "    <tr>\n",
       "      <td>0</td>\n",
       "      <td>1</td>\n",
       "      <td>24</td>\n",
       "      <td>M</td>\n",
       "      <td>technician</td>\n",
       "      <td>85711</td>\n",
       "    </tr>\n",
       "    <tr>\n",
       "      <td>1</td>\n",
       "      <td>2</td>\n",
       "      <td>53</td>\n",
       "      <td>F</td>\n",
       "      <td>other</td>\n",
       "      <td>94043</td>\n",
       "    </tr>\n",
       "    <tr>\n",
       "      <td>2</td>\n",
       "      <td>3</td>\n",
       "      <td>23</td>\n",
       "      <td>M</td>\n",
       "      <td>writer</td>\n",
       "      <td>32067</td>\n",
       "    </tr>\n",
       "    <tr>\n",
       "      <td>3</td>\n",
       "      <td>4</td>\n",
       "      <td>24</td>\n",
       "      <td>M</td>\n",
       "      <td>technician</td>\n",
       "      <td>43537</td>\n",
       "    </tr>\n",
       "    <tr>\n",
       "      <td>4</td>\n",
       "      <td>5</td>\n",
       "      <td>33</td>\n",
       "      <td>F</td>\n",
       "      <td>other</td>\n",
       "      <td>15213</td>\n",
       "    </tr>\n",
       "  </tbody>\n",
       "</table>\n",
       "</div>"
      ],
      "text/plain": [
       "   user_id  age sex  occupation zip_code\n",
       "0        1   24   M  technician    85711\n",
       "1        2   53   F       other    94043\n",
       "2        3   23   M      writer    32067\n",
       "3        4   24   M  technician    43537\n",
       "4        5   33   F       other    15213"
      ]
     },
     "execution_count": 4,
     "metadata": {},
     "output_type": "execute_result"
    }
   ],
   "source": [
    "user.head()"
   ]
  },
  {
   "cell_type": "markdown",
   "metadata": {},
   "source": [
    "Muestra por pantalla el número de usuarios masculinos (sex=='M') y femeninos (sex=='F'). ¿Está balanceado?"
   ]
  },
  {
   "cell_type": "code",
   "execution_count": 7,
   "metadata": {},
   "outputs": [
    {
     "data": {
      "text/plain": [
       "670"
      ]
     },
     "execution_count": 7,
     "metadata": {},
     "output_type": "execute_result"
    }
   ],
   "source": [
    "user[user.sex=='M'].count()['user_id']"
   ]
  },
  {
   "cell_type": "code",
   "execution_count": 8,
   "metadata": {},
   "outputs": [
    {
     "data": {
      "text/plain": [
       "273"
      ]
     },
     "execution_count": 8,
     "metadata": {},
     "output_type": "execute_result"
    }
   ],
   "source": [
    "user[user.sex=='F'].count()['user_id']"
   ]
  },
  {
   "cell_type": "code",
   "execution_count": 9,
   "metadata": {},
   "outputs": [
    {
     "data": {
      "text/plain": [
       "sex\n",
       "F    273\n",
       "M    670\n",
       "Name: user_id, dtype: int64"
      ]
     },
     "execution_count": 9,
     "metadata": {},
     "output_type": "execute_result"
    }
   ],
   "source": [
    "user.groupby('sex')['user_id'].count()"
   ]
  },
  {
   "cell_type": "markdown",
   "metadata": {},
   "source": [
    "Obtén una descripción completa (función describe) de la columna rating de data. ¿Qué tipo de valoración se puede hacer en imdb? ¿Hay más comentarios positivos o negativos?"
   ]
  },
  {
   "cell_type": "code",
   "execution_count": 12,
   "metadata": {},
   "outputs": [
    {
     "data": {
      "text/plain": [
       "count    100000.000000\n",
       "mean          3.529860\n",
       "std           1.125674\n",
       "min           1.000000\n",
       "25%           3.000000\n",
       "50%           4.000000\n",
       "75%           4.000000\n",
       "max           5.000000\n",
       "Name: rating, dtype: float64"
      ]
     },
     "execution_count": 12,
     "metadata": {},
     "output_type": "execute_result"
    }
   ],
   "source": [
    "data.rating.describe()"
   ]
  },
  {
   "cell_type": "markdown",
   "metadata": {},
   "source": [
    "¿Has observado que podemos establecer una relación entre los 3 dataframes? Vamos a verlo: el primero (user) contiene la información de los usuarios que hacen los reviews. Parece ser que el user_id sirve para identificar a cada usuario unívocamente; El segundo (item) contiene la información de las películas que están siendo valoradas. Parece ser que movie_id sirve para identificar unívocamente cada una de las películas; El tercero (data) contiene, por cada fila, el identificador del usuario, el identificador de la película y la valoración numérica que dicho usuario ha otorgado a la correspondiente película. Está claro que podemos establecer una relación user-data-movie."
   ]
  },
  {
   "cell_type": "markdown",
   "metadata": {},
   "source": [
    "Combina los 3 dataframes en un dataframe llamado total que contenga, por cada fila, toda la información del usuario, toda la inforamción de la película y el rating que dicho usuario proporciona a dicha película"
   ]
  },
  {
   "cell_type": "code",
   "execution_count": 13,
   "metadata": {},
   "outputs": [
    {
     "data": {
      "text/html": [
       "<div>\n",
       "<style scoped>\n",
       "    .dataframe tbody tr th:only-of-type {\n",
       "        vertical-align: middle;\n",
       "    }\n",
       "\n",
       "    .dataframe tbody tr th {\n",
       "        vertical-align: top;\n",
       "    }\n",
       "\n",
       "    .dataframe thead th {\n",
       "        text-align: right;\n",
       "    }\n",
       "</style>\n",
       "<table border=\"1\" class=\"dataframe\">\n",
       "  <thead>\n",
       "    <tr style=\"text-align: right;\">\n",
       "      <th></th>\n",
       "      <th>user_id</th>\n",
       "      <th>age</th>\n",
       "      <th>sex</th>\n",
       "      <th>occupation</th>\n",
       "      <th>zip_code</th>\n",
       "      <th>movie_id</th>\n",
       "      <th>title</th>\n",
       "      <th>release_data</th>\n",
       "      <th>video_release</th>\n",
       "      <th>imdb_url</th>\n",
       "      <th>rating</th>\n",
       "      <th>unix_timestamp</th>\n",
       "    </tr>\n",
       "  </thead>\n",
       "  <tbody>\n",
       "    <tr>\n",
       "      <td>0</td>\n",
       "      <td>1</td>\n",
       "      <td>24</td>\n",
       "      <td>M</td>\n",
       "      <td>technician</td>\n",
       "      <td>85711</td>\n",
       "      <td>1</td>\n",
       "      <td>Toy Story (1995)</td>\n",
       "      <td>01-Jan-1995</td>\n",
       "      <td>NaN</td>\n",
       "      <td>http://us.imdb.com/M/title-exact?Toy%20Story%2...</td>\n",
       "      <td>5</td>\n",
       "      <td>874965758</td>\n",
       "    </tr>\n",
       "    <tr>\n",
       "      <td>1</td>\n",
       "      <td>1</td>\n",
       "      <td>24</td>\n",
       "      <td>M</td>\n",
       "      <td>technician</td>\n",
       "      <td>85711</td>\n",
       "      <td>2</td>\n",
       "      <td>GoldenEye (1995)</td>\n",
       "      <td>01-Jan-1995</td>\n",
       "      <td>NaN</td>\n",
       "      <td>http://us.imdb.com/M/title-exact?GoldenEye%20(...</td>\n",
       "      <td>3</td>\n",
       "      <td>876893171</td>\n",
       "    </tr>\n",
       "    <tr>\n",
       "      <td>2</td>\n",
       "      <td>1</td>\n",
       "      <td>24</td>\n",
       "      <td>M</td>\n",
       "      <td>technician</td>\n",
       "      <td>85711</td>\n",
       "      <td>3</td>\n",
       "      <td>Four Rooms (1995)</td>\n",
       "      <td>01-Jan-1995</td>\n",
       "      <td>NaN</td>\n",
       "      <td>http://us.imdb.com/M/title-exact?Four%20Rooms%...</td>\n",
       "      <td>4</td>\n",
       "      <td>878542960</td>\n",
       "    </tr>\n",
       "    <tr>\n",
       "      <td>3</td>\n",
       "      <td>1</td>\n",
       "      <td>24</td>\n",
       "      <td>M</td>\n",
       "      <td>technician</td>\n",
       "      <td>85711</td>\n",
       "      <td>4</td>\n",
       "      <td>Get Shorty (1995)</td>\n",
       "      <td>01-Jan-1995</td>\n",
       "      <td>NaN</td>\n",
       "      <td>http://us.imdb.com/M/title-exact?Get%20Shorty%...</td>\n",
       "      <td>3</td>\n",
       "      <td>876893119</td>\n",
       "    </tr>\n",
       "    <tr>\n",
       "      <td>4</td>\n",
       "      <td>1</td>\n",
       "      <td>24</td>\n",
       "      <td>M</td>\n",
       "      <td>technician</td>\n",
       "      <td>85711</td>\n",
       "      <td>5</td>\n",
       "      <td>Copycat (1995)</td>\n",
       "      <td>01-Jan-1995</td>\n",
       "      <td>NaN</td>\n",
       "      <td>http://us.imdb.com/M/title-exact?Copycat%20(1995)</td>\n",
       "      <td>3</td>\n",
       "      <td>889751712</td>\n",
       "    </tr>\n",
       "  </tbody>\n",
       "</table>\n",
       "</div>"
      ],
      "text/plain": [
       "   user_id  age sex  occupation zip_code  movie_id              title  \\\n",
       "0        1   24   M  technician    85711         1   Toy Story (1995)   \n",
       "1        1   24   M  technician    85711         2   GoldenEye (1995)   \n",
       "2        1   24   M  technician    85711         3  Four Rooms (1995)   \n",
       "3        1   24   M  technician    85711         4  Get Shorty (1995)   \n",
       "4        1   24   M  technician    85711         5     Copycat (1995)   \n",
       "\n",
       "  release_data  video_release  \\\n",
       "0  01-Jan-1995            NaN   \n",
       "1  01-Jan-1995            NaN   \n",
       "2  01-Jan-1995            NaN   \n",
       "3  01-Jan-1995            NaN   \n",
       "4  01-Jan-1995            NaN   \n",
       "\n",
       "                                            imdb_url  rating  unix_timestamp  \n",
       "0  http://us.imdb.com/M/title-exact?Toy%20Story%2...       5       874965758  \n",
       "1  http://us.imdb.com/M/title-exact?GoldenEye%20(...       3       876893171  \n",
       "2  http://us.imdb.com/M/title-exact?Four%20Rooms%...       4       878542960  \n",
       "3  http://us.imdb.com/M/title-exact?Get%20Shorty%...       3       876893119  \n",
       "4  http://us.imdb.com/M/title-exact?Copycat%20(1995)       3       889751712  "
      ]
     },
     "execution_count": 13,
     "metadata": {},
     "output_type": "execute_result"
    }
   ],
   "source": [
    "total = pd.merge(user,pd.merge(item,data))\n",
    "total.head()"
   ]
  },
  {
   "cell_type": "markdown",
   "metadata": {
    "collapsed": true
   },
   "source": [
    "¿Tienen todas las películas el mismo número de valoraciones? Crea una Series llamada numero_valoraciones que obtenga, para cada título de película, el número de valoraciones realizadas. Muestra las 10 películas con mayor número de valoraciones y las 10 con menos número de valoraciones."
   ]
  },
  {
   "cell_type": "code",
   "execution_count": 14,
   "metadata": {},
   "outputs": [
    {
     "data": {
      "text/plain": [
       "title\n",
       "Star Wars (1977)                 583\n",
       "Contact (1997)                   509\n",
       "Fargo (1996)                     508\n",
       "Return of the Jedi (1983)        507\n",
       "Liar Liar (1997)                 485\n",
       "English Patient, The (1996)      481\n",
       "Scream (1996)                    478\n",
       "Toy Story (1995)                 452\n",
       "Air Force One (1997)             431\n",
       "Independence Day (ID4) (1996)    429\n",
       "Name: user_id, dtype: int64"
      ]
     },
     "execution_count": 14,
     "metadata": {},
     "output_type": "execute_result"
    }
   ],
   "source": [
    "total.groupby('title')['user_id'].count().sort_values(ascending=False).head(10)"
   ]
  },
  {
   "cell_type": "code",
   "execution_count": 15,
   "metadata": {},
   "outputs": [
    {
     "data": {
      "text/plain": [
       "title\n",
       "Á köldum klaka (Cold Fever) (1994)            1\n",
       "Mille bolle blu (1993)                        1\n",
       "Mat' i syn (1997)                             1\n",
       "Marlene Dietrich: Shadow and Light (1996)     1\n",
       "Man from Down Under, The (1943)               1\n",
       "Mamma Roma (1962)                             1\n",
       "Mad Dog Time (1996)                           1\n",
       "Big Bang Theory, The (1994)                   1\n",
       "MURDER and murder (1996)                      1\n",
       "Coldblooded (1995)                            1\n",
       "Name: user_id, dtype: int64"
      ]
     },
     "execution_count": 15,
     "metadata": {},
     "output_type": "execute_result"
    }
   ],
   "source": [
    "total.groupby('title')['user_id'].count().sort_values().head(10)"
   ]
  },
  {
   "cell_type": "markdown",
   "metadata": {
    "collapsed": true
   },
   "source": [
    "¿Cuáles son las películas con mayor valoración? Crea una Series valoracion_media que muestre por cada película la media de los ratings.\n",
    "\n",
    "Muestra las 10 películas más valoradas"
   ]
  },
  {
   "cell_type": "code",
   "execution_count": 16,
   "metadata": {},
   "outputs": [
    {
     "data": {
      "text/plain": [
       "title\n",
       "Marlene Dietrich: Shadow and Light (1996)            5.0\n",
       "Prefontaine (1997)                                   5.0\n",
       "Santa with Muscles (1996)                            5.0\n",
       "Star Kid (1997)                                      5.0\n",
       "Someone Else's America (1995)                        5.0\n",
       "Entertaining Angels: The Dorothy Day Story (1996)    5.0\n",
       "Saint of Fort Washington, The (1993)                 5.0\n",
       "Great Day in Harlem, A (1994)                        5.0\n",
       "They Made Me a Criminal (1939)                       5.0\n",
       "Aiqing wansui (1994)                                 5.0\n",
       "Name: rating, dtype: float64"
      ]
     },
     "execution_count": 16,
     "metadata": {},
     "output_type": "execute_result"
    }
   ],
   "source": [
    "valoracion_media = total.groupby('title')['rating'].mean()\n",
    "valoracion_media.sort_values(ascending=False).head(10)"
   ]
  },
  {
   "cell_type": "markdown",
   "metadata": {},
   "source": [
    "Observa que muchas de las películas no son muy conocidas. Eso es porque probablemente tengan muy pocas valoraciones. Para corregir esto, obtén la valoración media de aquellas películas que hayan recibido al menos 100 valoraciones. Ahora, ¿cuáles son las 10 películas más valoradas? ¿Y las menos?"
   ]
  },
  {
   "cell_type": "code",
   "execution_count": 19,
   "metadata": {},
   "outputs": [
    {
     "data": {
      "text/plain": [
       "title\n",
       "'Til There Was You (1997)                  9\n",
       "1-900 (1994)                               5\n",
       "101 Dalmatians (1996)                    109\n",
       "12 Angry Men (1957)                      125\n",
       "187 (1997)                                41\n",
       "                                        ... \n",
       "Young Guns II (1990)                      44\n",
       "Young Poisoner's Handbook, The (1995)     41\n",
       "Zeus and Roxanne (1997)                    6\n",
       "unknown                                    9\n",
       "Á köldum klaka (Cold Fever) (1994)         1\n",
       "Name: rating, Length: 1664, dtype: int64"
      ]
     },
     "execution_count": 19,
     "metadata": {},
     "output_type": "execute_result"
    }
   ],
   "source": [
    "numero_valoraciones = total.groupby('title')['rating'].count()\n",
    "numero_valoraciones"
   ]
  },
  {
   "cell_type": "code",
   "execution_count": 20,
   "metadata": {},
   "outputs": [
    {
     "data": {
      "text/plain": [
       "title\n",
       "Close Shave, A (1995)               4.491071\n",
       "Schindler's List (1993)             4.466443\n",
       "Wrong Trousers, The (1993)          4.466102\n",
       "Casablanca (1942)                   4.456790\n",
       "Shawshank Redemption, The (1994)    4.445230\n",
       "Rear Window (1954)                  4.387560\n",
       "Usual Suspects, The (1995)          4.385768\n",
       "Star Wars (1977)                    4.358491\n",
       "12 Angry Men (1957)                 4.344000\n",
       "Citizen Kane (1941)                 4.292929\n",
       "Name: rating, dtype: float64"
      ]
     },
     "execution_count": 20,
     "metadata": {},
     "output_type": "execute_result"
    }
   ],
   "source": [
    "valoracion_media[numero_valoraciones>100].sort_values(ascending=False).head(10)"
   ]
  },
  {
   "cell_type": "code",
   "execution_count": 21,
   "metadata": {},
   "outputs": [
    {
     "data": {
      "text/plain": [
       "title\n",
       "Cable Guy, The (1996)          2.339623\n",
       "Jungle2Jungle (1997)           2.439394\n",
       "Crash (1996)                   2.546875\n",
       "Event Horizon (1997)           2.574803\n",
       "Spawn (1997)                   2.615385\n",
       "Batman Forever (1995)          2.666667\n",
       "Batman Returns (1992)          2.683099\n",
       "George of the Jungle (1997)    2.685185\n",
       "Down Periscope (1996)          2.702970\n",
       "Mimic (1997)                   2.742574\n",
       "Name: rating, dtype: float64"
      ]
     },
     "execution_count": 21,
     "metadata": {},
     "output_type": "execute_result"
    }
   ],
   "source": [
    "valoracion_media[numero_valoraciones>100].sort_values().head(10)"
   ]
  },
  {
   "cell_type": "markdown",
   "metadata": {},
   "source": [
    "A partir de ahora vamos a dejar en total únicamente aquellas películas con más de 100 valoraciones"
   ]
  },
  {
   "cell_type": "code",
   "execution_count": 23,
   "metadata": {},
   "outputs": [],
   "source": [
    "total = total[total['title'].isin(numero_valoraciones[numero_valoraciones>100].index)]"
   ]
  },
  {
   "cell_type": "markdown",
   "metadata": {},
   "source": [
    "Si tuvieses que recomendar 10 películas a un hombre o a una mujer, ¿eligirías las mismas? Vamos a comprobar si existen diferencias entre las películas más valoradas por hombres que por mujeres.\n",
    "\n",
    "Para ello crea una pivot_table que nos muestre, por cada película, la valoración media hecha por mujeres y por hombres. Obtén las 10 más valoradas por mujeres y por hombres."
   ]
  },
  {
   "cell_type": "code",
   "execution_count": 27,
   "metadata": {},
   "outputs": [
    {
     "data": {
      "text/html": [
       "<div>\n",
       "<style scoped>\n",
       "    .dataframe tbody tr th:only-of-type {\n",
       "        vertical-align: middle;\n",
       "    }\n",
       "\n",
       "    .dataframe tbody tr th {\n",
       "        vertical-align: top;\n",
       "    }\n",
       "\n",
       "    .dataframe thead th {\n",
       "        text-align: right;\n",
       "    }\n",
       "</style>\n",
       "<table border=\"1\" class=\"dataframe\">\n",
       "  <thead>\n",
       "    <tr style=\"text-align: right;\">\n",
       "      <th>sex</th>\n",
       "      <th>F</th>\n",
       "      <th>M</th>\n",
       "    </tr>\n",
       "    <tr>\n",
       "      <th>title</th>\n",
       "      <th></th>\n",
       "      <th></th>\n",
       "    </tr>\n",
       "  </thead>\n",
       "  <tbody>\n",
       "    <tr>\n",
       "      <td>101 Dalmatians (1996)</td>\n",
       "      <td>3.116279</td>\n",
       "      <td>2.772727</td>\n",
       "    </tr>\n",
       "    <tr>\n",
       "      <td>12 Angry Men (1957)</td>\n",
       "      <td>4.269231</td>\n",
       "      <td>4.363636</td>\n",
       "    </tr>\n",
       "    <tr>\n",
       "      <td>2001: A Space Odyssey (1968)</td>\n",
       "      <td>3.491228</td>\n",
       "      <td>4.103960</td>\n",
       "    </tr>\n",
       "    <tr>\n",
       "      <td>Absolute Power (1997)</td>\n",
       "      <td>3.451613</td>\n",
       "      <td>3.343750</td>\n",
       "    </tr>\n",
       "    <tr>\n",
       "      <td>Abyss, The (1989)</td>\n",
       "      <td>3.814815</td>\n",
       "      <td>3.540323</td>\n",
       "    </tr>\n",
       "    <tr>\n",
       "      <td>...</td>\n",
       "      <td>...</td>\n",
       "      <td>...</td>\n",
       "    </tr>\n",
       "    <tr>\n",
       "      <td>Willy Wonka and the Chocolate Factory (1971)</td>\n",
       "      <td>3.752688</td>\n",
       "      <td>3.583691</td>\n",
       "    </tr>\n",
       "    <tr>\n",
       "      <td>Wizard of Oz, The (1939)</td>\n",
       "      <td>4.159420</td>\n",
       "      <td>4.045198</td>\n",
       "    </tr>\n",
       "    <tr>\n",
       "      <td>Wrong Trousers, The (1993)</td>\n",
       "      <td>4.444444</td>\n",
       "      <td>4.472527</td>\n",
       "    </tr>\n",
       "    <tr>\n",
       "      <td>Young Frankenstein (1974)</td>\n",
       "      <td>4.023810</td>\n",
       "      <td>3.924051</td>\n",
       "    </tr>\n",
       "    <tr>\n",
       "      <td>Young Guns (1988)</td>\n",
       "      <td>3.230769</td>\n",
       "      <td>3.204545</td>\n",
       "    </tr>\n",
       "  </tbody>\n",
       "</table>\n",
       "<p>334 rows × 2 columns</p>\n",
       "</div>"
      ],
      "text/plain": [
       "sex                                                  F         M\n",
       "title                                                           \n",
       "101 Dalmatians (1996)                         3.116279  2.772727\n",
       "12 Angry Men (1957)                           4.269231  4.363636\n",
       "2001: A Space Odyssey (1968)                  3.491228  4.103960\n",
       "Absolute Power (1997)                         3.451613  3.343750\n",
       "Abyss, The (1989)                             3.814815  3.540323\n",
       "...                                                ...       ...\n",
       "Willy Wonka and the Chocolate Factory (1971)  3.752688  3.583691\n",
       "Wizard of Oz, The (1939)                      4.159420  4.045198\n",
       "Wrong Trousers, The (1993)                    4.444444  4.472527\n",
       "Young Frankenstein (1974)                     4.023810  3.924051\n",
       "Young Guns (1988)                             3.230769  3.204545\n",
       "\n",
       "[334 rows x 2 columns]"
      ]
     },
     "execution_count": 27,
     "metadata": {},
     "output_type": "execute_result"
    }
   ],
   "source": [
    "tabla = total.pivot_table(values='rating',index='title',columns='sex',aggfunc='mean')\n",
    "tabla"
   ]
  },
  {
   "cell_type": "code",
   "execution_count": 28,
   "metadata": {},
   "outputs": [
    {
     "data": {
      "text/plain": [
       "title\n",
       "Schindler's List (1993)             4.632911\n",
       "Close Shave, A (1995)               4.631579\n",
       "Shawshank Redemption, The (1994)    4.562500\n",
       "Wrong Trousers, The (1993)          4.444444\n",
       "Sling Blade (1996)                  4.411765\n",
       "Secrets & Lies (1996)               4.407407\n",
       "Casablanca (1942)                   4.400000\n",
       "Much Ado About Nothing (1993)       4.381818\n",
       "Good Will Hunting (1997)            4.355932\n",
       "Rear Window (1954)                  4.351852\n",
       "Name: F, dtype: float64"
      ]
     },
     "execution_count": 28,
     "metadata": {},
     "output_type": "execute_result"
    }
   ],
   "source": [
    "tabla.sort_values(by='F',ascending=False).F.head(10)"
   ]
  },
  {
   "cell_type": "code",
   "execution_count": 29,
   "metadata": {},
   "outputs": [
    {
     "data": {
      "text/plain": [
       "title\n",
       "Casablanca (1942)                   4.473404\n",
       "Wrong Trousers, The (1993)          4.472527\n",
       "Close Shave, A (1995)               4.462366\n",
       "Shawshank Redemption, The (1994)    4.410959\n",
       "Schindler's List (1993)             4.406393\n",
       "Rear Window (1954)                  4.400000\n",
       "Usual Suspects, The (1995)          4.399061\n",
       "Star Wars (1977)                    4.398148\n",
       "12 Angry Men (1957)                 4.363636\n",
       "Godfather, The (1972)               4.334416\n",
       "Name: M, dtype: float64"
      ]
     },
     "execution_count": 29,
     "metadata": {},
     "output_type": "execute_result"
    }
   ],
   "source": [
    "tabla.sort_values(by='M',ascending=False).M.head(10)"
   ]
  },
  {
   "cell_type": "markdown",
   "metadata": {},
   "source": [
    "¿Y si tuvieses que elegir aquellas películas que más diferencias presentan entre sexos? \n",
    "Para ello, añade una tercera fila a tabla llamada 'diferencia' en la que calcules la diferencia entre la valoración media de mujeres y de hombres. Muestra las 10 películas con mayor diferencia en favor de la valoración de las mujeres y las 10 con mayor diferencia en favor de los hombres."
   ]
  },
  {
   "cell_type": "code",
   "execution_count": 30,
   "metadata": {},
   "outputs": [
    {
     "data": {
      "text/html": [
       "<div>\n",
       "<style scoped>\n",
       "    .dataframe tbody tr th:only-of-type {\n",
       "        vertical-align: middle;\n",
       "    }\n",
       "\n",
       "    .dataframe tbody tr th {\n",
       "        vertical-align: top;\n",
       "    }\n",
       "\n",
       "    .dataframe thead th {\n",
       "        text-align: right;\n",
       "    }\n",
       "</style>\n",
       "<table border=\"1\" class=\"dataframe\">\n",
       "  <thead>\n",
       "    <tr style=\"text-align: right;\">\n",
       "      <th>sex</th>\n",
       "      <th>F</th>\n",
       "      <th>M</th>\n",
       "      <th>diferencia</th>\n",
       "    </tr>\n",
       "    <tr>\n",
       "      <th>title</th>\n",
       "      <th></th>\n",
       "      <th></th>\n",
       "      <th></th>\n",
       "    </tr>\n",
       "  </thead>\n",
       "  <tbody>\n",
       "    <tr>\n",
       "      <td>101 Dalmatians (1996)</td>\n",
       "      <td>3.116279</td>\n",
       "      <td>2.772727</td>\n",
       "      <td>0.343552</td>\n",
       "    </tr>\n",
       "    <tr>\n",
       "      <td>12 Angry Men (1957)</td>\n",
       "      <td>4.269231</td>\n",
       "      <td>4.363636</td>\n",
       "      <td>-0.094406</td>\n",
       "    </tr>\n",
       "    <tr>\n",
       "      <td>2001: A Space Odyssey (1968)</td>\n",
       "      <td>3.491228</td>\n",
       "      <td>4.103960</td>\n",
       "      <td>-0.612732</td>\n",
       "    </tr>\n",
       "    <tr>\n",
       "      <td>Absolute Power (1997)</td>\n",
       "      <td>3.451613</td>\n",
       "      <td>3.343750</td>\n",
       "      <td>0.107863</td>\n",
       "    </tr>\n",
       "    <tr>\n",
       "      <td>Abyss, The (1989)</td>\n",
       "      <td>3.814815</td>\n",
       "      <td>3.540323</td>\n",
       "      <td>0.274492</td>\n",
       "    </tr>\n",
       "    <tr>\n",
       "      <td>...</td>\n",
       "      <td>...</td>\n",
       "      <td>...</td>\n",
       "      <td>...</td>\n",
       "    </tr>\n",
       "    <tr>\n",
       "      <td>Willy Wonka and the Chocolate Factory (1971)</td>\n",
       "      <td>3.752688</td>\n",
       "      <td>3.583691</td>\n",
       "      <td>0.168997</td>\n",
       "    </tr>\n",
       "    <tr>\n",
       "      <td>Wizard of Oz, The (1939)</td>\n",
       "      <td>4.159420</td>\n",
       "      <td>4.045198</td>\n",
       "      <td>0.114223</td>\n",
       "    </tr>\n",
       "    <tr>\n",
       "      <td>Wrong Trousers, The (1993)</td>\n",
       "      <td>4.444444</td>\n",
       "      <td>4.472527</td>\n",
       "      <td>-0.028083</td>\n",
       "    </tr>\n",
       "    <tr>\n",
       "      <td>Young Frankenstein (1974)</td>\n",
       "      <td>4.023810</td>\n",
       "      <td>3.924051</td>\n",
       "      <td>0.099759</td>\n",
       "    </tr>\n",
       "    <tr>\n",
       "      <td>Young Guns (1988)</td>\n",
       "      <td>3.230769</td>\n",
       "      <td>3.204545</td>\n",
       "      <td>0.026224</td>\n",
       "    </tr>\n",
       "  </tbody>\n",
       "</table>\n",
       "<p>334 rows × 3 columns</p>\n",
       "</div>"
      ],
      "text/plain": [
       "sex                                                  F         M  diferencia\n",
       "title                                                                       \n",
       "101 Dalmatians (1996)                         3.116279  2.772727    0.343552\n",
       "12 Angry Men (1957)                           4.269231  4.363636   -0.094406\n",
       "2001: A Space Odyssey (1968)                  3.491228  4.103960   -0.612732\n",
       "Absolute Power (1997)                         3.451613  3.343750    0.107863\n",
       "Abyss, The (1989)                             3.814815  3.540323    0.274492\n",
       "...                                                ...       ...         ...\n",
       "Willy Wonka and the Chocolate Factory (1971)  3.752688  3.583691    0.168997\n",
       "Wizard of Oz, The (1939)                      4.159420  4.045198    0.114223\n",
       "Wrong Trousers, The (1993)                    4.444444  4.472527   -0.028083\n",
       "Young Frankenstein (1974)                     4.023810  3.924051    0.099759\n",
       "Young Guns (1988)                             3.230769  3.204545    0.026224\n",
       "\n",
       "[334 rows x 3 columns]"
      ]
     },
     "execution_count": 30,
     "metadata": {},
     "output_type": "execute_result"
    }
   ],
   "source": [
    "tabla['diferencia'] = tabla.F-tabla.M\n",
    "tabla"
   ]
  },
  {
   "cell_type": "code",
   "execution_count": 31,
   "metadata": {},
   "outputs": [
    {
     "data": {
      "text/html": [
       "<div>\n",
       "<style scoped>\n",
       "    .dataframe tbody tr th:only-of-type {\n",
       "        vertical-align: middle;\n",
       "    }\n",
       "\n",
       "    .dataframe tbody tr th {\n",
       "        vertical-align: top;\n",
       "    }\n",
       "\n",
       "    .dataframe thead th {\n",
       "        text-align: right;\n",
       "    }\n",
       "</style>\n",
       "<table border=\"1\" class=\"dataframe\">\n",
       "  <thead>\n",
       "    <tr style=\"text-align: right;\">\n",
       "      <th>sex</th>\n",
       "      <th>F</th>\n",
       "      <th>M</th>\n",
       "      <th>diferencia</th>\n",
       "    </tr>\n",
       "    <tr>\n",
       "      <th>title</th>\n",
       "      <th></th>\n",
       "      <th></th>\n",
       "      <th></th>\n",
       "    </tr>\n",
       "  </thead>\n",
       "  <tbody>\n",
       "    <tr>\n",
       "      <td>First Wives Club, The (1996)</td>\n",
       "      <td>3.491525</td>\n",
       "      <td>2.742574</td>\n",
       "      <td>0.748951</td>\n",
       "    </tr>\n",
       "    <tr>\n",
       "      <td>My Fair Lady (1964)</td>\n",
       "      <td>4.238095</td>\n",
       "      <td>3.602410</td>\n",
       "      <td>0.635686</td>\n",
       "    </tr>\n",
       "    <tr>\n",
       "      <td>Batman Forever (1995)</td>\n",
       "      <td>3.173913</td>\n",
       "      <td>2.538462</td>\n",
       "      <td>0.635452</td>\n",
       "    </tr>\n",
       "    <tr>\n",
       "      <td>Net, The (1995)</td>\n",
       "      <td>3.482759</td>\n",
       "      <td>2.857143</td>\n",
       "      <td>0.625616</td>\n",
       "    </tr>\n",
       "    <tr>\n",
       "      <td>Grease (1978)</td>\n",
       "      <td>3.754386</td>\n",
       "      <td>3.141593</td>\n",
       "      <td>0.612793</td>\n",
       "    </tr>\n",
       "    <tr>\n",
       "      <td>Sound of Music, The (1965)</td>\n",
       "      <td>4.160000</td>\n",
       "      <td>3.564626</td>\n",
       "      <td>0.595374</td>\n",
       "    </tr>\n",
       "    <tr>\n",
       "      <td>Michael (1996)</td>\n",
       "      <td>3.674419</td>\n",
       "      <td>3.118421</td>\n",
       "      <td>0.555998</td>\n",
       "    </tr>\n",
       "    <tr>\n",
       "      <td>Scream 2 (1997)</td>\n",
       "      <td>3.629630</td>\n",
       "      <td>3.075949</td>\n",
       "      <td>0.553680</td>\n",
       "    </tr>\n",
       "    <tr>\n",
       "      <td>Grumpier Old Men (1995)</td>\n",
       "      <td>3.447368</td>\n",
       "      <td>2.900000</td>\n",
       "      <td>0.547368</td>\n",
       "    </tr>\n",
       "    <tr>\n",
       "      <td>Ghost (1990)</td>\n",
       "      <td>3.800000</td>\n",
       "      <td>3.281818</td>\n",
       "      <td>0.518182</td>\n",
       "    </tr>\n",
       "  </tbody>\n",
       "</table>\n",
       "</div>"
      ],
      "text/plain": [
       "sex                                  F         M  diferencia\n",
       "title                                                       \n",
       "First Wives Club, The (1996)  3.491525  2.742574    0.748951\n",
       "My Fair Lady (1964)           4.238095  3.602410    0.635686\n",
       "Batman Forever (1995)         3.173913  2.538462    0.635452\n",
       "Net, The (1995)               3.482759  2.857143    0.625616\n",
       "Grease (1978)                 3.754386  3.141593    0.612793\n",
       "Sound of Music, The (1965)    4.160000  3.564626    0.595374\n",
       "Michael (1996)                3.674419  3.118421    0.555998\n",
       "Scream 2 (1997)               3.629630  3.075949    0.553680\n",
       "Grumpier Old Men (1995)       3.447368  2.900000    0.547368\n",
       "Ghost (1990)                  3.800000  3.281818    0.518182"
      ]
     },
     "execution_count": 31,
     "metadata": {},
     "output_type": "execute_result"
    }
   ],
   "source": [
    "tabla.sort_values(by='diferencia', ascending=False).head(10)"
   ]
  },
  {
   "cell_type": "code",
   "execution_count": 32,
   "metadata": {},
   "outputs": [
    {
     "data": {
      "text/html": [
       "<div>\n",
       "<style scoped>\n",
       "    .dataframe tbody tr th:only-of-type {\n",
       "        vertical-align: middle;\n",
       "    }\n",
       "\n",
       "    .dataframe tbody tr th {\n",
       "        vertical-align: top;\n",
       "    }\n",
       "\n",
       "    .dataframe thead th {\n",
       "        text-align: right;\n",
       "    }\n",
       "</style>\n",
       "<table border=\"1\" class=\"dataframe\">\n",
       "  <thead>\n",
       "    <tr style=\"text-align: right;\">\n",
       "      <th>sex</th>\n",
       "      <th>F</th>\n",
       "      <th>M</th>\n",
       "      <th>diferencia</th>\n",
       "    </tr>\n",
       "    <tr>\n",
       "      <th>title</th>\n",
       "      <th></th>\n",
       "      <th></th>\n",
       "      <th></th>\n",
       "    </tr>\n",
       "  </thead>\n",
       "  <tbody>\n",
       "    <tr>\n",
       "      <td>Good, The Bad and The Ugly, The (1966)</td>\n",
       "      <td>3.187500</td>\n",
       "      <td>3.950413</td>\n",
       "      <td>-0.762913</td>\n",
       "    </tr>\n",
       "    <tr>\n",
       "      <td>True Romance (1993)</td>\n",
       "      <td>3.000000</td>\n",
       "      <td>3.727273</td>\n",
       "      <td>-0.727273</td>\n",
       "    </tr>\n",
       "    <tr>\n",
       "      <td>Reservoir Dogs (1992)</td>\n",
       "      <td>3.433333</td>\n",
       "      <td>4.127119</td>\n",
       "      <td>-0.693785</td>\n",
       "    </tr>\n",
       "    <tr>\n",
       "      <td>Waterworld (1995)</td>\n",
       "      <td>2.263158</td>\n",
       "      <td>2.927711</td>\n",
       "      <td>-0.664553</td>\n",
       "    </tr>\n",
       "    <tr>\n",
       "      <td>Bridge on the River Kwai, The (1957)</td>\n",
       "      <td>3.685714</td>\n",
       "      <td>4.307692</td>\n",
       "      <td>-0.621978</td>\n",
       "    </tr>\n",
       "    <tr>\n",
       "      <td>2001: A Space Odyssey (1968)</td>\n",
       "      <td>3.491228</td>\n",
       "      <td>4.103960</td>\n",
       "      <td>-0.612732</td>\n",
       "    </tr>\n",
       "    <tr>\n",
       "      <td>Patton (1970)</td>\n",
       "      <td>3.476190</td>\n",
       "      <td>4.086957</td>\n",
       "      <td>-0.610766</td>\n",
       "    </tr>\n",
       "    <tr>\n",
       "      <td>Full Metal Jacket (1987)</td>\n",
       "      <td>3.173913</td>\n",
       "      <td>3.761905</td>\n",
       "      <td>-0.587992</td>\n",
       "    </tr>\n",
       "    <tr>\n",
       "      <td>Beavis and Butt-head Do America (1996)</td>\n",
       "      <td>2.310345</td>\n",
       "      <td>2.897638</td>\n",
       "      <td>-0.587293</td>\n",
       "    </tr>\n",
       "    <tr>\n",
       "      <td>Ben-Hur (1959)</td>\n",
       "      <td>3.400000</td>\n",
       "      <td>3.968085</td>\n",
       "      <td>-0.568085</td>\n",
       "    </tr>\n",
       "  </tbody>\n",
       "</table>\n",
       "</div>"
      ],
      "text/plain": [
       "sex                                            F         M  diferencia\n",
       "title                                                                 \n",
       "Good, The Bad and The Ugly, The (1966)  3.187500  3.950413   -0.762913\n",
       "True Romance (1993)                     3.000000  3.727273   -0.727273\n",
       "Reservoir Dogs (1992)                   3.433333  4.127119   -0.693785\n",
       "Waterworld (1995)                       2.263158  2.927711   -0.664553\n",
       "Bridge on the River Kwai, The (1957)    3.685714  4.307692   -0.621978\n",
       "2001: A Space Odyssey (1968)            3.491228  4.103960   -0.612732\n",
       "Patton (1970)                           3.476190  4.086957   -0.610766\n",
       "Full Metal Jacket (1987)                3.173913  3.761905   -0.587992\n",
       "Beavis and Butt-head Do America (1996)  2.310345  2.897638   -0.587293\n",
       "Ben-Hur (1959)                          3.400000  3.968085   -0.568085"
      ]
     },
     "execution_count": 32,
     "metadata": {},
     "output_type": "execute_result"
    }
   ],
   "source": [
    "tabla.sort_values(by='diferencia').head(10)"
   ]
  },
  {
   "cell_type": "markdown",
   "metadata": {},
   "source": [
    "Cuando una película es buena...¿Todo el mundo dice que es buena? ¿Y al revés? ¿Qué películas tienen la mayor variabiliad entre sus valoraciones? Obtén las 10 con mayores desviaciones.\n"
   ]
  },
  {
   "cell_type": "code",
   "execution_count": 33,
   "metadata": {},
   "outputs": [
    {
     "data": {
      "text/plain": [
       "title\n",
       "Natural Born Killers (1994)               1.327240\n",
       "Nightmare on Elm Street, A (1984)         1.313385\n",
       "Lost Highway (1997)                       1.303494\n",
       "Crash (1996)                              1.297237\n",
       "Beavis and Butt-head Do America (1996)    1.259850\n",
       "Evita (1996)                              1.234051\n",
       "Grease (1978)                             1.232027\n",
       "Happy Gilmore (1996)                      1.223152\n",
       "Kingpin (1996)                            1.216547\n",
       "Ace Ventura: Pet Detective (1994)         1.215735\n",
       "Name: rating, dtype: float64"
      ]
     },
     "execution_count": 33,
     "metadata": {},
     "output_type": "execute_result"
    }
   ],
   "source": [
    "total.groupby('title')['rating'].std().sort_values(ascending=False).head(10)"
   ]
  },
  {
   "cell_type": "code",
   "execution_count": null,
   "metadata": {},
   "outputs": [],
   "source": []
  }
 ],
 "metadata": {
  "anaconda-cloud": {},
  "kernelspec": {
   "display_name": "Python [conda env:py37machlearn]",
   "language": "python",
   "name": "conda-env-py37machlearn-py"
  },
  "language_info": {
   "codemirror_mode": {
    "name": "ipython",
    "version": 3
   },
   "file_extension": ".py",
   "mimetype": "text/x-python",
   "name": "python",
   "nbconvert_exporter": "python",
   "pygments_lexer": "ipython3",
   "version": "3.7.4"
  }
 },
 "nbformat": 4,
 "nbformat_minor": 1
}
