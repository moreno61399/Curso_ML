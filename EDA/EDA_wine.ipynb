{
 "cells": [
  {
   "cell_type": "markdown",
   "metadata": {},
   "source": [
    "## EDA para el dataset wine"
   ]
  },
  {
   "cell_type": "code",
   "execution_count": null,
   "metadata": {},
   "outputs": [],
   "source": [
    "import matplotlib.pyplot as plt\n",
    "import pandas as pd\n",
    "import numpy as np\n",
    "%matplotlib inline"
   ]
  },
  {
   "cell_type": "markdown",
   "metadata": {},
   "source": [
    "En esta práctica vamos a trabajar con el dataset wine (wine.data). Lo primero que debes haces es leer los datos en un dataframe. A partir de él puedes comenzar a analizar cómo es el dataset y qué tipo de datos contiene:\n",
    "* ¿Cuántos datos hay?\n",
    "* ¿Cuántas características?\n",
    "* ¿En qué columna está la clase a la que pertenece cada dato?\n",
    "* ¿Hay valores nulos?"
   ]
  },
  {
   "cell_type": "code",
   "execution_count": null,
   "metadata": {},
   "outputs": [],
   "source": []
  },
  {
   "cell_type": "markdown",
   "metadata": {},
   "source": [
    "Puedes comenzar ya a realizar un análisis exploratorio un poco más profundo. En primer lugar de forma numérica:\n",
    "* ¿Cómo se distribuyen los datos en cada característica? ¿Cuánto es la media? ¿Y la desviación?\n",
    "* ¿Cuántas clases diferentes hay?\n",
    "* ¿Cuántos ejemplos hay de cada clase?"
   ]
  },
  {
   "cell_type": "code",
   "execution_count": null,
   "metadata": {},
   "outputs": [],
   "source": []
  },
  {
   "cell_type": "markdown",
   "metadata": {},
   "source": [
    "A continuación comenzamos con el análisis exploratorio de datos visual. En este problema tenemos bastantes características para cada uno de los datos. Analiza cada una de ellas de tal forma que puedas intuir si, según esa característica, las clases son fácilmente linealmente separables o no"
   ]
  },
  {
   "cell_type": "code",
   "execution_count": null,
   "metadata": {},
   "outputs": [],
   "source": []
  },
  {
   "cell_type": "markdown",
   "metadata": {},
   "source": [
    "Según el análisis anterior selecciona aquellas características que te parezcan mejores (no más de 4 o 5). Para estas, realiza un análisis visual por parejas (carac1 - carac2, carac1 - carac 3 ...)"
   ]
  },
  {
   "cell_type": "code",
   "execution_count": null,
   "metadata": {},
   "outputs": [],
   "source": []
  },
  {
   "cell_type": "markdown",
   "metadata": {},
   "source": [
    "Una vez realizado este análisis vamos a probar cómo clasifican la selección de características que hemos hecho. Para ello comienza dividiendo el dataset en dos conjuntos: conjunto de entrenamiento (128 datos) y conjunto de test (50 datos)\n",
    "\n",
    "Recuerda que si los datos originales están ordenados por clase, es necesario aleatorizarlos antes de hacer la partición"
   ]
  },
  {
   "cell_type": "markdown",
   "metadata": {},
   "source": []
  },
  {
   "cell_type": "markdown",
   "metadata": {},
   "source": [
    "Comienza con una clasificación basada sólo en dos características. Para ello elige las dos características del apartado anterior que te ha pareciso que separan los datos más fácilmente.\n",
    "\n",
    "Clasifica cada uno de los datos de test en base a los datos de entrenamiento. Para ello utiliza el método del vecino más cercano, es decir, asignarle la clase del dato de entrenamiento que sea más similar al dato a clasificar.\n",
    "\n",
    "Para medir cómo de buena es la clasificación puedes contar el porcentaje de aciertos (número de ejemplos bien clasificados entre el número total de ejemplos de test)"
   ]
  },
  {
   "cell_type": "code",
   "execution_count": null,
   "metadata": {},
   "outputs": [],
   "source": []
  },
  {
   "cell_type": "markdown",
   "metadata": {},
   "source": [
    "¿Has obtenido un buen resultado? Si no lo has hecho, puede que no hayas tenido en cuenta la escala de cada uno de los datos. Si los valores de la primera característica varían entre 0 y 1, y los valores de la segunda característica varían entre 0 y 100, la distancia de dos datos se va a ver afectada prácticamente solo por la segunda característica.\n",
    "\n",
    "Para evitar este problema normaliza los datos. En cada característica, el nuevo valor debe ser el valor original menos la media de esa característica, entre la desviación de dicha característica.\n",
    "\n",
    "Para el conjunto de entrenamiento debes calcular sus medias y desviaciones por atributo y normalizar. Para el conjunto de test, debes utilizar la media y desviación del conjunto de entrenamiento.\n",
    "\n",
    "Repite el proceso de clasificación anterior y comprueba que la clasificación mejora notablemente."
   ]
  },
  {
   "cell_type": "code",
   "execution_count": null,
   "metadata": {},
   "outputs": [],
   "source": []
  },
  {
   "cell_type": "markdown",
   "metadata": {},
   "source": [
    "¿Qué hubiese pasado si no seleccionamos características? Prueba a realizar la clasificación con las 13 características que comprende el dataset.\n",
    "* ¿Es el resultado mejor, pero o igual?\n",
    "* ¿Eso significa que siempre hay que hacer selección de características? ¿O nunca?"
   ]
  },
  {
   "cell_type": "code",
   "execution_count": null,
   "metadata": {},
   "outputs": [],
   "source": []
  },
  {
   "cell_type": "markdown",
   "metadata": {},
   "source": [
    "Por último, vamos a estudiar qué ocurre si en lugar de trabajar sobre este dataset tal cual lo obtenemos, decidimos transformarlo a un nuevo espacio. Para ello utiliza la transformación PCA (Análisis de Componentes Principales) que ya hemos visto en este título propio.\n",
    "\n",
    "Una vez pasado al nuevo espacio, clasifica con las dos primeras características. Haz otra clasificación utilizando todas las características. ¿Son los resultados mejores, peores o iguales que con los datos sin transformar?"
   ]
  },
  {
   "cell_type": "code",
   "execution_count": null,
   "metadata": {},
   "outputs": [],
   "source": []
  }
 ],
 "metadata": {
  "anaconda-cloud": {},
  "kernelspec": {
   "display_name": "Python 2",
   "language": "python",
   "name": "python2"
  },
  "language_info": {
   "codemirror_mode": {
    "name": "ipython",
    "version": 2
   },
   "file_extension": ".py",
   "mimetype": "text/x-python",
   "name": "python",
   "nbconvert_exporter": "python",
   "pygments_lexer": "ipython2",
   "version": "2.7.15"
  }
 },
 "nbformat": 4,
 "nbformat_minor": 1
}
