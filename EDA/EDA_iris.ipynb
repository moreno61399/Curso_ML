{
 "cells": [
  {
   "cell_type": "markdown",
   "metadata": {},
   "source": [
    "## EDA para el dataset iris"
   ]
  },
  {
   "cell_type": "code",
   "execution_count": null,
   "metadata": {},
   "outputs": [],
   "source": [
    "import matplotlib.pyplot as plt\n",
    "import pandas as pd\n",
    "import numpy as np\n",
    "# %matplotlib notebook\n",
    "%matplotlib inline"
   ]
  },
  {
   "cell_type": "markdown",
   "metadata": {},
   "source": [
    "Importamos los datos del dataset iris.data en un panda y mostramos su información básica mediante la instrucción info()"
   ]
  },
  {
   "cell_type": "code",
   "execution_count": null,
   "metadata": {},
   "outputs": [],
   "source": [
    "iris=pd.read_csv('iris.data')\n",
    "iris.info()"
   ]
  },
  {
   "cell_type": "markdown",
   "metadata": {},
   "source": [
    "Imprimimos los primeros y los últimos datos del dataset"
   ]
  },
  {
   "cell_type": "code",
   "execution_count": null,
   "metadata": {},
   "outputs": [],
   "source": [
    "print(iris.head())\n",
    "print(iris.tail())"
   ]
  },
  {
   "cell_type": "markdown",
   "metadata": {},
   "source": [
    "Comenzamos con un análisis exploratorio de datos no visual, de cada una de las características individualmente. Para ello, utilizamos la función describe(), que muestra las estadísticas básicas, excluyendo los valores nulos (en este dataset no hay ninguno)"
   ]
  },
  {
   "cell_type": "code",
   "execution_count": null,
   "metadata": {},
   "outputs": [],
   "source": [
    "iris.describe()"
   ]
  },
  {
   "cell_type": "markdown",
   "metadata": {
    "collapsed": true
   },
   "source": [
    "Para cada uno de los atributos, analizamos visualmente sus valores"
   ]
  },
  {
   "cell_type": "code",
   "execution_count": null,
   "metadata": {},
   "outputs": [],
   "source": [
    "iris.plot.hist(subplots=True, bins=20);"
   ]
  },
  {
   "cell_type": "code",
   "execution_count": null,
   "metadata": {},
   "outputs": [],
   "source": [
    "iris.plot.box()"
   ]
  },
  {
   "cell_type": "markdown",
   "metadata": {},
   "source": [
    "Como este dataset es válido para un problema de clasificación, es mejor realizar este análisis teniendo en cuenta la clase de cada ejemplo"
   ]
  },
  {
   "cell_type": "code",
   "execution_count": null,
   "metadata": {},
   "outputs": [],
   "source": [
    "agrupado=iris.groupby('Clase')\n",
    "agrupado.describe()"
   ]
  },
  {
   "cell_type": "code",
   "execution_count": null,
   "metadata": {},
   "outputs": [],
   "source": [
    "agrupado.groups.keys()"
   ]
  },
  {
   "cell_type": "code",
   "execution_count": null,
   "metadata": {},
   "outputs": [],
   "source": [
    "plt.figure()\n",
    "graf1=plt.subplot(2,2,1)\n",
    "graf2=plt.subplot(2,2,2)\n",
    "graf3=plt.subplot(2,2,3)\n",
    "graf4=plt.subplot(2,2,4)\n",
    "for name, group in agrupado:\n",
    "    graf1.plot(group['Largo sepalo'], marker='o', linestyle='')\n",
    "for name, group in agrupado:\n",
    "    graf2.plot(group['Ancho sepalo'], marker='o', linestyle='')\n",
    "for name, group in agrupado:\n",
    "    graf3.plot(group['Largo petalo'], marker='o', linestyle='')\n",
    "for name, group in agrupado:\n",
    "    graf4.plot(group['Ancho petalo'], marker='o', linestyle='')\n",
    "plt.legend(agrupado.groups.keys(),bbox_to_anchor=(-0.4, 1), loc='lower left', borderaxespad=0.)\n"
   ]
  },
  {
   "cell_type": "markdown",
   "metadata": {},
   "source": [
    "Cuidado con la información que mostramos. ¿Cuántas dimensiones estamos mostrando? ¿Cuáles son estas dimensiones? Volvemos a mostrar los datos eliminando el número de dato"
   ]
  },
  {
   "cell_type": "code",
   "execution_count": null,
   "metadata": {},
   "outputs": [],
   "source": [
    "plt.figure()\n",
    "graf1=plt.subplot(4,1,1)\n",
    "graf2=plt.subplot(4,1,2)\n",
    "graf3=plt.subplot(4,1,3)\n",
    "graf4=plt.subplot(4,1,4)\n",
    "agrupado=iris.groupby('Clase')\n",
    "for name, group in agrupado:\n",
    "    graf1.plot(group['Largo sepalo'],np.zeros_like(group['Largo sepalo']), marker='o', linestyle='')\n",
    "for name, group in agrupado:\n",
    "    graf2.plot(group['Ancho sepalo'],np.zeros_like(group['Ancho sepalo']), marker='o', linestyle='')\n",
    "for name, group in agrupado:\n",
    "    graf3.plot(group['Largo petalo'],np.zeros_like(group['Largo petalo']), marker='o', linestyle='')\n",
    "for name, group in agrupado:\n",
    "    graf4.plot(group['Ancho petalo'],np.zeros_like(group['Ancho petalo']), marker='o', linestyle='')"
   ]
  },
  {
   "cell_type": "markdown",
   "metadata": {},
   "source": [
    "Existen dos nuevos tipos de gráficas que nos ayudan a ver la separabilidad de las clases en cada uno de los atributos: las curvas de Andrew y las coordenadas paralelas.\n",
    "* Curvas de Andrew: permiten mostrar datos multivariable, utilizando el valor de cada atributos como coeficientes de Fourier\n",
    "* Coordenadas paralelas: permiten mostrar datos multivariable, para intentar mostrar clusters\n",
    "\n",
    "Para utilizar cualquiera de estas gráficas es necesario importarlas, desde pandas.tools.plotting"
   ]
  },
  {
   "cell_type": "code",
   "execution_count": null,
   "metadata": {},
   "outputs": [],
   "source": [
    "from pandas.plotting import andrews_curves\n",
    "from pandas.plotting import parallel_coordinates\n",
    "plt.figure()\n",
    "andrews_curves(iris,'Clase')\n",
    "plt.figure()\n",
    "parallel_coordinates(iris,'Clase')"
   ]
  },
  {
   "cell_type": "markdown",
   "metadata": {},
   "source": [
    "Comprobamos que 'Largo petalo' y 'Ancho sépalo' son los dos atributos que mejor separan a las 3 clases. También vemos que la clase Iris-setosa es completamente identificable teniendo en cuenta cada uno de estos atributos individualmente.\n",
    "\n",
    "Viasualizamos los datos cuando tenemos en cuenta estos dos atributos al mismo tiempo"
   ]
  },
  {
   "cell_type": "code",
   "execution_count": null,
   "metadata": {},
   "outputs": [],
   "source": [
    "colores = np.where(iris.Clase == 'Iris-virginica', 'r',np.where(iris.Clase=='Iris-setosa','g','b'))\n",
    "iris.plot.scatter(x='Largo petalo', y='Ancho petalo',c=colores)\n"
   ]
  },
  {
   "cell_type": "markdown",
   "metadata": {},
   "source": [
    "### Clasificación de los datos"
   ]
  },
  {
   "cell_type": "markdown",
   "metadata": {},
   "source": [
    "Una vez que hemos analizado el dataset y hemos obtenido algunas conclusiones, vamos a comprobar si estas son ciertas empíricamente.\n",
    "Como hemos dicho anteriormente, el dataset consta de 150 datos, 50 de cada una de las clases. Vamos a dividir el dataset en dos conjuntos:\n",
    "* Conjunto de entrenamiento: con 120 datos aleatorios del dataset\n",
    "* Conjunto de test: con los 30 datos restantes\n",
    "\n",
    "El objetivo es clasificar los 30 datos del conjunto de test basándonos en los datos de entrenamiento. Como sabemos la clase real de estos ejemplos, podemos comprobar la tasa de acierto de nuestra clasificación"
   ]
  },
  {
   "cell_type": "markdown",
   "metadata": {},
   "source": [
    "Empezamos creando nuestros dos conjuntos"
   ]
  },
  {
   "cell_type": "code",
   "execution_count": null,
   "metadata": {},
   "outputs": [],
   "source": [
    "#Aleatorizamos el dataset\n",
    "np.random.seed(0)\n",
    "aleat=np.random.permutation(np.arange(150))\n",
    "\n",
    "#Separamos en dos\n",
    "entrenamiento=iris.iloc[aleat[0:120]]\n",
    "test=iris.iloc[aleat[120:150]]"
   ]
  },
  {
   "cell_type": "markdown",
   "metadata": {},
   "source": [
    "Para cada dato de test buscamos cuál es el dato de entrenamiento más cercano, y decimos que pertenece a la misma clase que este dato. Comprobamos si la clase es la correcta, y almacenamos el resultado. \n",
    "Este estudio lo hacemos teniendo en cuenta cada uno de los 4 atributos por separado"
   ]
  },
  {
   "cell_type": "code",
   "execution_count": null,
   "metadata": {
    "scrolled": true
   },
   "outputs": [],
   "source": [
    "#Largo sepalo\n",
    "aciertos=pd.DataFrame(np.zeros((3,3)),columns=['Iris-setosa','Iris-versicolor','Iris-virginica'],index=['Iris-setosa','Iris-versicolor','Iris-virginica'])\n",
    "for i in np.arange(30):\n",
    "    dTest=test.iloc[i,0]\n",
    "    dTestC=test.iloc[i,[0,4]]\n",
    "    distancias=np.zeros((120,1))\n",
    "    for j in np.arange(120):\n",
    "        dTrain=entrenamiento.iloc[j,0]\n",
    "        distancias[j]=((dTrain-dTest)**2).sum()\n",
    "    posi=distancias.argmin()\n",
    "    aciertos.loc[dTestC['Clase'],entrenamiento.iloc[posi,4]]+=1\n",
    "aciertos"
   ]
  },
  {
   "cell_type": "code",
   "execution_count": null,
   "metadata": {},
   "outputs": [],
   "source": [
    "#Ancho sepalo\n",
    "aciertos=pd.DataFrame(np.zeros((3,3)),columns=['Iris-setosa','Iris-versicolor','Iris-virginica'],index=['Iris-setosa','Iris-versicolor','Iris-virginica'])\n",
    "for i in np.arange(30):\n",
    "    dTest=test.iloc[i,1]\n",
    "    dTestC=test.iloc[i,[1,4]]\n",
    "    distancias=np.zeros((120,1))\n",
    "    for j in np.arange(120):\n",
    "        dTrain=entrenamiento.iloc[j,1]\n",
    "        distancias[j]=((dTrain-dTest)**2).sum()\n",
    "    posi=distancias.argmin()\n",
    "    aciertos.loc[dTestC['Clase'],entrenamiento.iloc[posi,4]]+=1\n",
    "aciertos"
   ]
  },
  {
   "cell_type": "code",
   "execution_count": null,
   "metadata": {},
   "outputs": [],
   "source": [
    "#Largo petalo\n",
    "aciertos=pd.DataFrame(np.zeros((3,3)),columns=['Iris-setosa','Iris-versicolor','Iris-virginica'],index=['Iris-setosa','Iris-versicolor','Iris-virginica'])\n",
    "for i in np.arange(30):\n",
    "    dTest=test.iloc[i,2]\n",
    "    dTestC=test.iloc[i,[2,4]]\n",
    "    distancias=np.zeros((120,1))\n",
    "    for j in np.arange(120):\n",
    "        dTrain=entrenamiento.iloc[j,2]\n",
    "        distancias[j]=((dTrain-dTest)**2).sum()\n",
    "    posi=distancias.argmin()\n",
    "    aciertos.loc[dTestC['Clase'],entrenamiento.iloc[posi,4]]+=1\n",
    "aciertos"
   ]
  },
  {
   "cell_type": "code",
   "execution_count": null,
   "metadata": {},
   "outputs": [],
   "source": [
    "#Ancho petalo\n",
    "aciertos=pd.DataFrame(np.zeros((3,3)),columns=['Iris-setosa','Iris-versicolor','Iris-virginica'],index=['Iris-setosa','Iris-versicolor','Iris-virginica'])\n",
    "for i in np.arange(30):\n",
    "    dTest=test.iloc[i,3]\n",
    "    dTestC=test.iloc[i,[3,4]]\n",
    "    distancias=np.zeros((120,1))\n",
    "    for j in np.arange(120):\n",
    "        dTrain=entrenamiento.iloc[j,3]\n",
    "        distancias[j]=((dTrain-dTest)**2).sum()\n",
    "    posi=distancias.argmin()\n",
    "    aciertos.loc[dTestC['Clase'],entrenamiento.iloc[posi,4]]+=1\n",
    "aciertos"
   ]
  },
  {
   "cell_type": "code",
   "execution_count": null,
   "metadata": {},
   "outputs": [],
   "source": [
    "#Largo y ancho petalo\n",
    "aciertos=pd.DataFrame(np.zeros((3,3)),columns=['Iris-setosa','Iris-versicolor','Iris-virginica'],index=['Iris-setosa','Iris-versicolor','Iris-virginica'])\n",
    "for i in np.arange(30):\n",
    "    dTest=test.iloc[i,[2,3]]\n",
    "    dTestC=test.iloc[i,[2,3,4]]\n",
    "    distancias=np.zeros((120,1))\n",
    "    for j in np.arange(120):\n",
    "        dTrain=entrenamiento.iloc[j,[2,3]]\n",
    "        distancias[j]=((dTrain-dTest)**2).sum()\n",
    "    posi=distancias.argmin()\n",
    "    aciertos.loc[dTestC['Clase'],entrenamiento.iloc[posi,4]]+=1\n",
    "aciertos"
   ]
  },
  {
   "cell_type": "code",
   "execution_count": null,
   "metadata": {},
   "outputs": [],
   "source": [
    "#Todos atributos\n",
    "aciertos=pd.DataFrame(np.zeros((3,3)),columns=['Iris-setosa','Iris-versicolor','Iris-virginica'],index=['Iris-setosa','Iris-versicolor','Iris-virginica'])\n",
    "for i in np.arange(30):\n",
    "    dTest=test.iloc[i,:-1]\n",
    "    dTestC=test.iloc[i,:]\n",
    "    distancias=np.zeros((120,1))\n",
    "    for j in np.arange(120):\n",
    "        dTrain=entrenamiento.iloc[j,:-1]\n",
    "        distancias[j]=((dTrain-dTest)**2).sum()\n",
    "    posi=distancias.argmin()\n",
    "    aciertos.loc[dTestC['Clase'],entrenamiento.iloc[posi,4]]+=1\n",
    "aciertos"
   ]
  },
  {
   "cell_type": "code",
   "execution_count": null,
   "metadata": {},
   "outputs": [],
   "source": []
  }
 ],
 "metadata": {
  "anaconda-cloud": {},
  "kernelspec": {
   "display_name": "Python [conda env:py37machlearn] *",
   "language": "python",
   "name": "conda-env-py37machlearn-py"
  },
  "language_info": {
   "codemirror_mode": {
    "name": "ipython",
    "version": 3
   },
   "file_extension": ".py",
   "mimetype": "text/x-python",
   "name": "python",
   "nbconvert_exporter": "python",
   "pygments_lexer": "ipython3",
   "version": "3.7.4"
  }
 },
 "nbformat": 4,
 "nbformat_minor": 2
}
