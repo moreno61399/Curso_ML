{
 "cells": [
  {
   "cell_type": "markdown",
   "metadata": {},
   "source": [
    "## Introducción a Matplotlib - pyplot"
   ]
  },
  {
   "cell_type": "markdown",
   "metadata": {},
   "source": [
    "Matplotlib es una librería de python para gráficos en 2 dimensiones. Además, vamos a trabajar con pyplot, que simplifica la creación de las gráficas.\n",
    "\n",
    "pyplot permite trabajar con las gráficas de matplotlib de una forma muy similar a MatLab.\n",
    "\n",
    "Documentación de la librería pyplot: \n",
    "https://matplotlib.org/api/pyplot_api.html"
   ]
  },
  {
   "cell_type": "markdown",
   "metadata": {},
   "source": [
    "### Entornos\n",
    "\n",
    "Para trabajar con matplotlib dentro de un notebook, podemos necesitar dos tipos de entornos\n",
    "\n",
    "* %matplotlib notebook\n",
    "\n",
    "crea gráficos \"interactivos\" a los que se les puede cambiar el tamaño y hacer zoom\n",
    "\n",
    "* %matplotlib inline\n",
    "\n",
    "crea gráficos estáticos que no se pueden cambiar de tamaño ni hacer zoom\n",
    "\n",
    "El entorno debe fijarse al principio del notebook, antes de importar el módulo pyplot"
   ]
  },
  {
   "cell_type": "code",
   "execution_count": null,
   "metadata": {},
   "outputs": [],
   "source": [
    "%matplotlib notebook\n",
    "import matplotlib.pyplot as plt"
   ]
  },
  {
   "cell_type": "markdown",
   "metadata": {},
   "source": [
    "### Pintar un gráfico"
   ]
  },
  {
   "cell_type": "markdown",
   "metadata": {},
   "source": [
    "La función genérica para dibujar dentro de pyplot es plot"
   ]
  },
  {
   "cell_type": "code",
   "execution_count": null,
   "metadata": {},
   "outputs": [],
   "source": [
    "plt.plot(3, 2)"
   ]
  },
  {
   "cell_type": "markdown",
   "metadata": {},
   "source": [
    "Esta función dibuja líneas, y por eso necesita al menos dos puntos para poder visualizarse algo"
   ]
  },
  {
   "cell_type": "code",
   "execution_count": null,
   "metadata": {},
   "outputs": [],
   "source": [
    "plt.plot([1,2],[1,2])"
   ]
  },
  {
   "cell_type": "markdown",
   "metadata": {},
   "source": [
    "### Completar una figura o dibujar una nueva"
   ]
  },
  {
   "cell_type": "markdown",
   "metadata": {},
   "source": [
    "Por defecto, al haber elegido el entorno notebook, cada vez que pintamos algo comprueba si hay una figura activa y, en caso afirmativo, continua pintando en esa misma figura.\n",
    "\n",
    "Para dibujar en una figura nueva, debemos indicarle explícitamente que queremos cambiar de figura, mediante la instrucción plt.figure()"
   ]
  },
  {
   "cell_type": "code",
   "execution_count": null,
   "metadata": {},
   "outputs": [],
   "source": [
    "plt.figure()\n",
    "plt.plot([1,2],[1,2])"
   ]
  },
  {
   "cell_type": "markdown",
   "metadata": {},
   "source": [
    "### Gráficos de líneas"
   ]
  },
  {
   "cell_type": "markdown",
   "metadata": {},
   "source": [
    "Por defecto, plot dibuja un gráfico de líneas. Las coordenadas de los puntos a dibujar pueden indicarse mediante dos argumentos o uno solo (en este caso se utiliza como valores en el eje x el índice de los valores)\n",
    "\n",
    "* plot(x,y)\n",
    "* plot(y)"
   ]
  },
  {
   "cell_type": "code",
   "execution_count": null,
   "metadata": {},
   "outputs": [],
   "source": [
    "plt.figure()\n",
    "plt.plot([1, 3, 5, 7], [1, 2, 3, 4])\n",
    "plt.plot([1, 2, 3, 4])"
   ]
  },
  {
   "cell_type": "markdown",
   "metadata": {},
   "source": [
    "A la instrucción de dibujar le podemos añadir más argumentos, para formatear el estilo del gráfico (colores, tamaño, etc). Para ello, podemos indicar un valor para cada una de las propiedades. También podemos usar la versión simplificada para algunas propiedades comunes, utilizando el mismo formato que en Matlab\n",
    "\n",
    "Algunas de las propiedades que podemos seleccionar son (lista completa en la ayuda de la función - help(plt.plot)):\n",
    "* alpha - transparencia (0.0 es transparente y 1.0 es opaco)\n",
    "* color o c - se puede asignar cualquier color de matplotlib\n",
    "* linestyle o ls - tipo de línea ('solid', 'dashed', 'dashdot', 'dotted', 'None', '-', '--', '-.', ':')\n",
    "* linewidth o lw - grosor de línea\n",
    "* marker - tipo de marcador ('.', 'o', 't', '<', '>', 's', ...)\n",
    "* markeredgecolor o mec - color del borde del marcador\n",
    "* markeredgewidth o mew - grosor del borde del marcador\n",
    "* markerfacecolor o mfc - color del relleno del marcador\n",
    "* markersize o ms - tamaño del marcador\n",
    "* markevery - cada cuantos datos dibujar un marcador"
   ]
  },
  {
   "cell_type": "code",
   "execution_count": null,
   "metadata": {},
   "outputs": [],
   "source": [
    "plt.figure()\n",
    "plt.plot([1,2,3,4],[1,2,3,4],color='red',linestyle='-.',linewidth=3,alpha=0.25)\n",
    "plt.plot([10,9,8,7,6,5,4,3,2,1],ls='None',marker='o',ms=5,markevery=2,mec='blue',mfc='m')\n",
    "plt.plot([5,6,7,8],[5,6,7,8],marker='H',color='#FF8800')"
   ]
  },
  {
   "cell_type": "code",
   "execution_count": null,
   "metadata": {},
   "outputs": [],
   "source": [
    "plt.plot([0,4,8],[5,5,5],'^g--')"
   ]
  },
  {
   "cell_type": "markdown",
   "metadata": {},
   "source": [
    "### Ejes del gráfico"
   ]
  },
  {
   "cell_type": "markdown",
   "metadata": {},
   "source": [
    "Mediante el comando plot de la interfaz pyplot, estoy realizando varias instrucciones internamente. En primer lugar compruebo si hay una figura activa sobre la que dibujar, y en caso contrario, creo una. Una vez dentro de la figura, accedo al dibujo en sí (axes) y sobre él dibujo la línea indicada. \n",
    "\n",
    "Si quiero acceder a los axes para modificar algo, utilizo el comando gca (get current axes). No confundir axes con axis (ejes). Si quiero acceder a la figura, pyplot también me ofrece el comando gcf (get current figure)\n",
    "\n",
    "Una vez creado un gráfico, puedo saber la información contenida en el propio dibujo (axes). Con el comando get_children obtengo todos los objetos contenidos en el gráfico:\n",
    "* Un objeto Line2D por cada serie de datos dibujada\n",
    "* Un objeto Spine por cada línea del cuadrado exterior\n",
    "* Un eje x (XAxis) y un eje y (YAxis)\n",
    "* Los objetos Text son etiquetas del gráfico\n",
    "* Un objeto rectángulo, que es el fondo del gráfico"
   ]
  },
  {
   "cell_type": "code",
   "execution_count": null,
   "metadata": {},
   "outputs": [],
   "source": [
    "# obtengo el axes actual\n",
    "ax = plt.gca()\n",
    "# Obtengo todos los objetos (hijos) contenidos en él\n",
    "ax.get_children()"
   ]
  },
  {
   "cell_type": "markdown",
   "metadata": {},
   "source": [
    "Una vez pintada la gráfica, puedo completarla con una leyenda que indique qué representa cada serie de datos que he dibujado, en el orden en el que las he dibujado\n",
    "\n",
    "plt.legend(['Serie1','Serie2','Serie3',...])"
   ]
  },
  {
   "cell_type": "code",
   "execution_count": null,
   "metadata": {},
   "outputs": [],
   "source": [
    "plt.legend(['Linea 1','Linea descendente','Linea naranja','Horizontal'])"
   ]
  },
  {
   "cell_type": "markdown",
   "metadata": {},
   "source": [
    "Si quiero modificar los valores de los ejes del gráfico, puedo hacerlo a través de plt, o a través de los ejes actuales\n",
    "* ax.axis([0, 10, 0, 15])\n",
    "* plt.axis([0, 10, 0, 15])"
   ]
  },
  {
   "cell_type": "code",
   "execution_count": null,
   "metadata": {},
   "outputs": [],
   "source": [
    "# La propiedad axis se refiere a los ejes. Argumentos: [xmin, xmax, ymin, ymax]\n",
    "ax.axis([0,12,0,10])\n",
    "#plt.axis([0,10,0,15])"
   ]
  },
  {
   "cell_type": "markdown",
   "metadata": {},
   "source": [
    "Pyplot también nos ofrece una función para pintar el espacio entre dos rectas (función fill_between)"
   ]
  },
  {
   "cell_type": "code",
   "execution_count": null,
   "metadata": {},
   "outputs": [],
   "source": [
    "plt.figure()\n",
    "linea1=[1,2,3,4,5]\n",
    "linea2=[2,4,6,8,10]\n",
    "plt.plot(linea1)\n",
    "plt.plot(linea2)\n",
    "plt.gca().fill_between(range(len(linea1)),\n",
    "                linea1,linea2,\n",
    "                facecolor='red',\n",
    "                alpha=0.25)"
   ]
  },
  {
   "cell_type": "markdown",
   "metadata": {},
   "source": [
    "### Scatterplots"
   ]
  },
  {
   "cell_type": "markdown",
   "metadata": {},
   "source": [
    "Un gráfico scatterplot es un gráfico de dos dimensiones, similar a los que hemos creado hasta ahora. Podemos utilizar la función scatter() para crearlo. Esta función necesita como primer argumento los valores de los puntos en el eje x y como segundo argumento los valores de los puntos en el eje y.\n",
    "\n",
    "Matplotlib se basa fuertemente en los arrays de numpy (los utiliza como argumentos de muchas de sus funciones). Los datos a dibujar, pueden estar almacenados en arrays de numpy."
   ]
  },
  {
   "cell_type": "code",
   "execution_count": null,
   "metadata": {},
   "outputs": [],
   "source": [
    "import numpy as np\n",
    "\n",
    "x = np.array([1,2,3,4,5,6,7,8])\n",
    "y=x\n",
    "\n",
    "plt.figure()\n",
    "plt.scatter(x,y)"
   ]
  },
  {
   "cell_type": "markdown",
   "metadata": {},
   "source": [
    "Al pasarle todos los puntos a dibujar como un solo conjunto, scatter considera que son una serie de datos. Por defecto, todos tienen el mismo color y el mismo tamaño. Sin embargo, podemos indicarle nosotros cuál va a ser ese color y tamaño. Además, podemos hacer que esas propiedades varíen para cada punto. \n",
    "\n",
    "Por ejemplo, le pasamos una lista con tantos colores como puntos vamos a dibujar, de tal forma que cada color corresponde con un punto (propiedad c).\n",
    "\n",
    "Además, también cambiamos el tamaño de los puntos que dibujamos (propiedad s).\n",
    "\n",
    "Estas propiedades se pasan como argumentos extras. Para cada uno de estos argumentos, indicamos el nombre de la propiedad y lo igualamos con el(los) valor(es) asignado(s)"
   ]
  },
  {
   "cell_type": "code",
   "execution_count": null,
   "metadata": {},
   "outputs": [],
   "source": [
    "colores=['#FF00FF']*(len(x)-1)\n",
    "colores.append('green')\n",
    "\n",
    "plt.scatter(x, y, c=colores, s=100)"
   ]
  },
  {
   "cell_type": "markdown",
   "metadata": {},
   "source": [
    "Cuando varios puntos comparten el formato para ser mostrados, podemos dibujarlos con una instrucción a la que fijamos estas propiedades. En este caso, cada conjunto de datos se interpreta como una serie de datos y lo normal es darles un nombre. Para ello utilizamos la propiedad label (será muy útil cuando dibujemos la leyenda)"
   ]
  },
  {
   "cell_type": "code",
   "execution_count": null,
   "metadata": {},
   "outputs": [],
   "source": [
    "plt.figure()\n",
    "plt.scatter(x[:3], y[:3], s=100, c='red', label='Pequenos')\n",
    "plt.scatter(x[3:], y[3:], s=50, c='blue', label='Grandes')"
   ]
  },
  {
   "cell_type": "markdown",
   "metadata": {},
   "source": [
    "Si tenemos varias series de datos, es común añadir una leyenda. En este caso con la instrucción legend. La leyenda se puede colocar en cualquier parte del gráfico y siempre hay que intentar que no se solape con los datos.\n",
    "\n",
    "Con el atributo loc podemos elegir en qué parte del gráfico mostrarla: 'best' (0), 'upper right' (1), 'upper left' (2), 'lower left' (3), 'lower right' (4), 'right' (5), 'center left' (6), 'center right' (7), 'lower center' (8), 'upper center' (9), 'center' (10)\n",
    "\n",
    "También le podemos indicar en qué punto exacto queremos ponerlo, con una tupla de dos elementos (posición en la x (0=izquierda), posición en la y (0=abajo))\n",
    "\n",
    "Algunos otros atributos interesantes son:\n",
    "* ncol: número de columnas en la leyenda\n",
    "* fontsize: tamaño de letra de la leyenda\n",
    "* frameon: recuadro para la leyenda\n",
    "* framealpha: transparencia del fondo de la leyenda\n",
    "* title: título de la leyenda"
   ]
  },
  {
   "cell_type": "code",
   "execution_count": null,
   "metadata": {},
   "outputs": [],
   "source": [
    "plt.legend(loc=4,frameon=False,title='Leyenda')"
   ]
  },
  {
   "cell_type": "code",
   "execution_count": null,
   "metadata": {},
   "outputs": [],
   "source": [
    "plt.legend(loc=[0.1,0.25], fontsize='x-large', framealpha=0.75 )"
   ]
  },
  {
   "cell_type": "markdown",
   "metadata": {},
   "source": [
    "Lo habitual es completar el gráfico con un título e información sobre los ejes (qué representan y/o las unidades en que se miden). Para ellos utilizamos las instrucciones title, xlabel e ylabel. Todas ellas actuan sobre los axes actuales. "
   ]
  },
  {
   "cell_type": "code",
   "execution_count": null,
   "metadata": {},
   "outputs": [],
   "source": [
    "plt.title('Mi primer titulo')\n",
    "plt.xlabel('Eje x (en unidades)')\n",
    "plt.ylabel('Eje y (en unidades)')"
   ]
  },
  {
   "cell_type": "markdown",
   "metadata": {},
   "source": [
    "### Gráficos de barras"
   ]
  },
  {
   "cell_type": "markdown",
   "metadata": {},
   "source": [
    "Para dibujar gráficos de barras utilizamos la instrucción bar. En este caso, es necesario pasarle en qué puntos queremos una barra y cuál es la altura de dicha barra. Habitualmente queremos que todas las barras estén una junto a la otra, por lo que los valores del primer argumento suelen ser números consecutivos a partir de 1. \n",
    "\n",
    "También podemos seleccionar la anchura de las barras, con la propiedad width"
   ]
  },
  {
   "cell_type": "code",
   "execution_count": null,
   "metadata": {},
   "outputs": [],
   "source": [
    "plt.figure()\n",
    "datos=np.array([1,4,7,2,6,5])\n",
    "x=range(len(datos))\n",
    "plt.bar(x,datos,width=0.4)"
   ]
  },
  {
   "cell_type": "markdown",
   "metadata": {},
   "source": [
    "Con pyplot no podemos dibujar directamente varias series de datos en un único gráfico de barras. Para añadir manualmente una segunda serie de datos a la misma gráfica, tenemos que jugar con los valores del eje x, para no superponer las barras. De esta forma el gráfico puede contener cuantas series de datos queramos pero, si nos fijamos, las etiquetas del eje x están alineadas con la primera serie de datos que hemos dibujado y lo ideal es que se alineen con todo el conjunto. Esto se puede resolver trabajando sobre las etiquetas del eje x, aunque es bastante engorroso"
   ]
  },
  {
   "cell_type": "code",
   "execution_count": null,
   "metadata": {},
   "outputs": [],
   "source": [
    "datos2=np.array([1,2,3,4,5,6])\n",
    "x2=np.array(x)+0.4\n",
    "plt.bar(x2,datos2,width=0.4)"
   ]
  },
  {
   "cell_type": "markdown",
   "metadata": {},
   "source": [
    "En las gráficas de barras podemos añadir líneas de error mediante la propiedad yerr"
   ]
  },
  {
   "cell_type": "code",
   "execution_count": null,
   "metadata": {},
   "outputs": [],
   "source": [
    "plt.figure()\n",
    "datosError=np.array([2,1,4,1,3,5])\n",
    "plt.bar(x,datos,yerr=datosError)"
   ]
  },
  {
   "cell_type": "markdown",
   "metadata": {},
   "source": [
    "Mediante la instrucción bar también podemos generar gráficos de barras acumulados. Para ello, decimos que la segunda serie de datos comienza a partir de los valores de la primera, con la propiedad bottom"
   ]
  },
  {
   "cell_type": "code",
   "execution_count": null,
   "metadata": {},
   "outputs": [],
   "source": [
    "plt.figure()\n",
    "plt.bar(x,datos)\n",
    "plt.bar(x,datos2,bottom=datos)"
   ]
  },
  {
   "cell_type": "markdown",
   "metadata": {},
   "source": [
    "Los gráficos de barras horizontales se construyen de forma análoga, pero utilizando la instrucción barh. En este caso hay que fijarse en que algunas propiedades cambian, como la anchura de las barras, que ahora pasa a ser altura (height) o al hacer acumulados que en lugar de fijar la propiedad bottom fijamos la left"
   ]
  },
  {
   "cell_type": "code",
   "execution_count": null,
   "metadata": {},
   "outputs": [],
   "source": [
    "plt.figure()\n",
    "plt.barh(x,datos, height=0.4)\n",
    "plt.barh(x,datos2,left=datos, height=0.4)"
   ]
  },
  {
   "cell_type": "markdown",
   "metadata": {},
   "source": [
    "### Histogramas"
   ]
  },
  {
   "cell_type": "markdown",
   "metadata": {},
   "source": [
    "Un histograma es un gráfico de barras en el que los valores del eje x representan los valores observados (presentes en la muestra) y en el eje y pintamos la frecuencia con la que cada valor aparece en la muestra.\n",
    "\n",
    "Para dibujarlo utilizamos la función hist a la que le pasamos el total de la muestra de datos."
   ]
  },
  {
   "cell_type": "code",
   "execution_count": null,
   "metadata": {},
   "outputs": [],
   "source": [
    "datos=np.array([2,4,1,1,3,1,5,5,2,1,1,3,2,1,5,5,4,1,5])\n",
    "plt.figure()\n",
    "plt.hist(datos)"
   ]
  },
  {
   "cell_type": "markdown",
   "metadata": {},
   "source": [
    "Por defecto, la función hist muestra el histograma con 10 bins (barras). Si hay menos valores observados, el número de barras es menor, pero si hay más, los valores se agrupan hasta ser mostrados en sólo 10 barras. Este valor puede ser ajustado al número de barras deseadas, mediante la propiedad bins"
   ]
  },
  {
   "cell_type": "code",
   "execution_count": null,
   "metadata": {},
   "outputs": [],
   "source": [
    "datos=np.array([1,2,2,2,2,2,2,3,3,4,4,4,4,5,5,5,6,7,7,7,8,8,8,8,8,9,9,9,10,11,11,12,13,13,13,14,14])\n",
    "plt.figure()\n",
    "plt.hist(datos)"
   ]
  },
  {
   "cell_type": "code",
   "execution_count": null,
   "metadata": {},
   "outputs": [],
   "source": [
    "plt.figure()\n",
    "plt.hist(datos, bins=14)"
   ]
  },
  {
   "cell_type": "markdown",
   "metadata": {},
   "source": [
    " ### Boxplots"
   ]
  },
  {
   "cell_type": "markdown",
   "metadata": {},
   "source": [
    "Para dibujar un boxplot de un conjunto de datos, utilizamos la instrucción boxplot. Por defecto, los whiskers tienen de longitud 1.5 veces la variación intercuartil (Q3-Q1) aunque este valor es configurable mediante la propiedad whis"
   ]
  },
  {
   "cell_type": "code",
   "execution_count": null,
   "metadata": {},
   "outputs": [],
   "source": [
    "muestra_normal = np.random.normal(loc=0.0, scale=1.0, size=10000)\n",
    "plt.figure()\n",
    "plt.boxplot(muestra_normal,whis=2)"
   ]
  },
  {
   "cell_type": "markdown",
   "metadata": {},
   "source": [
    "En una misma gráfica puedo dibujar varios boxplots (cada uno de una muestra de datos) simplemente pasando como primer argumento una lista de conjuntos de datos"
   ]
  },
  {
   "cell_type": "code",
   "execution_count": null,
   "metadata": {},
   "outputs": [],
   "source": [
    "muestra_aleatoria = np.random.random(size=10000)\n",
    "plt.figure()\n",
    "plt.boxplot([muestra_normal,muestra_aleatoria])"
   ]
  },
  {
   "cell_type": "markdown",
   "metadata": {},
   "source": [
    "### Mapas de calor"
   ]
  },
  {
   "cell_type": "markdown",
   "metadata": {},
   "source": [
    "Un mapa de calor podemos entenderlo como un histograma bidimensional donde los valores del eje x y del eje y representan las dimensiones de los posibles valores observados y el color asignado es la frecuencia. Para dibujarlo utilizamos la función hist2d (también podemos cambiar el número de bins, como en el histograma unidimensional). \n",
    "\n",
    "La leyenda en este tipo de gráficos es una barra que indica los valores de los colores. Para incluirla en el gráfico, utiizamos la instrucción colorbar"
   ]
  },
  {
   "cell_type": "code",
   "execution_count": null,
   "metadata": {},
   "outputs": [],
   "source": [
    "plt.figure()\n",
    "plt.hist2d(muestra_normal,muestra_aleatoria,bins=30)\n",
    "plt.colorbar()"
   ]
  },
  {
   "cell_type": "markdown",
   "metadata": {},
   "source": [
    "### Subgráficos"
   ]
  },
  {
   "cell_type": "markdown",
   "metadata": {},
   "source": [
    "Cuando queremos mostrar varios gráficos en una misma figura para poder compararlos o para complementar la información, utilizamos subgráficos. Los argumentos que recibe son el número de filas, el número de columnas y el número de gráfico.\n",
    "\n",
    "Al crear un subgráfico en una figura es como si dibujásemos una cuadrícula y en cada cuadrado (o unión de cuadrados) podemos dibujar un gráfico (axes)"
   ]
  },
  {
   "cell_type": "code",
   "execution_count": null,
   "metadata": {},
   "outputs": [],
   "source": [
    "#Creo una figura con dos gráficos uno al lado del otro, y hago que el primero de ellos sea el gráfico actual (current axes)\n",
    "#IMPORTANTE Los números de los subgráficos empiezan en 1, no en 0\n",
    "plt.figure()\n",
    "plt.subplot(1,2,1)\n",
    "datos1=np.array([1,2,3,4,5])\n",
    "plt.plot(datos1)"
   ]
  },
  {
   "cell_type": "code",
   "execution_count": null,
   "metadata": {},
   "outputs": [],
   "source": [
    "#Complemento la figura con un segundo subgráfico a la derecha\n",
    "plt.subplot(1,2,2)\n",
    "datos2=np.array([5,4,3,2,1])\n",
    "plt.plot(datos2)"
   ]
  },
  {
   "cell_type": "markdown",
   "metadata": {},
   "source": [
    "Llamando a subplot cada vez y trabajando con el último argumento podemos trabajar tantas veces como queramos con cada uno de los subgráficos de la figura. También podemos darle un nombre único a cada uno de estos gráficos, y después trabajar sobre ellos"
   ]
  },
  {
   "cell_type": "code",
   "execution_count": null,
   "metadata": {},
   "outputs": [],
   "source": [
    "graf1=plt.subplot(1,2,1)\n",
    "graf2=plt.subplot(1,2,2)\n",
    "graf1.plot(datos2,'-ro')\n",
    "graf2.plot(datos1,'-ms')"
   ]
  },
  {
   "cell_type": "code",
   "execution_count": null,
   "metadata": {},
   "outputs": [],
   "source": [
    "fig,(graf1,graf2)=plt.subplots(1,2)\n",
    "graf1.plot(datos2,'-ro')\n",
    "graf2.plot(datos1,'-ms')"
   ]
  },
  {
   "cell_type": "markdown",
   "metadata": {},
   "source": [
    "A la hora de trabajar con subgráficos es muy importante tener en cuenta las escalas de cada uno de los gráficos, para no llevarnos a error. Para evitar estos problemas, podemos compartir los ejes (bien eje x, eje y o ambos)"
   ]
  },
  {
   "cell_type": "code",
   "execution_count": null,
   "metadata": {},
   "outputs": [],
   "source": [
    "datos1=np.array([1,2,3,4])\n",
    "datos2=np.array([10,20,30,40])\n",
    "plt.figure()\n",
    "plt.subplot(1,2,1)\n",
    "plt.plot(datos1,'-o')\n",
    "plt.subplot(1,2,2)\n",
    "plt.plot(datos2,'-o')\n",
    "plt.figure()\n",
    "graf1=plt.subplot(1,2,1)\n",
    "graf1.plot(datos1,'-o')\n",
    "plt.subplot(1,2,2, sharey=graf1)\n",
    "plt.plot(datos2,'-o')"
   ]
  },
  {
   "cell_type": "markdown",
   "metadata": {},
   "source": [
    "También podemos darle el nombre a cada uno de los subgráficos al crear el subplot, para no tener que llamar a esta función tantas veces como subgráficos hay. Para ello llamamos a la función subplots (fíjate que está en plural). Podemos indicar si los gráficos comparten ejes a la hora de crear estos subgráficos"
   ]
  },
  {
   "cell_type": "code",
   "execution_count": null,
   "metadata": {},
   "outputs": [],
   "source": [
    "fig,((graf1,graf2,graf3),(graf4,graf5,graf6),(graf7,graf8,graf9))=plt.subplots(3,3,sharex=True,sharey=True)\n",
    "graf1.plot(np.array([1,2,3,4,5]))\n",
    "graf6.plot(np.array([5,4,3,2,1]))"
   ]
  },
  {
   "cell_type": "markdown",
   "metadata": {},
   "source": [
    "Si visualizamos la figura como una malla, no tenemos por qué dibujar un subgráfico en cada casilla de la malla, sino que podemos hacer que algunos gráficos ocupen más de una, si nos interesa para mostrar la información\n",
    "\n",
    "También es importante combinar varios tipos de gráficos para aportar información diferente\n",
    "\n",
    "En este ejemplo vamos a visualizar 1000 puntos que hemos creado. Elgráfico más intuitivo puede ser un gráfico de dispersión (scatter). Las componentes x de los puntos siguen una distribución normal mientras que las componentes y siguen una distribución aleatoria"
   ]
  },
  {
   "cell_type": "code",
   "execution_count": null,
   "metadata": {},
   "outputs": [],
   "source": [
    "x=np.random.normal(loc=0.0,scale=1.0,size=1000)\n",
    "y=np.random.random(size=1000)\n",
    "\n",
    "plt.figure()\n",
    "plt.scatter(x,y)"
   ]
  },
  {
   "cell_type": "markdown",
   "metadata": {},
   "source": [
    "En este gráfico no se aprecian las distribuciones que siguen las dos dimensiones. Sin embargo, si los complementamos con un histograma en cada una de las dimensiones, somos capaces de obtener más información de estos datos. Para ello unimos estos tres gráficos en una sola figura. \n",
    "\n",
    "En lugar de subplots, vamos a utilizar gridspec, para que cada gráfico pueda utilizar más de una casilla de la cuadrícul"
   ]
  },
  {
   "cell_type": "code",
   "execution_count": null,
   "metadata": {},
   "outputs": [],
   "source": [
    "import matplotlib.gridspec as gridspec\n",
    "\n",
    "plt.figure()\n",
    "gspec = gridspec.GridSpec(3, 3)\n",
    "\n",
    "histograma_arriba = plt.subplot(gspec[0, 1:])\n",
    "histograma_lado = plt.subplot(gspec[1:, 0])\n",
    "dispersion = plt.subplot(gspec[1:, 1:])\n",
    "\n",
    "dispersion.scatter(x,y)\n",
    "histograma_arriba.hist(x,bins=100)\n",
    "histograma_lado.hist(y,bins=100)"
   ]
  },
  {
   "cell_type": "markdown",
   "metadata": {},
   "source": [
    "Reajustamos el histograma de la izquierda para que aparezca girado y con la base hacia el gráfico de dispersión"
   ]
  },
  {
   "cell_type": "code",
   "execution_count": null,
   "metadata": {},
   "outputs": [],
   "source": [
    "histograma_lado.clear()\n",
    "histograma_lado.hist(y,bins=100,orientation='horizontal')\n",
    "histograma_lado.invert_xaxis()"
   ]
  },
  {
   "cell_type": "code",
   "execution_count": null,
   "metadata": {},
   "outputs": [],
   "source": []
  },
  {
   "cell_type": "code",
   "execution_count": null,
   "metadata": {},
   "outputs": [],
   "source": []
  }
 ],
 "metadata": {
  "kernelspec": {
   "display_name": "Python [conda env:py37machlearn] *",
   "language": "python",
   "name": "conda-env-py37machlearn-py"
  },
  "language_info": {
   "codemirror_mode": {
    "name": "ipython",
    "version": 3
   },
   "file_extension": ".py",
   "mimetype": "text/x-python",
   "name": "python",
   "nbconvert_exporter": "python",
   "pygments_lexer": "ipython3",
   "version": "3.7.4"
  }
 },
 "nbformat": 4,
 "nbformat_minor": 2
}
