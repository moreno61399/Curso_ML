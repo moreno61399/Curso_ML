{
 "cells": [
  {
   "cell_type": "code",
   "execution_count": null,
   "metadata": {},
   "outputs": [],
   "source": [
    "import pandas as pd\n",
    "import numpy as np"
   ]
  },
  {
   "cell_type": "markdown",
   "metadata": {},
   "source": [
    "### Creación de Series y DataFrame"
   ]
  },
  {
   "cell_type": "code",
   "execution_count": null,
   "metadata": {},
   "outputs": [],
   "source": [
    "#Sin especificar índice\n",
    "serie = pd.Series([1, -4, 5, 7])\n",
    "serie"
   ]
  },
  {
   "cell_type": "code",
   "execution_count": null,
   "metadata": {},
   "outputs": [],
   "source": [
    "#Especificando un índice\n",
    "serie = pd.Series([4, -5, 7, 2], index=['a', 'b', 'c', 'd'])\n",
    "print (serie)"
   ]
  },
  {
   "cell_type": "code",
   "execution_count": null,
   "metadata": {},
   "outputs": [],
   "source": [
    "print (serie['a'])"
   ]
  },
  {
   "cell_type": "code",
   "execution_count": null,
   "metadata": {},
   "outputs": [],
   "source": [
    "print (serie['d'])"
   ]
  },
  {
   "cell_type": "code",
   "execution_count": null,
   "metadata": {},
   "outputs": [],
   "source": [
    "print (serie[['a', 'd']])"
   ]
  },
  {
   "cell_type": "code",
   "execution_count": null,
   "metadata": {},
   "outputs": [],
   "source": [
    "#A partir de diccionarios\n",
    "d = {'Pamplona':195853, 'Tudela': 35388, 'Estella':13702, 'Alsasua':7490}\n",
    "serie = pd.Series(d)\n",
    "serie.name = 'Poblacion'\n",
    "print (serie)"
   ]
  },
  {
   "cell_type": "code",
   "execution_count": null,
   "metadata": {},
   "outputs": [],
   "source": [
    "#Algunas operaciones \n",
    "print (serie>10000)"
   ]
  },
  {
   "cell_type": "code",
   "execution_count": null,
   "metadata": {},
   "outputs": [],
   "source": [
    "print (serie[serie>10000])"
   ]
  },
  {
   "cell_type": "code",
   "execution_count": null,
   "metadata": {},
   "outputs": [],
   "source": [
    "print ('Pamplona' in serie)\n",
    "print ('Barañain' in serie)"
   ]
  },
  {
   "cell_type": "code",
   "execution_count": null,
   "metadata": {},
   "outputs": [],
   "source": [
    "#DataFrame a partir de diccionario\n",
    "d = {'localidad':['Pamplona', 'Pamplona', 'Pamplona', 'Tudela', 'Estella', 'Alsasua'],\n",
    "    'poblacion':[183964, 196166, 195853, 35388, 13702, 7490],\n",
    "    'año': [2001, 2014, 2015, 2015, 2015, 2015]}\n",
    "data = pd.DataFrame(d)\n",
    "print (data)"
   ]
  },
  {
   "cell_type": "code",
   "execution_count": null,
   "metadata": {},
   "outputs": [],
   "source": [
    "#Reordenando columnas\n",
    "data = pd.DataFrame(d, columns = ['localidad', 'poblacion', 'año', 'densidad'])\n",
    "print (data)"
   ]
  },
  {
   "cell_type": "code",
   "execution_count": null,
   "metadata": {},
   "outputs": [],
   "source": [
    "#Acceso a columnas\n",
    "print (data['localidad'])\n",
    "print (type(data['localidad']))"
   ]
  },
  {
   "cell_type": "code",
   "execution_count": null,
   "metadata": {},
   "outputs": [],
   "source": [
    "print (data.poblacion)\n",
    "print (type(data.poblacion)) #Cada una de las columnas es una serie!"
   ]
  },
  {
   "cell_type": "markdown",
   "metadata": {},
   "source": [
    "### Indexación: índices y columnas"
   ]
  },
  {
   "cell_type": "code",
   "execution_count": null,
   "metadata": {},
   "outputs": [],
   "source": [
    "#Acceso a colección de índices y columnas\n",
    "print (data.index)\n",
    "data.index[0] = 6 #Esto nos devuelve un fallo. El index no lo podemos modificar"
   ]
  },
  {
   "cell_type": "code",
   "execution_count": null,
   "metadata": {},
   "outputs": [],
   "source": [
    "data = pd.DataFrame(d, columns = ['localidad', 'poblacion', 'año', 'densidad'], \n",
    "                     index=['a', 'b', 'c', 'd', 'e', 'f'])\n",
    "print (data.index)"
   ]
  },
  {
   "cell_type": "code",
   "execution_count": null,
   "metadata": {},
   "outputs": [],
   "source": [
    "#Reindexación (reordenr las filas)\n",
    "data = pd.DataFrame(d, columns = ['localidad', 'poblacion', 'año', 'densidad'])\n",
    "print (data)\n",
    "data = data.reindex([3, 4, 5, 1, 2, 3, 6])\n",
    "print (data)"
   ]
  },
  {
   "cell_type": "code",
   "execution_count": null,
   "metadata": {},
   "outputs": [],
   "source": [
    "#Acceso a la colección de columnas\n",
    "columnas = data.columns\n",
    "print (columnas)\n",
    "columnas[0] = 'poblacion' #Esto nos da fallo\n"
   ]
  },
  {
   "cell_type": "code",
   "execution_count": null,
   "metadata": {},
   "outputs": [],
   "source": [
    "for i in columnas:\n",
    "    print (data[i])\n"
   ]
  },
  {
   "cell_type": "markdown",
   "metadata": {},
   "source": [
    "### Indexación: iteración sobre elementos"
   ]
  },
  {
   "cell_type": "code",
   "execution_count": null,
   "metadata": {},
   "outputs": [],
   "source": [
    "for x,i in data.iteritems():\n",
    "    print (x,i)"
   ]
  },
  {
   "cell_type": "code",
   "execution_count": null,
   "metadata": {},
   "outputs": [],
   "source": [
    "print (serie)\n",
    "for index,value in serie.iteritems():\n",
    "    print (\"{}->{}\".format(index,value))\n",
    "print (data)\n",
    "for row,value in data.iterrows():\n",
    "    print (\"{}->{}\".format(row,value))\n",
    "for row,value in data.iterrows():\n",
    "    for index,value2 in value.iteritems():\n",
    "        print (\"Índice: {}->Columna:{}->Valor:{}\".format(row,index,value2))\n",
    "for column,value in data.iteritems():\n",
    "    print (\"{}->{}\".format(column,value))\n",
    "for column,value in data.iteritems():\n",
    "    for index,value2 in value.iteritems():\n",
    "        print (\"Columna: {}->Índice:{}>-Valor:{}\".format(column,index,value2))"
   ]
  },
  {
   "cell_type": "markdown",
   "metadata": {},
   "source": [
    "### Indexación: acceso a elementos"
   ]
  },
  {
   "cell_type": "code",
   "execution_count": null,
   "metadata": {},
   "outputs": [],
   "source": [
    "s = pd.Series([0, 1, 2, 3], index=['a', 'b', 'c', 'd'])\n",
    "print (s)\n"
   ]
  },
  {
   "cell_type": "code",
   "execution_count": null,
   "metadata": {},
   "outputs": [],
   "source": [
    "print (s['b'])\n",
    "print (s[1])\n",
    "print (s[0:3])\n",
    "print (s['a':'d'])"
   ]
  },
  {
   "cell_type": "code",
   "execution_count": null,
   "metadata": {},
   "outputs": [],
   "source": [
    "print(data)\n",
    "print (data['localidad'])\n",
    "print (data[['localidad', 'año']])"
   ]
  },
  {
   "cell_type": "code",
   "execution_count": null,
   "metadata": {},
   "outputs": [],
   "source": [
    "#Lo mismo que el anterior\n",
    "(data)\n",
    "print (data.localidad)"
   ]
  },
  {
   "cell_type": "code",
   "execution_count": null,
   "metadata": {},
   "outputs": [],
   "source": [
    "print(data[1]) #Esto da fallo"
   ]
  },
  {
   "cell_type": "code",
   "execution_count": null,
   "metadata": {},
   "outputs": [],
   "source": [
    "print (data[0:1])\n",
    "print (data[2:])"
   ]
  },
  {
   "cell_type": "code",
   "execution_count": null,
   "metadata": {},
   "outputs": [],
   "source": []
  },
  {
   "cell_type": "code",
   "execution_count": null,
   "metadata": {},
   "outputs": [],
   "source": [
    "#Indexación mediante loc: etiquetas\n",
    "d = {'localidad':['Pamplona', 'Pamplona', 'Pamplona', 'Tudela', 'Estella', 'Alsasua'],\n",
    "    'poblacion':[183964, 196166, 195853, 35388, 13702, 7490],\n",
    "    'año': [2001, 2014, 2015, 2015, 2015, 2015]}\n",
    "data = pd.DataFrame(d, columns = ['localidad', 'poblacion', 'año', 'densidad'], index=[1, 2, 3, 4, 5, 6])\n",
    "print (data)\n",
    "print (data.loc[4,'localidad'])\n",
    "print (data.loc[1,['localidad', 'poblacion']])\n",
    "print (data.loc[1:3,'localidad':'año'])\n"
   ]
  },
  {
   "cell_type": "code",
   "execution_count": null,
   "metadata": {},
   "outputs": [],
   "source": [
    "data.loc[0,'localidad'] #Da fallo"
   ]
  },
  {
   "cell_type": "code",
   "execution_count": null,
   "metadata": {},
   "outputs": [],
   "source": [
    "#Indexación mediante iloc: números\n",
    "d = {'localidad':['Pamplona', 'Pamplona', 'Pamplona', 'Tudela', 'Estella', 'Alsasua'],\n",
    "    'poblacion':[183964, 196166, 195853, 35388, 13702, 7490],\n",
    "    'año': [2001, 2014, 2015, 2015, 2015, 2015]}\n",
    "data = pd.DataFrame(d, columns = ['localidad', 'poblacion', 'año', 'densidad'], index=[1, 2, 3, 4, 5, 6])\n",
    "print (data)\n",
    "print (data.iloc[0,2])\n",
    "print (data.iloc[0,[0, 1]])\n",
    "print (data.iloc[0:2,0:3])"
   ]
  },
  {
   "cell_type": "markdown",
   "metadata": {},
   "source": [
    "### Operaciones básicas"
   ]
  },
  {
   "cell_type": "code",
   "execution_count": null,
   "metadata": {},
   "outputs": [],
   "source": [
    "#Sumando Series\n",
    "s1 = pd.Series([7.3, -2.5, 3.4, 1.5], index = ['a', 'c', 'd', 'e'])\n",
    "s2 = pd.Series([-2.1, 3.6, -1.5, 4, 3.1], index = ['a', 'b', 'c', 'd', 'e'])\n",
    "print (s1+s2)\n",
    "print (s1.add(s2, fill_value=0))"
   ]
  },
  {
   "cell_type": "code",
   "execution_count": null,
   "metadata": {},
   "outputs": [],
   "source": [
    "#Sumando DataFrames\n",
    "df1 = pd.DataFrame(np.arange(12).reshape(3,4) , columns=['a', 'b', 'c', 'd'])\n",
    "print (df1)\n",
    "df2 = pd.DataFrame(np.arange(20).reshape(4,5) , columns=list('abcde'))\n",
    "print (df2)\n",
    "print (df1+df2)\n",
    "print (df1.add(df2, fill_value=0))\n"
   ]
  },
  {
   "cell_type": "code",
   "execution_count": null,
   "metadata": {},
   "outputs": [],
   "source": [
    "#Propagación\n",
    "df1 = pd.DataFrame(np.arange(12).reshape(3,4) , columns=['a', 'b', 'c', 'd'])\n",
    "serie = df1.iloc[0]\n",
    "print (df1)\n",
    "print (serie)\n",
    "print (df1-serie)"
   ]
  },
  {
   "cell_type": "code",
   "execution_count": null,
   "metadata": {},
   "outputs": [],
   "source": [
    "#Aplicación de funciones\n",
    "frame = pd.DataFrame(np.random.randn(4,3), columns=list('abc'), index = list('wxyz'))\n",
    "print (frame)\n",
    "print (np.abs(frame))\n",
    "print (frame**2)"
   ]
  },
  {
   "cell_type": "code",
   "execution_count": null,
   "metadata": {},
   "outputs": [],
   "source": [
    "#Aplicación de funciones\n",
    "print (frame)\n",
    "print (frame.apply(np.min))\n",
    "print (frame.apply(np.sum))\n",
    "print (frame.apply(lambda x: (x-x.min())/(x.max()-x.min())))"
   ]
  },
  {
   "cell_type": "code",
   "execution_count": null,
   "metadata": {},
   "outputs": [],
   "source": [
    "print (frame)\n",
    "print (frame.applymap(lambda x:int(x)*10%4))"
   ]
  },
  {
   "cell_type": "code",
   "execution_count": null,
   "metadata": {},
   "outputs": [],
   "source": [
    "print (frame)\n",
    "print (frame.sum())\n",
    "print (frame.sum(axis=1))"
   ]
  },
  {
   "cell_type": "code",
   "execution_count": null,
   "metadata": {},
   "outputs": [],
   "source": [
    "print (frame)\n",
    "print (frame.sort_values(by='a'))\n",
    "print (frame.sort_values(by=['b','a']))"
   ]
  },
  {
   "cell_type": "markdown",
   "metadata": {},
   "source": [
    "### Unión de datos"
   ]
  },
  {
   "cell_type": "code",
   "execution_count": null,
   "metadata": {},
   "outputs": [],
   "source": [
    "df1 = pd.DataFrame({'clave': list('bbacaab'), 'd1':range(7)})\n",
    "df2 = pd.DataFrame({'clave': list('abd'), 'd2': range(3)})\n",
    "print (df1)\n",
    "print (df2)\n",
    "print (pd.merge(df1,df2))\n",
    "print (pd.merge(df1,df2, on='clave'))"
   ]
  },
  {
   "cell_type": "code",
   "execution_count": null,
   "metadata": {},
   "outputs": [],
   "source": [
    "print (pd.merge(df1,df2))\n",
    "print (pd.merge(df1,df2,how='left'))\n",
    "print (pd.merge(df1,df2,how='right'))\n",
    "print (pd.merge(df1,df2,how='outer'))"
   ]
  },
  {
   "cell_type": "markdown",
   "metadata": {},
   "source": [
    "### Agrupamiento mediante groupby"
   ]
  },
  {
   "cell_type": "code",
   "execution_count": null,
   "metadata": {},
   "outputs": [],
   "source": [
    "df = pd.DataFrame({'clave1':list('aabba'),\n",
    "                  'clave2':['uno', 'dos', 'uno', 'dos', 'uno'],\n",
    "                  'd1': np.random.randn(5),\n",
    "                  'd2': np.random.randn(5)})\n",
    "print (df)\n",
    "obj = df.groupby('clave1')\n",
    "print (obj.mean())\n",
    "print (obj.mean().d1)\n",
    "print (obj.mean().d2)\n",
    "print (obj.sum())\n",
    "print (obj.min())\n",
    "print (obj.max())\n",
    "print (obj.first())\n",
    "print (obj.last())"
   ]
  },
  {
   "cell_type": "code",
   "execution_count": null,
   "metadata": {},
   "outputs": [],
   "source": [
    "#Aplicación de funciones de agregación\n",
    "print (obj.agg(lambda x: 0.5*min(x)+0.5*max(x)))\n",
    "d = {'d1':['mean', 'prod'],\n",
    "    'd2': ['min', 'max']}\n",
    "print (obj.agg(d))"
   ]
  },
  {
   "cell_type": "markdown",
   "metadata": {},
   "source": [
    "### PivotTables"
   ]
  },
  {
   "cell_type": "code",
   "execution_count": null,
   "metadata": {},
   "outputs": [],
   "source": [
    "df = pd.DataFrame({'Nombre':list('abcdefghij'), \n",
    "                      'Origen':['Alemania', 'Alemania','Alemania', 'Francia', 'Francia','Francia','Italia','Italia','Italia','Italia'],\n",
    "                      'Num1':[10, 14, 12, 14, 16, 18, 4, 8, 6, 10],\n",
    "                       'Num2':[100, 123, 125, 138, 154, 195, 42, 76, 65, 101],\n",
    "                      'Sexo':['m', 'f', 'f', 'f', 'm','m','m','m','f','f']})\n",
    "nueva1 = df.pivot_table(values='Num1', index='Origen', columns='Sexo', aggfunc='mean')\n",
    "nueva2 = df.pivot_table(values='Num2', index='Origen', columns='Sexo', aggfunc='mean')\n",
    "print(df)\n",
    "print (nueva1)\n",
    "print (nueva2)"
   ]
  },
  {
   "cell_type": "code",
   "execution_count": null,
   "metadata": {},
   "outputs": [],
   "source": []
  }
 ],
 "metadata": {
  "anaconda-cloud": {},
  "kernelspec": {
   "display_name": "Python [conda env:py37machlearn]",
   "language": "python",
   "name": "conda-env-py37machlearn-py"
  },
  "language_info": {
   "codemirror_mode": {
    "name": "ipython",
    "version": 3
   },
   "file_extension": ".py",
   "mimetype": "text/x-python",
   "name": "python",
   "nbconvert_exporter": "python",
   "pygments_lexer": "ipython3",
   "version": "3.7.4"
  }
 },
 "nbformat": 4,
 "nbformat_minor": 1
}
