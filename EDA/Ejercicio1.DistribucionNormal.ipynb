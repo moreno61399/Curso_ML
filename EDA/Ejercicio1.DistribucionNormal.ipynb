{
 "cells": [
  {
   "cell_type": "markdown",
   "metadata": {},
   "source": [
    "### Ejercicio 1. Distribución normal\n",
    "En este ejercicio vamos a combinar los subgráficos y los histogramas para comprobar como funciona el obtener datos de una distribución normal. El objetivo es comprobar que cuando extraemos muy pocos datos de este tipo de distribución y los visualizamos, su gráfica no tiene por qué representar fielmente la distribución. Sin embargo, conforme extraemos más datos, la forma se va pareciendo cada vez más\n",
    "Además, también queremos comprobar cómo el número de barras del histograma influye en la \"suavidad\" de la curva normal dibujada"
   ]
  },
  {
   "cell_type": "code",
   "execution_count": null,
   "metadata": {},
   "outputs": [],
   "source": [
    "import numpy as np\n",
    "%matplotlib notebook\n",
    "import matplotlib as mpl\n",
    "import matplotlib.pyplot as plt"
   ]
  },
  {
   "cell_type": "markdown",
   "metadata": {},
   "source": [
    "Para comenzar, crea tres arrays de numpy, cada uno de ellos obtenidos aleatoriamente de una función normal centrada en el 0 y con desviación estándar de 1. El primero tendrá 10 datos, el segundo 1000 y el tercero 10000.\n",
    "NOTA Puedes utilizar la función np.random.normal()"
   ]
  },
  {
   "cell_type": "code",
   "execution_count": null,
   "metadata": {},
   "outputs": [],
   "source": []
  },
  {
   "cell_type": "markdown",
   "metadata": {},
   "source": [
    "Ahora creamos un conjunto de 6 subgráficos organizados en 2 filas de 3 columnas cada una. Asigna un nombre a cada uno de ellos y haz que compartan solo el eje de las x"
   ]
  },
  {
   "cell_type": "code",
   "execution_count": null,
   "metadata": {},
   "outputs": [],
   "source": []
  },
  {
   "cell_type": "markdown",
   "metadata": {},
   "source": [
    "Ahora dibuja en cada uno de los tres primeros subgráficos el histograma de los tres conjuntos de datos que has creado anteriormente"
   ]
  },
  {
   "cell_type": "code",
   "execution_count": null,
   "metadata": {},
   "outputs": [],
   "source": []
  },
  {
   "cell_type": "markdown",
   "metadata": {},
   "source": [
    "En la segunda fila dibuja el histograma del tercer conjunto de datos en cada subgráfico. La diferencia será el número de barras de cada uno de ellos. En el primer subgráfico el histograma debe tener 10 barras, en el segundo 100 y en el tercero 1000.\n",
    "\n",
    "Observa que ajustar el número de barras es muy importante a la hora de mostrar la información. Aunque el conjunto de datos sea exactamente el mismo, si agrupamos los datos en pocas barras el concepto de distribución normal puede quedar basto. Si por el contrario utilizamos demasiadas barras, puede que valores excepcionalmente anómalos modifiquen la gráfica."
   ]
  },
  {
   "cell_type": "code",
   "execution_count": null,
   "metadata": {},
   "outputs": [],
   "source": []
  },
  {
   "cell_type": "markdown",
   "metadata": {},
   "source": [
    "Por último, vamos a \"embellecer un poco la gráfica\". La idea es que la gráfica quede lo más limpia posible, sin eliminar información que ayude a entenderla.\n",
    "\n",
    "En este caso, lo que nos interesa es la forma de cada una de las gráficas dibujadas, y no tanto su escala (cuántos datos de cada valor tenemos). Por ello, debes eliminar los valores mostrados en los ejes y. Además, debes añadir un título a cada uno de los subgráficos indicando la infomación mostrada. Finalmente añade un título general a toda la figura.\n",
    "\n",
    "NOTA Para este último paso utiliza la instrucción suptitle"
   ]
  },
  {
   "cell_type": "code",
   "execution_count": null,
   "metadata": {},
   "outputs": [],
   "source": []
  }
 ],
 "metadata": {
  "anaconda-cloud": {},
  "kernelspec": {
   "display_name": "Python [conda env:py37machlearn] *",
   "language": "python",
   "name": "conda-env-py37machlearn-py"
  },
  "language_info": {
   "codemirror_mode": {
    "name": "ipython",
    "version": 3
   },
   "file_extension": ".py",
   "mimetype": "text/x-python",
   "name": "python",
   "nbconvert_exporter": "python",
   "pygments_lexer": "ipython3",
   "version": "3.7.4"
  }
 },
 "nbformat": 4,
 "nbformat_minor": 2
}
