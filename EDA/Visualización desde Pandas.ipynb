{
 "cells": [
  {
   "cell_type": "markdown",
   "metadata": {},
   "source": [
    "## Visualización desde Pandas"
   ]
  },
  {
   "cell_type": "markdown",
   "metadata": {},
   "source": [
    "Si la información que queremos mostrar está almacenada en pandas, podemos analizar un análisis exploratorio de datos de manera sencilla"
   ]
  },
  {
   "cell_type": "code",
   "execution_count": null,
   "metadata": {},
   "outputs": [],
   "source": [
    "import pandas as pd\n",
    "import numpy as np\n",
    "\n",
    "#Creamos un dataFrame\n",
    "np.random.seed(123)\n",
    "\n",
    "df = pd.DataFrame({'A': np.random.randn(300).cumsum(0), \n",
    "                   'B': np.random.randn(300).cumsum(0) + 20,\n",
    "                   'C': np.random.randn(300).cumsum(0) - 20}, \n",
    "                  index=np.arange(300))\n",
    "df.head()"
   ]
  },
  {
   "cell_type": "markdown",
   "metadata": {},
   "source": [
    "Si la información que queremos mostrar está almacenada en pandas, podemos simplificar una parte de la creación de los gráficos. No tenemos que llamar a las funciones de dibujar desde plt.____ sino que podemos hacerlo directamente desde el dataFrame. En este caso cada serie del dataFrame se considera una serie de datos, y todas ellas se dibujan directamente en la misma gráfica"
   ]
  },
  {
   "cell_type": "code",
   "execution_count": null,
   "metadata": {},
   "outputs": [],
   "source": [
    "%matplotlib notebook\n",
    "\n",
    "df.plot()"
   ]
  },
  {
   "cell_type": "markdown",
   "metadata": {},
   "source": [
    "Mediante la función plot podemos dibujar todos los tipos de gráficas disponibles. Para indicar cuál queremos utilizar podemos hacerlo con la propiedad kind o llamándolo como función. Por ejemplo df.plot('A','B',kind=scatter) es lo mismo que df.plot.scatter('A','B'). Los tipos de gráficos que tenemos disponibles son\n",
    "* 'line' : gráfico de líneas (por defecto)\n",
    "* 'bar' : gráfico de barras vertical\n",
    "* 'barh' : gráfico de barras horizontal\n",
    "* 'hist' : histograma\n",
    "* 'box' : boxplot\n",
    "* 'kde' : gráfico Kernel Density Estimation\n",
    "* 'area' : gráfico de área\n",
    "* 'pie' : gráfico circular\n",
    "* 'scatter' : gráfico de dispersión\n",
    "* 'hexbin' : histograma hexagonal"
   ]
  },
  {
   "cell_type": "markdown",
   "metadata": {},
   "source": [
    "#### Gráficos de líneas"
   ]
  },
  {
   "cell_type": "code",
   "execution_count": null,
   "metadata": {},
   "outputs": [],
   "source": [
    "df.plot(color=['red','magenta','cyan'],marker='.',markevery=50,markersize=20)"
   ]
  },
  {
   "cell_type": "markdown",
   "metadata": {},
   "source": [
    "Podemos dibujar los datos de cada una de las columnas del dataframe en un subgráfico distinto"
   ]
  },
  {
   "cell_type": "code",
   "execution_count": null,
   "metadata": {},
   "outputs": [],
   "source": [
    "df.plot(subplots=True)"
   ]
  },
  {
   "cell_type": "markdown",
   "metadata": {},
   "source": [
    "Estos subgráficos se pueden colocar en cualquier otra disposición, y se pueden compartir los ejes si así lo queremos"
   ]
  },
  {
   "cell_type": "code",
   "execution_count": null,
   "metadata": {},
   "outputs": [],
   "source": [
    "df.plot(subplots=True,layout=[2,2],sharey=True,sharex=False)"
   ]
  },
  {
   "cell_type": "markdown",
   "metadata": {},
   "source": [
    "#### Gráficos de áreas"
   ]
  },
  {
   "cell_type": "markdown",
   "metadata": {},
   "source": [
    "La propiedad stacked por defecto es verdadera y de esta forma solo se pueden mostrar series que sean \n",
    "enteras positivas o negativas. Si tenemos de ambos signos, hay que ponerlo a False. Al ponerlo a falso, la transparencia\n",
    "se ajusta automáticamente a 0.5"
   ]
  },
  {
   "cell_type": "code",
   "execution_count": null,
   "metadata": {},
   "outputs": [],
   "source": [
    "df.plot(kind='area')"
   ]
  },
  {
   "cell_type": "code",
   "execution_count": null,
   "metadata": {},
   "outputs": [],
   "source": [
    "df.plot(kind='area', stacked=False)"
   ]
  },
  {
   "cell_type": "markdown",
   "metadata": {},
   "source": [
    "#### Gráfico de barras"
   ]
  },
  {
   "cell_type": "code",
   "execution_count": null,
   "metadata": {},
   "outputs": [],
   "source": [
    "df.plot.bar()"
   ]
  },
  {
   "cell_type": "markdown",
   "metadata": {},
   "source": [
    "Como las etiquetas del eje x son muchas, no se llegan a ver. Podemos cambiar estos valores mediante xticks (en qué punto hay una etiqueta) y xticklabels (qué valor tiene la etiqueta)."
   ]
  },
  {
   "cell_type": "code",
   "execution_count": null,
   "metadata": {},
   "outputs": [],
   "source": [
    "import matplotlib.pyplot as plt\n",
    "ax = plt.gca()\n",
    "\n",
    "max_value = df.index.max()\n",
    "min_value = df.index.min()\n",
    "number_of_steps = 15\n",
    "l = np.arange(min_value, max_value+1, number_of_steps)\n",
    "\n",
    "ax.set(xticks=l, xticklabels=l);"
   ]
  },
  {
   "cell_type": "markdown",
   "metadata": {},
   "source": [
    "Mediante la propiedad stacked podemos convertir el gráfico de barras en un gráfico de barras apiladas"
   ]
  },
  {
   "cell_type": "code",
   "execution_count": null,
   "metadata": {},
   "outputs": [],
   "source": [
    "df.plot.bar(stacked=True)\n",
    "\n",
    "ax = plt.gca()\n",
    "\n",
    "max_value = df.index.max()\n",
    "min_value = df.index.min()\n",
    "number_of_steps = 25\n",
    "l = np.arange(min_value, max_value+1, number_of_steps)\n",
    "\n",
    "ax.set(xticks=l, xticklabels=l)"
   ]
  },
  {
   "cell_type": "markdown",
   "metadata": {},
   "source": [
    "#### Histograma"
   ]
  },
  {
   "cell_type": "markdown",
   "metadata": {},
   "source": [
    "Podemos mostrar el histograma de una de las columnas del dataframe"
   ]
  },
  {
   "cell_type": "code",
   "execution_count": null,
   "metadata": {},
   "outputs": [],
   "source": [
    "plt.figure()\n",
    "df['A'].plot.hist(bins=20)"
   ]
  },
  {
   "cell_type": "markdown",
   "metadata": {},
   "source": [
    "También podemos mostrar el histograma del dataframe entero. Si los colores son completamente opacos, no es posible los tres histogramas."
   ]
  },
  {
   "cell_type": "code",
   "execution_count": null,
   "metadata": {},
   "outputs": [],
   "source": [
    "df.plot.hist(bins=20)\n",
    "#df.plot.hist(bins=20, alpha=0.5)"
   ]
  },
  {
   "cell_type": "markdown",
   "metadata": {},
   "source": [
    "También podemos girar el histograma mediante la propiedad orientation."
   ]
  },
  {
   "cell_type": "code",
   "execution_count": null,
   "metadata": {},
   "outputs": [],
   "source": [
    "df.plot.hist(bins=20, orientation='horizontal')"
   ]
  },
  {
   "cell_type": "markdown",
   "metadata": {},
   "source": [
    "Hay veces en las que nos interesa complementar el histograma con un estimador de kernel de densidad. Lo podemos pintar mediante el tipo de gráfico kde"
   ]
  },
  {
   "cell_type": "code",
   "execution_count": null,
   "metadata": {},
   "outputs": [],
   "source": [
    "plt.figure()\n",
    "parte1=np.random.normal(0,1,size=200)\n",
    "parte2=np.random.normal(10,2,size=200)\n",
    "valores=pd.Series(np.concatenate([parte1,parte2]))\n",
    "valores.plot.hist(bins=25,alpha=0.25,normed=True)\n",
    "valores.plot.kde(style='b--')"
   ]
  },
  {
   "cell_type": "markdown",
   "metadata": {},
   "source": [
    "#### Gráfico de dispersión"
   ]
  },
  {
   "cell_type": "markdown",
   "metadata": {},
   "source": [
    "En este tipo de gráficos solo podemos pintar dos series de datos, así que podemos enfrentar las diferentes series del dataframe de dos en dos"
   ]
  },
  {
   "cell_type": "code",
   "execution_count": null,
   "metadata": {},
   "outputs": [],
   "source": [
    "df.plot.scatter(x='A', y='B');"
   ]
  },
  {
   "cell_type": "markdown",
   "metadata": {},
   "source": [
    "Si queremos añadir una tercera dimensión, podemos hacerlo a través del tamaño o el color de los puntos que dibujamos"
   ]
  },
  {
   "cell_type": "code",
   "execution_count": null,
   "metadata": {},
   "outputs": [],
   "source": [
    "#plt.figure()\n",
    "df.plot.scatter(x='A', y='B', c='C');\n",
    "#plt.figure\n",
    "df.plot.scatter(x='A', y='C', s=df['B']*2)"
   ]
  },
  {
   "cell_type": "markdown",
   "metadata": {},
   "source": [
    "#### Histograma hexagonal"
   ]
  },
  {
   "cell_type": "code",
   "execution_count": null,
   "metadata": {},
   "outputs": [],
   "source": [
    "df.plot.hexbin(x='A',y='B',gridsize=20,C='C',reduce_C_function=np.mean)"
   ]
  },
  {
   "cell_type": "markdown",
   "metadata": {},
   "source": [
    "#### Boxplot"
   ]
  },
  {
   "cell_type": "code",
   "execution_count": null,
   "metadata": {},
   "outputs": [],
   "source": [
    "df.plot.box()"
   ]
  },
  {
   "cell_type": "code",
   "execution_count": null,
   "metadata": {},
   "outputs": [],
   "source": []
  }
 ],
 "metadata": {
  "kernelspec": {
   "display_name": "Python [conda env:py37machlearn] *",
   "language": "python",
   "name": "conda-env-py37machlearn-py"
  },
  "language_info": {
   "codemirror_mode": {
    "name": "ipython",
    "version": 3
   },
   "file_extension": ".py",
   "mimetype": "text/x-python",
   "name": "python",
   "nbconvert_exporter": "python",
   "pygments_lexer": "ipython3",
   "version": "3.7.4"
  }
 },
 "nbformat": 4,
 "nbformat_minor": 2
}
