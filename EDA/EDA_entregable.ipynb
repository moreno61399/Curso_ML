{
 "cells": [
  {
   "cell_type": "markdown",
   "metadata": {},
   "source": [
    "## Análisis Exploratorio de Datos. Ejercicio entregable"
   ]
  },
  {
   "cell_type": "code",
   "execution_count": null,
   "metadata": {
    "collapsed": true
   },
   "outputs": [],
   "source": [
    "import matplotlib.pyplot as plt\n",
    "import pandas as pd\n",
    "import numpy as np\n",
    "%matplotlib inline"
   ]
  },
  {
   "cell_type": "markdown",
   "metadata": {},
   "source": [
    "En este ejercicio vas a trabajar con el dataset ecoli.data. Por simplicidad, ya está dividido en dos archivos: uno con los datos de entrenamiento y otro con los datos de test. Los atributos de cada uno de los datos son los siguientes:\n",
    "  1.  Sequence Name: Accession number for the SWISS-PROT database\n",
    "  2.  mcg: McGeoch's method for signal sequence recognition.\n",
    "  3.  gvh: von Heijne's method for signal sequence recognition.\n",
    "  4.  lip: von Heijne's Signal Peptidase II consensus sequence score. Binary attribute.\n",
    "  5.  chg: Presence of charge on N-terminus of predicted lipoproteins.\n",
    "\t   Binary attribute.\n",
    "  6.  aac: score of discriminant analysis of the amino acid content of\n",
    "\t   outer membrane and periplasmic proteins.\n",
    "  7. alm1: score of the ALOM membrane spanning region prediction program.\n",
    "  8. alm2: score of ALOM program after excluding putative cleavable signal\n",
    "\t   regions from the sequence.\n",
    "\n",
    "En cuanto a las clases, cada dato pertenece a una de las siguientes clases:\n",
    "* cp  (cytoplasm)                                    143\n",
    "* im  (inner membrane without signal sequence)        77               \n",
    "* pp  (perisplasm)                                    52\n",
    "* imU (inner membrane, uncleavable signal sequence)   35"
   ]
  },
  {
   "cell_type": "markdown",
   "metadata": {},
   "source": [
    "Para el análisis exploratorio de datos trabajamos con los datos de entrenamiento. Comienza leyendo el dataset, viendo qué datos contiene, de qué tipo son y haciendo un primer análisis de manera numérica"
   ]
  },
  {
   "cell_type": "code",
   "execution_count": null,
   "metadata": {},
   "outputs": [],
   "source": [
    "\n"
   ]
  },
  {
   "cell_type": "markdown",
   "metadata": {},
   "source": [
    "¿Existe alguna columna que no aporte información? Si es así, elimina o modifica los datos que consideres oportunos para preparar tu dataset"
   ]
  },
  {
   "cell_type": "code",
   "execution_count": null,
   "metadata": {},
   "outputs": [],
   "source": []
  },
  {
   "cell_type": "markdown",
   "metadata": {},
   "source": [
    "Pasamos ahora al análisis exploratorio de datos visual. En primer lugar muestra las distribuciones de los datos en cada una de las variables. Recuerda que en este dataset de entrenamiento sabemos a qué clase pertenece cada dato, por lo que las gráficas deben utilizar un color diferente para los datos de cada una de las clases\n",
    "\n",
    "Además, para simplificar la visualización, cada gráfica debe llevar por título el nombre del atributo que se está mostrando"
   ]
  },
  {
   "cell_type": "code",
   "execution_count": null,
   "metadata": {},
   "outputs": [],
   "source": []
  },
  {
   "cell_type": "markdown",
   "metadata": {},
   "source": [
    "De entre todas las variables, selecciona las 3 que visualmente te parece que van a dar más información a la hora de clasificar nuevos datos. Analízalas visualmente de dos en dos. Para cada una de las tres gráficas a dibujar, pon en el título qué atributos estás dibujando"
   ]
  },
  {
   "cell_type": "code",
   "execution_count": null,
   "metadata": {},
   "outputs": [],
   "source": []
  },
  {
   "cell_type": "markdown",
   "metadata": {},
   "source": [
    "### Clasificación"
   ]
  },
  {
   "cell_type": "markdown",
   "metadata": {},
   "source": [
    "En este apartado vas a probar diferentes configuraciones (número de atributos, qué atributos, combinaciones de atributos...) para clasificar los datos de test en base a los de entrenamiento. El objetivo es conseguir el mayor porcentaje de acierto que puedas a la hora de clasificar los datos de test.\n",
    "\n",
    "Puedes elegir con cuántas características quieres entrenar, si quieres cambiarlas de espacio (por ejemplo con el PCA) y cualquier otra cosa que consideres.\n",
    "\n",
    "Lo único que no es adaptable es el clasificador a utilizar. En este caso vamos a utilizar vecinos más cercanos con número de vecinos igual a 3. Para usar este clasificador, yo te doy la función clasifica. Esta función recibe 4 parámetros (en este orden):\n",
    "* Conjunto de datos de entrenamiento (que incluye los atributos (originales o modificados) seleccionados\n",
    "* Clases del conjunto de entrenaniento (para cada dato, a qué clase pertenece)\n",
    "* Conjunto de datos de test (con exactamente los mismos atributos que el conjunto de entrenamiento)\n",
    "* Clases del conjunto de test (sólo se utiliza para comprobar el porcentaje de aciertos)\n",
    "\n",
    "La función devuelve el porcentaje de acierto sobre la clasificación de los datos de test"
   ]
  },
  {
   "cell_type": "code",
   "execution_count": null,
   "metadata": {},
   "outputs": [],
   "source": [
    "from sklearn import neighbors\n",
    "\n",
    "def clasifica(train,trainClass,test,testClass):\n",
    "    numVecinos=3\n",
    "    clasificador = neighbors.KNeighborsClassifier(numVecinos)\n",
    "    clasificador.fit(train, trainClass)\n",
    "    salida = clasificador.predict(test)\n",
    "    aciertos=salida==testClass\n",
    "    return float(np.sum(aciertos))/len(aciertos)*100\n",
    "    "
   ]
  },
  {
   "cell_type": "markdown",
   "metadata": {},
   "source": [
    "Debes probar al menos 3 configuraciones distintas y para cada una mostrar el porcentaje de acierto que obtienes\n",
    "\n",
    "Configuración 1"
   ]
  },
  {
   "cell_type": "code",
   "execution_count": null,
   "metadata": {},
   "outputs": [],
   "source": []
  },
  {
   "cell_type": "markdown",
   "metadata": {},
   "source": [
    "Configuración 2"
   ]
  },
  {
   "cell_type": "code",
   "execution_count": null,
   "metadata": {
    "collapsed": true
   },
   "outputs": [],
   "source": []
  },
  {
   "cell_type": "markdown",
   "metadata": {},
   "source": [
    "Configuración 3"
   ]
  },
  {
   "cell_type": "code",
   "execution_count": null,
   "metadata": {
    "collapsed": true
   },
   "outputs": [],
   "source": []
  },
  {
   "cell_type": "markdown",
   "metadata": {},
   "source": [
    "Finalmente, vas a mostrar con dos gráficos los resultados que has obtenido.\n",
    "\n",
    "En el primero de ellos debes utilizar la configuración con la que hayas conseguido un mayor porcentaje de aciertos en test. El color de cada uno de los puntos del conjunto de test, debe indicar la clase que ha predicho el clasificador"
   ]
  },
  {
   "cell_type": "code",
   "execution_count": null,
   "metadata": {
    "collapsed": true
   },
   "outputs": [],
   "source": []
  },
  {
   "cell_type": "markdown",
   "metadata": {},
   "source": [
    "El segundo gráfico va a mostrar los mismos puntos del conjunto de test, pero en este caso vas a colorear en verde aquellos puntos que el clasificador haya acertado la clase, y en rojo los que haya predicho una clase diferente a la clase real"
   ]
  },
  {
   "cell_type": "code",
   "execution_count": null,
   "metadata": {
    "collapsed": true
   },
   "outputs": [],
   "source": []
  }
 ],
 "metadata": {
  "anaconda-cloud": {},
  "kernelspec": {
   "display_name": "Python [conda env:py37machlearn] *",
   "language": "python",
   "name": "conda-env-py37machlearn-py"
  },
  "language_info": {
   "codemirror_mode": {
    "name": "ipython",
    "version": 3
   },
   "file_extension": ".py",
   "mimetype": "text/x-python",
   "name": "python",
   "nbconvert_exporter": "python",
   "pygments_lexer": "ipython3",
   "version": "3.7.4"
  }
 },
 "nbformat": 4,
 "nbformat_minor": 1
}
