{
 "cells": [
  {
   "cell_type": "markdown",
   "metadata": {},
   "source": [
    "# Análisis de Datos con pandas (I)\n",
    "\n",
    "En esta primera introducción a pandas vamos a implementar unos ejemplos de análisis de datos con un dataset muy sencillo (y muy típico para el aprendizaje) que contiene la información de los datos del Titanic.\n",
    "\n",
    "Una vez importado el módulo pandas, vamos a echar un vistazo al dataset titanic: cuántas filas tiene, cuántas columnas, qué indica cada columna, etc."
   ]
  },
  {
   "cell_type": "code",
   "execution_count": null,
   "metadata": {},
   "outputs": [],
   "source": [
    "import pandas as pd"
   ]
  },
  {
   "cell_type": "code",
   "execution_count": null,
   "metadata": {},
   "outputs": [],
   "source": [
    "t = pd.read_csv('titanic.csv')\n"
   ]
  },
  {
   "cell_type": "code",
   "execution_count": null,
   "metadata": {},
   "outputs": [],
   "source": [
    "type(t['Age'])"
   ]
  },
  {
   "cell_type": "code",
   "execution_count": null,
   "metadata": {},
   "outputs": [],
   "source": []
  },
  {
   "cell_type": "markdown",
   "metadata": {},
   "source": [
    "A continuación puedes leer una descripción de cada una de las columnas que forman parte del dataset\n",
    "\n",
    "-\tPassengerId: identificador del pasajero\n",
    "-\tSurvided: superviviente. 0 (no superviviente); 1 (superviviente)\n",
    "-\tPclass: clase del pasajero. 1 (primera clase); 2 (segunda clase); 3 (tercera clase)\n",
    "-\tName: Nombre del pasajero\n",
    "-\tSex: Sexo del pasajero\n",
    "-\tAge: Edad del pasajero\n",
    "-\tSibSp: Número de hermanos / cónyuge embarcados\n",
    "-\tParch: Número de padres / hijos embarcados\n",
    "-\tTicket: Número de ticket del pasajero\n",
    "-\tCabin: Cabina del pasajero\n",
    "-\tEmbarked: Puerto de embarque. C (Cherbourg); Q (Queenstown); S (Southhampton)\n"
   ]
  },
  {
   "cell_type": "markdown",
   "metadata": {},
   "source": [
    "Vamos a comenzar con al primera exploración de los datos"
   ]
  },
  {
   "cell_type": "markdown",
   "metadata": {},
   "source": [
    "Muestra el nombre de los 10 primeros pasajeros que aparezcan en el dataset. A continuación, muestra tamién el sexo y la edad. Por último, realiza la misma operación pero con los 10 últimos pasajeros"
   ]
  },
  {
   "cell_type": "code",
   "execution_count": null,
   "metadata": {},
   "outputs": [],
   "source": []
  },
  {
   "cell_type": "code",
   "execution_count": null,
   "metadata": {},
   "outputs": [],
   "source": []
  },
  {
   "cell_type": "code",
   "execution_count": null,
   "metadata": {},
   "outputs": [],
   "source": []
  },
  {
   "cell_type": "code",
   "execution_count": null,
   "metadata": {},
   "outputs": [],
   "source": []
  },
  {
   "cell_type": "markdown",
   "metadata": {},
   "source": [
    "Para comenzar a coger práctica, vamos a manejar la indexación booleana. Mostrar el nombre, sexo y edad de los pasajeros mayores de 60 años (22 en total)."
   ]
  },
  {
   "cell_type": "code",
   "execution_count": null,
   "metadata": {},
   "outputs": [],
   "source": []
  },
  {
   "cell_type": "markdown",
   "metadata": {},
   "source": [
    "Obtener un listado de las mujeres que viajaron en primera clase (94 en total)."
   ]
  },
  {
   "cell_type": "code",
   "execution_count": null,
   "metadata": {},
   "outputs": [],
   "source": []
  },
  {
   "cell_type": "markdown",
   "metadata": {},
   "source": [
    "Para facilitar el procesado, vamos a cambiar el contenido de la columna Sex: los ‘male’ van a pasar a ser ‘m’ y los female van a pasar a ser ‘f’. Crear una función que reciba un parámetro de entrada y devuelva el carácter ‘m’ si la entrada es ‘male’ o ‘f’ si la entrada es ‘female’. Utilizar la función apply para cmabiar el dataset"
   ]
  },
  {
   "cell_type": "code",
   "execution_count": null,
   "metadata": {},
   "outputs": [],
   "source": [
    "def cambiar(x):"
   ]
  },
  {
   "cell_type": "markdown",
   "metadata": {
    "collapsed": true
   },
   "source": [
    "Calcular la edad media de los hombre y de las mujeres. Calcular la edad máxima de hombres y mujeres. "
   ]
  },
  {
   "cell_type": "code",
   "execution_count": null,
   "metadata": {},
   "outputs": [],
   "source": []
  },
  {
   "cell_type": "code",
   "execution_count": null,
   "metadata": {},
   "outputs": [],
   "source": []
  },
  {
   "cell_type": "markdown",
   "metadata": {},
   "source": [
    "Queremos saber desde qué puerto (C, Q o S) era desde el que se montaba un mayor número de pasajeros. Mostar, además el número de embarques de cada clase en cada puerto. "
   ]
  },
  {
   "cell_type": "code",
   "execution_count": null,
   "metadata": {},
   "outputs": [],
   "source": []
  },
  {
   "cell_type": "code",
   "execution_count": null,
   "metadata": {},
   "outputs": [],
   "source": []
  },
  {
   "cell_type": "code",
   "execution_count": null,
   "metadata": {},
   "outputs": [],
   "source": []
  },
  {
   "cell_type": "markdown",
   "metadata": {},
   "source": [
    "Queremos conocer cuánto costaban los tickets del Titanic. Para ello, calcular la tarifa media de los pasajes. A continiación, mostar la media de las tarifas en función de la clase. ¿Cuánto costaba de media un pasaje de primera clase? ¿Y de segunda? ¿Y de tercera? "
   ]
  },
  {
   "cell_type": "code",
   "execution_count": null,
   "metadata": {},
   "outputs": [],
   "source": []
  },
  {
   "cell_type": "code",
   "execution_count": null,
   "metadata": {},
   "outputs": [],
   "source": []
  },
  {
   "cell_type": "markdown",
   "metadata": {},
   "source": [
    "¿Murió mucha gente en el Titanic? ¿Es cierto que los botes salvavidas se reservaron para los pasajeros de primera clase? Y eso de primero niños y mujeres, ¿es cierto? Para ello, calcula, en primer lugar, el porcentaje de pasajeros que se salvaron. A continuación obtén el porcentaje de pasajeros que se salvaron de cada clase. Por último, el porcentaje de mujeres y de hombres que se salvaron."
   ]
  },
  {
   "cell_type": "code",
   "execution_count": null,
   "metadata": {},
   "outputs": [],
   "source": []
  },
  {
   "cell_type": "code",
   "execution_count": null,
   "metadata": {},
   "outputs": [],
   "source": []
  },
  {
   "cell_type": "code",
   "execution_count": null,
   "metadata": {},
   "outputs": [],
   "source": []
  }
 ],
 "metadata": {
  "anaconda-cloud": {},
  "kernelspec": {
   "display_name": "Python [conda env:py37machlearn]",
   "language": "python",
   "name": "conda-env-py37machlearn-py"
  },
  "language_info": {
   "codemirror_mode": {
    "name": "ipython",
    "version": 3
   },
   "file_extension": ".py",
   "mimetype": "text/x-python",
   "name": "python",
   "nbconvert_exporter": "python",
   "pygments_lexer": "ipython3",
   "version": "3.7.4"
  }
 },
 "nbformat": 4,
 "nbformat_minor": 1
}
