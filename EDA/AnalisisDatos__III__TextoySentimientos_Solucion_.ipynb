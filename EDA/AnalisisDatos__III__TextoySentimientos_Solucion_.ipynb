{
 "cells": [
  {
   "cell_type": "markdown",
   "metadata": {},
   "source": [
    "# Análisis de Datos (III): extrayendo vocabulario para clasificar textos\n",
    "\n",
    "En esta práctica vamos a poner en práctica todo lo aprendido con pandas, numpy y hasta con expresiones regulares. El objetivo de la práctica es tratar de extraer un conjunto de palabras (vocabulario) que nos permitan clasificar (de una manera muy sencilla) si una crítica o review de una película es positiva o negativa sin siquiera leer el texto.\n",
    "\n",
    "Para ello, os proponemos un conjunto de 5000 críticas de películas del portal imdb. Cada una de estas críticas está previamente catalogada como positiva (sentiment = 1) o negativa (sentiment = 0). El hecho de que tengamos conocimiento de qué tipo de crítica es (positiva o negativa) nos va a permitir crear un pequeño y simple clasificador de críticas que luego podremos evaluar. \n",
    "\n",
    "Los pasos que vamos a dar son los siguientes:\n",
    "- Importar el conjunto de críticas en un DataFrame. \n",
    "- \"Limpiar\" los comentarios para tratar de dejar todos ellos en un mismo formato: todo en minúsculas, sin caracteres especiales, etc.\n",
    "- Separar el conjunto de críticas en un conjunto de entrenamiento (alrededor del 80% de las muestras) y un conjunto de test (alrededor del 20% de las muestras)\n",
    "- Extrar dos diccionarios de palabras: un diccionario de palabras \"positivas\" y un diccionario de palabras \"negativas\". A partir de estos diccionarios crearemos un DataFrame vocabulario que nos ayudará a clasificar nuevas muestras\n",
    "- A partir de un comentario de test, extraeremos el diccionario de dicho comentario, lo \"combinaremos\" con el vocabulario y veremos si tiene más palabras \"positivas\" o \"negativas\". En función del número de palabras lo clasificaremos como comentario positivo o comentario negativo"
   ]
  },
  {
   "cell_type": "code",
   "execution_count": 1,
   "metadata": {},
   "outputs": [],
   "source": [
    "import pandas as pd\n",
    "import re\n",
    "import numpy as np"
   ]
  },
  {
   "cell_type": "markdown",
   "metadata": {},
   "source": [
    "A continuación vamos a crar el DataFrame comentarios. Echa un vistazo al número de elementos y columnas que tiene, cuáles son las 5 primeras filas, etc."
   ]
  },
  {
   "cell_type": "code",
   "execution_count": 2,
   "metadata": {},
   "outputs": [],
   "source": [
    "df = pd.read_csv('comentarios.tsv', sep='\\t')"
   ]
  },
  {
   "cell_type": "code",
   "execution_count": 3,
   "metadata": {},
   "outputs": [
    {
     "data": {
      "text/html": [
       "<div>\n",
       "<style scoped>\n",
       "    .dataframe tbody tr th:only-of-type {\n",
       "        vertical-align: middle;\n",
       "    }\n",
       "\n",
       "    .dataframe tbody tr th {\n",
       "        vertical-align: top;\n",
       "    }\n",
       "\n",
       "    .dataframe thead th {\n",
       "        text-align: right;\n",
       "    }\n",
       "</style>\n",
       "<table border=\"1\" class=\"dataframe\">\n",
       "  <thead>\n",
       "    <tr style=\"text-align: right;\">\n",
       "      <th></th>\n",
       "      <th>id</th>\n",
       "      <th>sentiment</th>\n",
       "      <th>review</th>\n",
       "    </tr>\n",
       "  </thead>\n",
       "  <tbody>\n",
       "    <tr>\n",
       "      <td>0</td>\n",
       "      <td>5814_8</td>\n",
       "      <td>1</td>\n",
       "      <td>With all this stuff going down at the moment w...</td>\n",
       "    </tr>\n",
       "    <tr>\n",
       "      <td>1</td>\n",
       "      <td>2381_9</td>\n",
       "      <td>1</td>\n",
       "      <td>\\The Classic War of the Worlds\\\" by Timothy Hi...</td>\n",
       "    </tr>\n",
       "    <tr>\n",
       "      <td>2</td>\n",
       "      <td>7759_3</td>\n",
       "      <td>0</td>\n",
       "      <td>The film starts with a manager (Nicholas Bell)...</td>\n",
       "    </tr>\n",
       "    <tr>\n",
       "      <td>3</td>\n",
       "      <td>3630_4</td>\n",
       "      <td>0</td>\n",
       "      <td>It must be assumed that those who praised this...</td>\n",
       "    </tr>\n",
       "    <tr>\n",
       "      <td>4</td>\n",
       "      <td>9495_8</td>\n",
       "      <td>1</td>\n",
       "      <td>Superbly trashy and wondrously unpretentious 8...</td>\n",
       "    </tr>\n",
       "  </tbody>\n",
       "</table>\n",
       "</div>"
      ],
      "text/plain": [
       "       id  sentiment                                             review\n",
       "0  5814_8          1  With all this stuff going down at the moment w...\n",
       "1  2381_9          1  \\The Classic War of the Worlds\\\" by Timothy Hi...\n",
       "2  7759_3          0  The film starts with a manager (Nicholas Bell)...\n",
       "3  3630_4          0  It must be assumed that those who praised this...\n",
       "4  9495_8          1  Superbly trashy and wondrously unpretentious 8..."
      ]
     },
     "execution_count": 3,
     "metadata": {},
     "output_type": "execute_result"
    }
   ],
   "source": [
    "df.head()"
   ]
  },
  {
   "cell_type": "markdown",
   "metadata": {},
   "source": [
    "Cuenta el número de comentarios positivos y negativos. ¿Podemos decir que el número de críticas está \"balanceado\" (hay un número parecido de comentraios positivos y negativos)?"
   ]
  },
  {
   "cell_type": "code",
   "execution_count": 4,
   "metadata": {},
   "outputs": [
    {
     "data": {
      "text/plain": [
       "2483"
      ]
     },
     "execution_count": 4,
     "metadata": {},
     "output_type": "execute_result"
    }
   ],
   "source": [
    "df[df.sentiment==0].id.count()"
   ]
  },
  {
   "cell_type": "code",
   "execution_count": 5,
   "metadata": {},
   "outputs": [
    {
     "data": {
      "text/plain": [
       "2517"
      ]
     },
     "execution_count": 5,
     "metadata": {},
     "output_type": "execute_result"
    }
   ],
   "source": [
    "df[df.sentiment==1].id.count()"
   ]
  },
  {
   "cell_type": "markdown",
   "metadata": {},
   "source": [
    "### Limpieza de datos\n",
    "\n",
    "Vamos a comenzar con una pequeña limpieza de los datos para crear un conjunto de palabras lo suficientemente bueno. Principalmente vamos a:\n",
    "- eliminar cualquier cosa que no sea una letra mayúscula o minúscula (sustituiremos cada caracter especial por un espacio en blanco\n",
    "- pasar todo a minúsculas\n",
    "- dividir el texto en una lista de palabras\n",
    "- eliminar aquellas palabras de longitud  cero\n",
    "- eliminar aquellas palabras que forman parte de la lista de stop_words: palabras que, por la cantidad de veces que se usan, no aportan nada de informacion"
   ]
  },
  {
   "cell_type": "markdown",
   "metadata": {},
   "source": [
    "Crea una función procesa_comentario que reciba como parámetro de entrada un comentario y devuelva un listado de palabras \"limpias\".\n",
    "\n",
    "- Para eliminar cualquier cosa que no sea una letra, utiliza la función re.sub. Esta función reciba 3 parámetros de entrada: la expresión regular que tiene que buscar para eliminar; la cadena de caracteres por las que va a eliminar cada match de la expresión regular; y el string donde va a trabajar la función. \n",
    "- Para pasar todo a minúsculas existe la función lower\n",
    "- Para dividir un texto en un listado de palabras existe la función split\n",
    "- Para eliminar palabras de una lista puedes utilizar la función filter"
   ]
  },
  {
   "cell_type": "code",
   "execution_count": 6,
   "metadata": {},
   "outputs": [],
   "source": [
    "expresion_regular = re.compile('[^a-zA-Z]')"
   ]
  },
  {
   "cell_type": "code",
   "execution_count": 7,
   "metadata": {},
   "outputs": [],
   "source": [
    "lista_stop = ['a','about','above','after','again','against','all','am','an','and','any','are','arent','as','at','be','because','been','before','being',\n",
    "'below','between','both','but','by','cant','cannot','could','couldnt','did','didnt','do','does','doesnt','doing','dont','down','during','each',\n",
    "'few','for','from','further','had','hadnt','has','hasnt','have','havent','having','he','hed','hell','hes','her','here',\n",
    "'heres','hers','herself','him','himself','his','how','hows','i','id','ill','im','ive','if','in','into','is','isnt','it',\n",
    "'its','its','itself','lets','me','more','most','mustnt','my','myself','no','nor','not','of','off','on','once','only','or',\n",
    "'other','ought','our','ours','ourselves','out','over','own','same','shant','she','shed','shell','shes','should','shouldnt',\n",
    "'so','some','such','than','that','thats','the','their','theirs','them','themselves','then','there','theres','these','they','theyd',\n",
    "'theyll','theyre','theyve','this','thos','through','to','too','under','until','up','very','was','wasnt','we','wed','well',\n",
    "'were','weve','were','werent','what','whats','when','whens','where','wheres','which','while','who','whos','whom','why',\n",
    "'whys','with','wont','would','wouldnt','you','youd','youll','youre','youve','your','yours','yourself','yourselves']"
   ]
  },
  {
   "cell_type": "code",
   "execution_count": 8,
   "metadata": {},
   "outputs": [],
   "source": [
    "def procesa_comentario(comentario):\n",
    "    comentario = re.sub(expresion_regular, ' ', comentario)\n",
    "    comentario = comentario.lower()\n",
    "    comentario = comentario.split(\" \")\n",
    "    comentario = filter(lambda x: len(x)>0, comentario)\n",
    "    comentario = filter(lambda x: x not in lista_stop, comentario)\n",
    "    return comentario"
   ]
  },
  {
   "cell_type": "markdown",
   "metadata": {},
   "source": [
    "Modifica el DataFrame comentarios de forma que la columna review deje de ser un texto para convertirse en un listado de palabras. ¿Puedes hacer esto sin estructuras iterativas? Piensa en la función apply"
   ]
  },
  {
   "cell_type": "code",
   "execution_count": 9,
   "metadata": {},
   "outputs": [
    {
     "data": {
      "text/html": [
       "<div>\n",
       "<style scoped>\n",
       "    .dataframe tbody tr th:only-of-type {\n",
       "        vertical-align: middle;\n",
       "    }\n",
       "\n",
       "    .dataframe tbody tr th {\n",
       "        vertical-align: top;\n",
       "    }\n",
       "\n",
       "    .dataframe thead th {\n",
       "        text-align: right;\n",
       "    }\n",
       "</style>\n",
       "<table border=\"1\" class=\"dataframe\">\n",
       "  <thead>\n",
       "    <tr style=\"text-align: right;\">\n",
       "      <th></th>\n",
       "      <th>id</th>\n",
       "      <th>sentiment</th>\n",
       "      <th>review</th>\n",
       "    </tr>\n",
       "  </thead>\n",
       "  <tbody>\n",
       "    <tr>\n",
       "      <td>0</td>\n",
       "      <td>5814_8</td>\n",
       "      <td>1</td>\n",
       "      <td>&lt;filter object at 0x0000017FF5A19548&gt;</td>\n",
       "    </tr>\n",
       "    <tr>\n",
       "      <td>1</td>\n",
       "      <td>2381_9</td>\n",
       "      <td>1</td>\n",
       "      <td>&lt;filter object at 0x0000017FF5A1EC48&gt;</td>\n",
       "    </tr>\n",
       "    <tr>\n",
       "      <td>2</td>\n",
       "      <td>7759_3</td>\n",
       "      <td>0</td>\n",
       "      <td>&lt;filter object at 0x0000017FF5A27A48&gt;</td>\n",
       "    </tr>\n",
       "    <tr>\n",
       "      <td>3</td>\n",
       "      <td>3630_4</td>\n",
       "      <td>0</td>\n",
       "      <td>&lt;filter object at 0x0000017FF5A2D788&gt;</td>\n",
       "    </tr>\n",
       "    <tr>\n",
       "      <td>4</td>\n",
       "      <td>9495_8</td>\n",
       "      <td>1</td>\n",
       "      <td>&lt;filter object at 0x0000017FF5A33408&gt;</td>\n",
       "    </tr>\n",
       "    <tr>\n",
       "      <td>...</td>\n",
       "      <td>...</td>\n",
       "      <td>...</td>\n",
       "      <td>...</td>\n",
       "    </tr>\n",
       "    <tr>\n",
       "      <td>4995</td>\n",
       "      <td>3720_2</td>\n",
       "      <td>0</td>\n",
       "      <td>&lt;filter object at 0x0000017FFB3CD5C8&gt;</td>\n",
       "    </tr>\n",
       "    <tr>\n",
       "      <td>4996</td>\n",
       "      <td>4229_10</td>\n",
       "      <td>1</td>\n",
       "      <td>&lt;filter object at 0x0000017FFB3D06C8&gt;</td>\n",
       "    </tr>\n",
       "    <tr>\n",
       "      <td>4997</td>\n",
       "      <td>8042_3</td>\n",
       "      <td>0</td>\n",
       "      <td>&lt;filter object at 0x0000017FFB3D2808&gt;</td>\n",
       "    </tr>\n",
       "    <tr>\n",
       "      <td>4998</td>\n",
       "      <td>9669_9</td>\n",
       "      <td>1</td>\n",
       "      <td>&lt;filter object at 0x0000017FFB3D3F08&gt;</td>\n",
       "    </tr>\n",
       "    <tr>\n",
       "      <td>4999</td>\n",
       "      <td>11216_7</td>\n",
       "      <td>1</td>\n",
       "      <td>&lt;filter object at 0x0000017FFB3D6308&gt;</td>\n",
       "    </tr>\n",
       "  </tbody>\n",
       "</table>\n",
       "<p>5000 rows × 3 columns</p>\n",
       "</div>"
      ],
      "text/plain": [
       "           id  sentiment                                 review\n",
       "0      5814_8          1  <filter object at 0x0000017FF5A19548>\n",
       "1      2381_9          1  <filter object at 0x0000017FF5A1EC48>\n",
       "2      7759_3          0  <filter object at 0x0000017FF5A27A48>\n",
       "3      3630_4          0  <filter object at 0x0000017FF5A2D788>\n",
       "4      9495_8          1  <filter object at 0x0000017FF5A33408>\n",
       "...       ...        ...                                    ...\n",
       "4995   3720_2          0  <filter object at 0x0000017FFB3CD5C8>\n",
       "4996  4229_10          1  <filter object at 0x0000017FFB3D06C8>\n",
       "4997   8042_3          0  <filter object at 0x0000017FFB3D2808>\n",
       "4998   9669_9          1  <filter object at 0x0000017FFB3D3F08>\n",
       "4999  11216_7          1  <filter object at 0x0000017FFB3D6308>\n",
       "\n",
       "[5000 rows x 3 columns]"
      ]
     },
     "execution_count": 9,
     "metadata": {},
     "output_type": "execute_result"
    }
   ],
   "source": [
    "comentarios = df\n",
    "comentarios['review'] = comentarios['review'].apply(procesa_comentario)\n",
    "comentarios"
   ]
  },
  {
   "cell_type": "markdown",
   "metadata": {},
   "source": [
    "### División del DataFrame en train y set\n",
    "\n",
    "Vamos a dividir nuestra DataFrame en dos DataFrames de entrenamiento (4000 comentarios) y test (1000 comentarios). Para ello, vamos a seleccionar 4000 índices aleatorios entre 1 y 5000. Para esto, vamos a utilizar la función np.random.choice, que elige 4000 números entre 0 y 4999 sin repetición. A partir de dicho conjunto de índices, crea el conjunto índices test y divide el DataFrame comentarios en comentarios_train y comentarios_test"
   ]
  },
  {
   "cell_type": "code",
   "execution_count": 10,
   "metadata": {},
   "outputs": [],
   "source": [
    "np.random.seed(1234)\n",
    "indices_train =  np.random.choice(5000, 4000, replace = False)\n",
    "indices_test = [x for x in np.arange(5000) if x not in indices_train]\n",
    "comentarios_train = comentarios.iloc[indices_train,:]\n",
    "comentarios_test = comentarios.iloc[indices_test,:]"
   ]
  },
  {
   "cell_type": "markdown",
   "metadata": {},
   "source": [
    "### Creación de diccionarios\n",
    "\n",
    "Vamos a crear dos diccionarios: diccionario_negativo y diccionario_positivo. Cada diccionario se creará a partir de los comentarios negativos y positivos de entrenamiento, respectivamente. El diccionario deberá contener el conjunto de palabras que aparecen en todos los comentarios (como clave) y el número de veces que aparecen (como valor). "
   ]
  },
  {
   "cell_type": "code",
   "execution_count": 11,
   "metadata": {},
   "outputs": [],
   "source": [
    "diccionario_negativo = {}\n",
    "diccionario_positivo = {}\n",
    "for indice, fila in comentarios_train.iterrows():\n",
    "    for palabra in fila['review']:\n",
    "        if fila['sentiment'] == 0:\n",
    "            diccionario_negativo[palabra] = diccionario_negativo.get(palabra, 0) + 1\n",
    "        else:\n",
    "            diccionario_positivo[palabra] = diccionario_positivo.get(palabra, 0) + 1"
   ]
  },
  {
   "cell_type": "markdown",
   "metadata": {},
   "source": [
    "Una vez construidos los diccionarios vamos a convertilos cada uno de ellos en una Series. combinarlos en un DataFrame de tantas filas como palabras aparezcan en el conjunto de diccionarios y dos columnas: 'negativo' y 'positivo' que contienen el número de veces que dichas palabras aparecen en cada tipo de comentarios respectivamente. A este DataFrame le llamaremos vocabuario"
   ]
  },
  {
   "cell_type": "code",
   "execution_count": 12,
   "metadata": {},
   "outputs": [
    {
     "data": {
      "text/plain": [
       "br           7994\n",
       "s            5611\n",
       "film         3441\n",
       "movie        3087\n",
       "t            2195\n",
       "             ... \n",
       "dorday          1\n",
       "tooltime        1\n",
       "fuelling        1\n",
       "splashed        1\n",
       "wikipedia       1\n",
       "Name: positivo, Length: 25511, dtype: int64"
      ]
     },
     "execution_count": 12,
     "metadata": {},
     "output_type": "execute_result"
    }
   ],
   "source": [
    "serie_negativo = pd.Series(diccionario_negativo, name='negativo')\n",
    "#serie_negativo = serie_negativo.fillna(0)\n",
    "serie_positivo = pd.Series(diccionario_positivo, name='positivo')\n",
    "#serie_positivo = serie_positivo.fillna(0)\n",
    "serie_positivo.sort_values(ascending=False)"
   ]
  },
  {
   "cell_type": "markdown",
   "metadata": {},
   "source": [
    "Analiza las dos series utilizando la función describe. Observa que, por ejemplo, serie_negativo contiene 24193 palabras y que la media de veces que dicha palabra aparece es 10.72. Sin embargo, la desviación típica es muy alta y el valor de cuartil 3 es muy bajo: esto indica que hay muchas palabras que aparecen muy pocas veces. Lo mismo ocurre con serie_positivo.\n",
    "\n",
    "Para reducir el número de apariciones, vamos a eliminar de cada serie aquellas palabras que no aparezcan tantas veces como la media actual de apariciones. Observa que ahora nos quedamos con únciamente 3334  palabras \"negtivas\" y 3718 \"positivas\""
   ]
  },
  {
   "cell_type": "code",
   "execution_count": 14,
   "metadata": {},
   "outputs": [
    {
     "name": "stdout",
     "output_type": "stream",
     "text": [
      "count    24193.000000\n",
      "mean        10.720746\n",
      "std         87.631764\n",
      "min          1.000000\n",
      "25%          1.000000\n",
      "50%          2.000000\n",
      "75%          5.000000\n",
      "max       8672.000000\n",
      "Name: negativo, dtype: float64\n",
      "count    25511.000000\n",
      "mean        10.630003\n",
      "std         80.975071\n",
      "min          1.000000\n",
      "25%          1.000000\n",
      "50%          2.000000\n",
      "75%          5.000000\n",
      "max       7994.000000\n",
      "Name: positivo, dtype: float64\n"
     ]
    }
   ],
   "source": [
    "print (serie_negativo.describe())\n",
    "print (serie_positivo.describe())"
   ]
  },
  {
   "cell_type": "code",
   "execution_count": 15,
   "metadata": {},
   "outputs": [],
   "source": [
    "serie_positivo = serie_positivo[serie_positivo>serie_positivo.mean()]\n",
    "serie_negativo = serie_negativo[serie_negativo>serie_negativo.mean()]"
   ]
  },
  {
   "cell_type": "code",
   "execution_count": 16,
   "metadata": {},
   "outputs": [
    {
     "name": "stdout",
     "output_type": "stream",
     "text": [
      "count    3334.000000\n",
      "mean       62.474205\n",
      "std       229.352627\n",
      "min        11.000000\n",
      "25%        15.000000\n",
      "50%        23.000000\n",
      "75%        49.000000\n",
      "max      8672.000000\n",
      "Name: negativo, dtype: float64\n",
      "count    3718.000000\n",
      "mean       58.263852\n",
      "std       205.707662\n",
      "min        11.000000\n",
      "25%        15.000000\n",
      "50%        23.000000\n",
      "75%        47.000000\n",
      "max      7994.000000\n",
      "Name: positivo, dtype: float64\n"
     ]
    }
   ],
   "source": [
    "print (serie_negativo.describe())\n",
    "print (serie_positivo.describe())"
   ]
  },
  {
   "cell_type": "code",
   "execution_count": 17,
   "metadata": {},
   "outputs": [
    {
     "data": {
      "text/html": [
       "<div>\n",
       "<style scoped>\n",
       "    .dataframe tbody tr th:only-of-type {\n",
       "        vertical-align: middle;\n",
       "    }\n",
       "\n",
       "    .dataframe tbody tr th {\n",
       "        vertical-align: top;\n",
       "    }\n",
       "\n",
       "    .dataframe thead th {\n",
       "        text-align: right;\n",
       "    }\n",
       "</style>\n",
       "<table border=\"1\" class=\"dataframe\">\n",
       "  <thead>\n",
       "    <tr style=\"text-align: right;\">\n",
       "      <th></th>\n",
       "      <th>negativo</th>\n",
       "      <th>positivo</th>\n",
       "    </tr>\n",
       "  </thead>\n",
       "  <tbody>\n",
       "    <tr>\n",
       "      <td>first</td>\n",
       "      <td>697.0</td>\n",
       "      <td>751.0</td>\n",
       "    </tr>\n",
       "    <tr>\n",
       "      <td>m</td>\n",
       "      <td>531.0</td>\n",
       "      <td>307.0</td>\n",
       "    </tr>\n",
       "    <tr>\n",
       "      <td>dog</td>\n",
       "      <td>73.0</td>\n",
       "      <td>62.0</td>\n",
       "    </tr>\n",
       "    <tr>\n",
       "      <td>movie</td>\n",
       "      <td>3803.0</td>\n",
       "      <td>3087.0</td>\n",
       "    </tr>\n",
       "    <tr>\n",
       "      <td>find</td>\n",
       "      <td>281.0</td>\n",
       "      <td>412.0</td>\n",
       "    </tr>\n",
       "    <tr>\n",
       "      <td>...</td>\n",
       "      <td>...</td>\n",
       "      <td>...</td>\n",
       "    </tr>\n",
       "    <tr>\n",
       "      <td>amrita</td>\n",
       "      <td>0.0</td>\n",
       "      <td>17.0</td>\n",
       "    </tr>\n",
       "    <tr>\n",
       "      <td>dric</td>\n",
       "      <td>0.0</td>\n",
       "      <td>15.0</td>\n",
       "    </tr>\n",
       "    <tr>\n",
       "      <td>gandhi</td>\n",
       "      <td>0.0</td>\n",
       "      <td>11.0</td>\n",
       "    </tr>\n",
       "    <tr>\n",
       "      <td>lincoln</td>\n",
       "      <td>0.0</td>\n",
       "      <td>14.0</td>\n",
       "    </tr>\n",
       "    <tr>\n",
       "      <td>pimlico</td>\n",
       "      <td>0.0</td>\n",
       "      <td>14.0</td>\n",
       "    </tr>\n",
       "  </tbody>\n",
       "</table>\n",
       "<p>4423 rows × 2 columns</p>\n",
       "</div>"
      ],
      "text/plain": [
       "         negativo  positivo\n",
       "first       697.0     751.0\n",
       "m           531.0     307.0\n",
       "dog          73.0      62.0\n",
       "movie      3803.0    3087.0\n",
       "find        281.0     412.0\n",
       "...           ...       ...\n",
       "amrita        0.0      17.0\n",
       "dric          0.0      15.0\n",
       "gandhi        0.0      11.0\n",
       "lincoln       0.0      14.0\n",
       "pimlico       0.0      14.0\n",
       "\n",
       "[4423 rows x 2 columns]"
      ]
     },
     "execution_count": 17,
     "metadata": {},
     "output_type": "execute_result"
    }
   ],
   "source": [
    "vocabulario = pd.concat([serie_negativo, serie_positivo], axis = 1, sort=False)\n",
    "vocabulario = vocabulario.fillna(0)\n",
    "vocabulario"
   ]
  },
  {
   "cell_type": "markdown",
   "metadata": {},
   "source": [
    "Muestra por pantalla las 10 palabras \"negativas\" que más veces aparecen y las 10 palabras \"positivas\" que más veces aparecen"
   ]
  },
  {
   "cell_type": "code",
   "execution_count": 19,
   "metadata": {},
   "outputs": [
    {
     "name": "stdout",
     "output_type": "stream",
     "text": [
      "br       8672.0\n",
      "s        5242.0\n",
      "movie    3803.0\n",
      "t        3230.0\n",
      "film     3154.0\n",
      "one      2082.0\n",
      "like     1862.0\n",
      "just     1644.0\n",
      "can      1270.0\n",
      "even     1247.0\n",
      "Name: negativo, dtype: float64\n",
      "br       7994.0\n",
      "s        5611.0\n",
      "film     3441.0\n",
      "movie    3087.0\n",
      "t        2195.0\n",
      "one      2160.0\n",
      "like     1487.0\n",
      "good     1300.0\n",
      "just     1237.0\n",
      "can      1105.0\n",
      "Name: positivo, dtype: float64\n"
     ]
    }
   ],
   "source": [
    "print (vocabulario['negativo'].sort_values(ascending=False).head(10))\n",
    "print (vocabulario['positivo'].sort_values(ascending=False).head(10))"
   ]
  },
  {
   "cell_type": "markdown",
   "metadata": {},
   "source": [
    "Vamos a transformar la información cuantitativa (cuántas veces aparece cada palabra) en un porcentaje relativo. Es decir, dividir cada fila del DataFrame entre la suma del número de veces que dicha palabra aparece en comentarios \"positivos\" y \"negativos\". De esta manera tenemos algo parecido a la \"probabilidad\" de que dicha palabra aparezca en un comentario \"positivo\" en uno \"negativo\". Puedes utilizar la función apply"
   ]
  },
  {
   "cell_type": "code",
   "execution_count": 20,
   "metadata": {},
   "outputs": [
    {
     "data": {
      "text/html": [
       "<div>\n",
       "<style scoped>\n",
       "    .dataframe tbody tr th:only-of-type {\n",
       "        vertical-align: middle;\n",
       "    }\n",
       "\n",
       "    .dataframe tbody tr th {\n",
       "        vertical-align: top;\n",
       "    }\n",
       "\n",
       "    .dataframe thead th {\n",
       "        text-align: right;\n",
       "    }\n",
       "</style>\n",
       "<table border=\"1\" class=\"dataframe\">\n",
       "  <thead>\n",
       "    <tr style=\"text-align: right;\">\n",
       "      <th></th>\n",
       "      <th>negativo</th>\n",
       "      <th>positivo</th>\n",
       "    </tr>\n",
       "  </thead>\n",
       "  <tbody>\n",
       "    <tr>\n",
       "      <td>first</td>\n",
       "      <td>0.481354</td>\n",
       "      <td>0.518646</td>\n",
       "    </tr>\n",
       "    <tr>\n",
       "      <td>m</td>\n",
       "      <td>0.633652</td>\n",
       "      <td>0.366348</td>\n",
       "    </tr>\n",
       "    <tr>\n",
       "      <td>dog</td>\n",
       "      <td>0.540741</td>\n",
       "      <td>0.459259</td>\n",
       "    </tr>\n",
       "    <tr>\n",
       "      <td>movie</td>\n",
       "      <td>0.551959</td>\n",
       "      <td>0.448041</td>\n",
       "    </tr>\n",
       "    <tr>\n",
       "      <td>find</td>\n",
       "      <td>0.405483</td>\n",
       "      <td>0.594517</td>\n",
       "    </tr>\n",
       "    <tr>\n",
       "      <td>...</td>\n",
       "      <td>...</td>\n",
       "      <td>...</td>\n",
       "    </tr>\n",
       "    <tr>\n",
       "      <td>amrita</td>\n",
       "      <td>0.000000</td>\n",
       "      <td>1.000000</td>\n",
       "    </tr>\n",
       "    <tr>\n",
       "      <td>dric</td>\n",
       "      <td>0.000000</td>\n",
       "      <td>1.000000</td>\n",
       "    </tr>\n",
       "    <tr>\n",
       "      <td>gandhi</td>\n",
       "      <td>0.000000</td>\n",
       "      <td>1.000000</td>\n",
       "    </tr>\n",
       "    <tr>\n",
       "      <td>lincoln</td>\n",
       "      <td>0.000000</td>\n",
       "      <td>1.000000</td>\n",
       "    </tr>\n",
       "    <tr>\n",
       "      <td>pimlico</td>\n",
       "      <td>0.000000</td>\n",
       "      <td>1.000000</td>\n",
       "    </tr>\n",
       "  </tbody>\n",
       "</table>\n",
       "<p>4423 rows × 2 columns</p>\n",
       "</div>"
      ],
      "text/plain": [
       "         negativo  positivo\n",
       "first    0.481354  0.518646\n",
       "m        0.633652  0.366348\n",
       "dog      0.540741  0.459259\n",
       "movie    0.551959  0.448041\n",
       "find     0.405483  0.594517\n",
       "...           ...       ...\n",
       "amrita   0.000000  1.000000\n",
       "dric     0.000000  1.000000\n",
       "gandhi   0.000000  1.000000\n",
       "lincoln  0.000000  1.000000\n",
       "pimlico  0.000000  1.000000\n",
       "\n",
       "[4423 rows x 2 columns]"
      ]
     },
     "execution_count": 20,
     "metadata": {},
     "output_type": "execute_result"
    }
   ],
   "source": [
    "vocabulario = vocabulario.apply(lambda x: x/x.sum(),axis=1)\n",
    "vocabulario.fillna(0)\n",
    "vocabulario"
   ]
  },
  {
   "cell_type": "markdown",
   "metadata": {},
   "source": [
    "### Clasificación de nuevos comentarios\n",
    "\n",
    "A partir del DataFrame comentarios_test vamos a hacer lo siguiente. Para cada comentario de test:\n",
    "- obtener diccionario_test con las palabras de dicho comentario junto con el número de veces que aparece\n",
    "- transformar dicho diccionario en una Series\n",
    "- multiplicar la serie_test por cada columna del DataFrame. De esta manera, cada palabra que aparezca en serie_test se multiplicará por la probabilidad de ser positivo o negativo. \n",
    "- Sumar por columnas el resultado de la multiplicación anterior: esto nos dará un resultado final de probabilidades acumulada\n",
    "- Obtener el nombre de la columna que mayor suma ha obtenido: si es la columna \"negativo\" entonces predecimos que dicho comentario es de tipo sentiment=0; al contrario predeciremos sentiment=1;\n",
    "- Contar el número de acierots/fallos de nuestro clasificador"
   ]
  },
  {
   "cell_type": "code",
   "execution_count": 21,
   "metadata": {},
   "outputs": [],
   "source": [
    "\n",
    "num_aciertos = 0\n",
    "num_fallos = 0\n",
    "for indice, fila in comentarios_test.iterrows():\n",
    "    diccionario_test = {}\n",
    "    for palabra in fila['review']:\n",
    "        diccionario_test[palabra] = diccionario_test.get(palabra, 0) + 1\n",
    "    serie_test = pd.Series(diccionario_test)\n",
    "    prediccion = vocabulario.multiply(serie_test, axis=0).sum(axis = 0).idxmax()\n",
    "    if prediccion==\"positivo\" and fila['sentiment'] ==1:\n",
    "        num_aciertos +=1\n",
    "    elif prediccion==\"negativo\" and fila['sentiment'] ==0:\n",
    "        num_aciertos +=1\n",
    "    else:\n",
    "        num_fallos += 1"
   ]
  },
  {
   "cell_type": "code",
   "execution_count": 22,
   "metadata": {},
   "outputs": [
    {
     "name": "stdout",
     "output_type": "stream",
     "text": [
      "798\n",
      "202\n"
     ]
    }
   ],
   "source": [
    "print (num_aciertos)\n",
    "print (num_fallos)"
   ]
  },
  {
   "cell_type": "code",
   "execution_count": null,
   "metadata": {},
   "outputs": [],
   "source": []
  }
 ],
 "metadata": {
  "anaconda-cloud": {},
  "kernelspec": {
   "display_name": "Python [conda env:py37machlearn]",
   "language": "python",
   "name": "conda-env-py37machlearn-py"
  },
  "language_info": {
   "codemirror_mode": {
    "name": "ipython",
    "version": 3
   },
   "file_extension": ".py",
   "mimetype": "text/x-python",
   "name": "python",
   "nbconvert_exporter": "python",
   "pygments_lexer": "ipython3",
   "version": "3.7.4"
  }
 },
 "nbformat": 4,
 "nbformat_minor": 1
}
